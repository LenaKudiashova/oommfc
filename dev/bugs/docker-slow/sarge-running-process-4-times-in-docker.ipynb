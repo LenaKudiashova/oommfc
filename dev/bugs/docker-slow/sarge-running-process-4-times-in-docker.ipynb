{
 "cells": [
  {
   "cell_type": "code",
   "execution_count": 40,
   "metadata": {
    "collapsed": true,
    "deletable": true,
    "editable": true
   },
   "outputs": [],
   "source": [
    "import sarge"
   ]
  },
  {
   "cell_type": "code",
   "execution_count": 41,
   "metadata": {
    "collapsed": true,
    "deletable": true,
    "editable": true
   },
   "outputs": [],
   "source": [
    "command = \"docker run -v /Users/fangohr:/io joommf/oommf /usr/bin/tclsh /usr/local/oommf/oommf/oommf.tcl boxsi +fg example-macrospin/example-macrospin.mif -exitondone 1\""
   ]
  },
  {
   "cell_type": "code",
   "execution_count": 48,
   "metadata": {
    "collapsed": false,
    "deletable": true,
    "editable": true
   },
   "outputs": [
    {
     "name": "stdout",
     "output_type": "stream",
     "text": [
      "CPU times: user 3.69 ms, sys: 10 ms, total: 13.7 ms\n",
      "Wall time: 1.91 s\n"
     ]
    }
   ],
   "source": [
    "%time ret = sarge.capture_both(command)"
   ]
  },
  {
   "cell_type": "code",
   "execution_count": 49,
   "metadata": {
    "collapsed": false,
    "deletable": true,
    "editable": true
   },
   "outputs": [],
   "source": [
    "c = ret.commands[0]"
   ]
  },
  {
   "cell_type": "code",
   "execution_count": 50,
   "metadata": {
    "collapsed": false,
    "deletable": true,
    "editable": true
   },
   "outputs": [
    {
     "data": {
      "text/plain": [
       "'Start: \"/io/example-macrospin/example-macrospin.mif\"\\nOptions: -exitondone 1 -threads 4\\nBoxsi version 1.2.1.0\\nRunning on: 2e08d497d849\\nOS/machine: Linux/x86_64\\nUser: root\\tPID: 11\\nNumber of threads: 4\\nMesh geometry: 1 x 1 x 1 = 1 cells\\nCheckpoint file: /io/example-macrospin/example-macrospin.restart\\nBoxsi run end.\\n'"
      ]
     },
     "execution_count": 50,
     "metadata": {},
     "output_type": "execute_result"
    }
   ],
   "source": [
    "c.stdout.text"
   ]
  },
  {
   "cell_type": "code",
   "execution_count": 51,
   "metadata": {
    "collapsed": false,
    "deletable": true,
    "editable": true
   },
   "outputs": [
    {
     "data": {
      "text/plain": [
       "[Command('docker run -v /Users/fangohr:/io joommf/oommf /usr/bin/tclsh /usr/local/oommf/oommf/oommf.tcl boxsi +fg example-macrospin/example-macrospin.mif -exitondone 1')]"
      ]
     },
     "execution_count": 51,
     "metadata": {},
     "output_type": "execute_result"
    }
   ],
   "source": [
    "ret.commands"
   ]
  },
  {
   "cell_type": "code",
   "execution_count": 52,
   "metadata": {
    "collapsed": true,
    "deletable": true,
    "editable": true
   },
   "outputs": [],
   "source": [
    "import oommfc"
   ]
  },
  {
   "cell_type": "code",
   "execution_count": 53,
   "metadata": {
    "collapsed": false,
    "deletable": true,
    "editable": true
   },
   "outputs": [
    {
     "name": "stdout",
     "output_type": "stream",
     "text": [
      "2017/4/2 23:6: Calling OOMMF (example-macrospin/example-macrospin.mif) ... [11.7s]\n",
      "Duration of calling OOMMF through oommfc: 11.75s\n",
      "Cannot find OOMMFTCL path.\n",
      "oommfc.oommf.status(): {'host': False, 'docker': True}\n",
      "CPU times: user 19.9 ms, sys: 30.9 ms, total: 50.8 ms\n",
      "Wall time: 11.8 s\n"
     ]
    },
    {
     "data": {
      "text/plain": [
       "(11.753370761871338, '/Users/fangohr/example-macrospin/example-macrospin.mif')"
      ]
     },
     "execution_count": 53,
     "metadata": {},
     "output_type": "execute_result"
    }
   ],
   "source": [
    "%time oommfc.test_oommf_overhead()"
   ]
  },
  {
   "cell_type": "code",
   "execution_count": 39,
   "metadata": {
    "collapsed": false,
    "deletable": true,
    "editable": true
   },
   "outputs": [
    {
     "name": "stdout",
     "output_type": "stream",
     "text": [
      "/Users/fangohr\r\n"
     ]
    }
   ],
   "source": [
    "!pwd"
   ]
  },
  {
   "cell_type": "code",
   "execution_count": null,
   "metadata": {
    "collapsed": true,
    "deletable": true,
    "editable": true
   },
   "outputs": [],
   "source": []
  }
 ],
 "metadata": {
  "kernelspec": {
   "display_name": "Python 3",
   "language": "python",
   "name": "python3"
  },
  "language_info": {
   "codemirror_mode": {
    "name": "ipython",
    "version": 3
   },
   "file_extension": ".py",
   "mimetype": "text/x-python",
   "name": "python",
   "nbconvert_exporter": "python",
   "pygments_lexer": "ipython3",
   "version": "3.6.0"
  }
 },
 "nbformat": 4,
 "nbformat_minor": 2
}
