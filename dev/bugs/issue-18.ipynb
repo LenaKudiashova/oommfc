{
 "cells": [
  {
   "cell_type": "code",
   "execution_count": 1,
   "metadata": {
    "collapsed": false,
    "deletable": true,
    "editable": true
   },
   "outputs": [
    {
     "name": "stderr",
     "output_type": "stream",
     "text": [
      "/Users/fangohr/anaconda3/envs/joommf/lib/python3.6/site-packages/matplotlib/__init__.py:1401: UserWarning:  This call to matplotlib.use() has no effect\n",
      "because the backend has already been chosen;\n",
      "matplotlib.use() must be called *before* pylab, matplotlib.pyplot,\n",
      "or matplotlib.backends is imported for the first time.\n",
      "\n",
      "  warnings.warn(_use_error_msg)\n"
     ]
    }
   ],
   "source": [
    "%matplotlib inline\n",
    "import random\n",
    "import oommfc as oc\n",
    "import discretisedfield as df"
   ]
  },
  {
   "cell_type": "markdown",
   "metadata": {
    "deletable": true,
    "editable": true
   },
   "source": [
    "# Zeeman energy"
   ]
  },
  {
   "cell_type": "code",
   "execution_count": 7,
   "metadata": {
    "collapsed": false,
    "deletable": true,
    "editable": true
   },
   "outputs": [
    {
     "data": {
      "image/png": "[encoded data removed]",
      "text/plain": [
       "<matplotlib.figure.Figure at 0x11886ce10>"
      ]
     },
     "metadata": {},
     "output_type": "display_data"
    }
   ],
   "source": [
    "\n",
    "random.seed(9999)\n",
    "\n",
    "p1 = (0, 0, 0)\n",
    "p2 = (100e-9, 10e-9, 10e-9)\n",
    "cell = (10e-9, 10e-9, 10e-9)\n",
    "\n",
    "mesh = oc.Mesh(p1=p1, p2=p2, cell=cell)\n",
    "\n",
    "def random_m(pos):\n",
    "    mx = 2*random.random() - 1\n",
    "    my = 2*random.random() - 1\n",
    "    mz = 2*random.random() - 1\n",
    "    return (mx, my, mz)\n",
    "\n",
    "Ms = 8e6  # magnetisation saturation (A/m)\n",
    "random_field = df.Field(mesh, value=random_m, norm=Ms)\n",
    "random_field.plot_slice(\"y\", 0);"
   ]
  },
  {
   "cell_type": "code",
   "execution_count": 8,
   "metadata": {
    "collapsed": false,
    "deletable": true,
    "editable": true
   },
   "outputs": [],
   "source": [
    "H = (0, 0, 5e6)  # external magnetic field (A/m)\n",
    "zeeman = oc.Zeeman(H=H)\n",
    "\n",
    "system = oc.System(name=\"zeeman_tutorial\")\n",
    "\n",
    "gamma = 2.211e5  # gyrotropic ration\n",
    "alpha = 0.5  # Gilbert damping\n",
    "\n",
    "system.dynamics = oc.Precession(gamma=gamma) + oc.Damping(alpha=alpha)\n",
    "system.hamiltonian = zeeman\n",
    "system.m = random_field"
   ]
  },
  {
   "cell_type": "code",
   "execution_count": 9,
   "metadata": {
    "collapsed": false,
    "deletable": true,
    "editable": true
   },
   "outputs": [
    {
     "name": "stdout",
     "output_type": "stream",
     "text": [
      "2017/3/19 0:30: Calling OOMMF (zeeman_tutorial/zeeman_tutorial.mif) ... [1.3s]\n"
     ]
    },
    {
     "data": {
      "image/png": "[encoded data removed]",
      "text/plain": [
       "<matplotlib.figure.Figure at 0x1189084e0>"
      ]
     },
     "metadata": {},
     "output_type": "display_data"
    }
   ],
   "source": [
    "td = oc.TimeDriver()\n",
    "\n",
    "td.drive(system, t=0.1e-9, n=100)\n",
    "\n",
    "system.m.plot_slice(\"y\", 0);"
   ]
  },
  {
   "cell_type": "code",
   "execution_count": null,
   "metadata": {
    "collapsed": false
   },
   "outputs": [],
   "source": [
    "# What is the raw data for m?\n",
    "system.m.array"
   ]
  },
  {
   "cell_type": "code",
   "execution_count": null,
   "metadata": {
    "collapsed": false
   },
   "outputs": [],
   "source": [
    "system.m.array.mean(axis=0)/Ms"
   ]
  },
  {
   "cell_type": "code",
   "execution_count": null,
   "metadata": {
    "collapsed": false
   },
   "outputs": [],
   "source": [
    "system.dt['mz'][0:10]"
   ]
  },
  {
   "cell_type": "code",
   "execution_count": null,
   "metadata": {
    "collapsed": false,
    "deletable": true,
    "editable": true
   },
   "outputs": [],
   "source": [
    "system.dt.plot('t', 'mz', style='o-')"
   ]
  },
  {
   "cell_type": "markdown",
   "metadata": {
    "collapsed": true,
    "deletable": true,
    "editable": true
   },
   "source": [
    "I think we are plotting the *first* saved data point when calling `system.m.plot_slice`. We can work around the bug by increasing the integration time so that the system is already aligned at the first saved data point (say 1e-9s).\n",
    "\n",
    "Or we can stop it from appearing by using `n=1` in `td.drive(sytsem, t=0.1e-9, n=1)`. However, in the that case, the plot of $m_x(t)$ cannot be drawn (because we haven't saved enough data).\n",
    "\n",
    "It also appears that the bug appears only when we execute the cells in this notebook the second time (from the cell containing setting the random seed). Immediately after a notebook restart, all is working. (This may hint at a lost references when assigning the random field to `system.m`.)\n",
    "\n",
    "(Secondary bug, maybe in OOMMF: we should also save the initial condition!)."
   ]
  },
  {
   "cell_type": "code",
   "execution_count": null,
   "metadata": {
    "collapsed": false
   },
   "outputs": [],
   "source": []
  }
 ],
 "metadata": {
  "kernelspec": {
   "display_name": "Python 3",
   "language": "python",
   "name": "python3"
  },
  "language_info": {
   "codemirror_mode": {
    "name": "ipython",
    "version": 3
   },
   "file_extension": ".py",
   "mimetype": "text/x-python",
   "name": "python",
   "nbconvert_exporter": "python",
   "pygments_lexer": "ipython3",
   "version": "3.6.0"
  }
 },
 "nbformat": 4,
 "nbformat_minor": 2
}
