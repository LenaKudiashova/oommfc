{
 "cells": [
  {
   "cell_type": "markdown",
   "metadata": {},
   "source": [
    "# Micromagnetic model\n",
    "\n",
    "## Mesh\n",
    "\n",
    "The mesh is defined by three parameters:\n",
    "\n",
    "1. points `p1` and `p2` between which the mesh domain spans,\n",
    "2. discretisation cell size `cell`.\n",
    "\n",
    "There is also an optional `name` argument. For instance, if the mesh spans between `p1 = (0, 0, 0)` and `p2 = (100e-9, 100e-9, 10e-9)` and the discretisation cell is `cell = (5e-9, 5e-9, 5e-9)`, we create the mesh as:"
   ]
  },
  {
   "cell_type": "code",
   "execution_count": 1,
   "metadata": {
    "collapsed": false
   },
   "outputs": [],
   "source": [
    "import oommfc as oc\n",
    "\n",
    "mesh = oc.Mesh(p1=(0, 0, 0), p2=(100e-9, 100e-9, 10e-9), cell=(10e-9, 10e-9, 10e-9), name=\"mesh\")\n",
    "mesh"
   ]
  },
  {
   "cell_type": "markdown",
   "metadata": {},
   "source": [
    "The domain edge lengths in x, y, and z directions are:"
   ]
  },
  {
   "cell_type": "code",
   "execution_count": 2,
   "metadata": {
    "collapsed": false
   },
   "outputs": [
    {
     "data": {
      "text/plain": [
       "(1e-07, 1e-07, 1e-08)"
      ]
     },
     "execution_count": 2,
     "metadata": {},
     "output_type": "execute_result"
    }
   ],
   "source": [
    "mesh.l"
   ]
  },
  {
   "cell_type": "markdown",
   "metadata": {},
   "source": [
    "The number of cells in all three directions:"
   ]
  },
  {
   "cell_type": "code",
   "execution_count": 3,
   "metadata": {
    "collapsed": false
   },
   "outputs": [
    {
     "data": {
      "text/plain": [
       "(10, 10, 1)"
      ]
     },
     "execution_count": 3,
     "metadata": {},
     "output_type": "execute_result"
    }
   ],
   "source": [
    "mesh.n"
   ]
  },
  {
   "cell_type": "markdown",
   "metadata": {},
   "source": [
    "The centre point of the mesh:"
   ]
  },
  {
   "cell_type": "code",
   "execution_count": 4,
   "metadata": {
    "collapsed": false
   },
   "outputs": [
    {
     "data": {
      "text/plain": [
       "(5e-08, 5e-08, 5e-09)"
      ]
     },
     "execution_count": 4,
     "metadata": {},
     "output_type": "execute_result"
    }
   ],
   "source": [
    "mesh.centre"
   ]
  },
  {
   "cell_type": "markdown",
   "metadata": {},
   "source": [
    "To show the mesh domain and discretisation cell:"
   ]
  },
  {
   "cell_type": "code",
   "execution_count": 5,
   "metadata": {
    "collapsed": false
   },
   "outputs": [],
   "source": [
    "mesh"
   ]
  },
  {
   "cell_type": "markdown",
   "metadata": {},
   "source": [
    "If we want to iterate through all mesh coordinates, there is `coordinates` generator:"
   ]
  },
  {
   "cell_type": "code",
   "execution_count": 6,
   "metadata": {
    "collapsed": false
   },
   "outputs": [
    {
     "name": "stdout",
     "output_type": "stream",
     "text": [
      "(5e-09, 5e-09, 5e-09)\n",
      "(1.5000000000000002e-08, 5e-09, 5e-09)\n",
      "(2.5e-08, 5e-09, 5e-09)\n",
      "(3.5e-08, 5e-09, 5e-09)\n",
      "(4.5e-08, 5e-09, 5e-09)\n",
      "(5.5e-08, 5e-09, 5e-09)\n",
      "(6.5e-08, 5e-09, 5e-09)\n",
      "(7.5e-08, 5e-09, 5e-09)\n",
      "(8.500000000000001e-08, 5e-09, 5e-09)\n",
      "(9.5e-08, 5e-09, 5e-09)\n",
      "(5e-09, 1.5000000000000002e-08, 5e-09)\n",
      "(1.5000000000000002e-08, 1.5000000000000002e-08, 5e-09)\n",
      "(2.5e-08, 1.5000000000000002e-08, 5e-09)\n",
      "(3.5e-08, 1.5000000000000002e-08, 5e-09)\n",
      "(4.5e-08, 1.5000000000000002e-08, 5e-09)\n",
      "(5.5e-08, 1.5000000000000002e-08, 5e-09)\n",
      "(6.5e-08, 1.5000000000000002e-08, 5e-09)\n",
      "(7.5e-08, 1.5000000000000002e-08, 5e-09)\n",
      "(8.500000000000001e-08, 1.5000000000000002e-08, 5e-09)\n",
      "(9.5e-08, 1.5000000000000002e-08, 5e-09)\n",
      "(5e-09, 2.5e-08, 5e-09)\n",
      "(1.5000000000000002e-08, 2.5e-08, 5e-09)\n",
      "(2.5e-08, 2.5e-08, 5e-09)\n",
      "(3.5e-08, 2.5e-08, 5e-09)\n",
      "(4.5e-08, 2.5e-08, 5e-09)\n",
      "(5.5e-08, 2.5e-08, 5e-09)\n",
      "(6.5e-08, 2.5e-08, 5e-09)\n",
      "(7.5e-08, 2.5e-08, 5e-09)\n",
      "(8.500000000000001e-08, 2.5e-08, 5e-09)\n",
      "(9.5e-08, 2.5e-08, 5e-09)\n",
      "(5e-09, 3.5e-08, 5e-09)\n",
      "(1.5000000000000002e-08, 3.5e-08, 5e-09)\n",
      "(2.5e-08, 3.5e-08, 5e-09)\n",
      "(3.5e-08, 3.5e-08, 5e-09)\n",
      "(4.5e-08, 3.5e-08, 5e-09)\n",
      "(5.5e-08, 3.5e-08, 5e-09)\n",
      "(6.5e-08, 3.5e-08, 5e-09)\n",
      "(7.5e-08, 3.5e-08, 5e-09)\n",
      "(8.500000000000001e-08, 3.5e-08, 5e-09)\n",
      "(9.5e-08, 3.5e-08, 5e-09)\n",
      "(5e-09, 4.5e-08, 5e-09)\n",
      "(1.5000000000000002e-08, 4.5e-08, 5e-09)\n",
      "(2.5e-08, 4.5e-08, 5e-09)\n",
      "(3.5e-08, 4.5e-08, 5e-09)\n",
      "(4.5e-08, 4.5e-08, 5e-09)\n",
      "(5.5e-08, 4.5e-08, 5e-09)\n",
      "(6.5e-08, 4.5e-08, 5e-09)\n",
      "(7.5e-08, 4.5e-08, 5e-09)\n",
      "(8.500000000000001e-08, 4.5e-08, 5e-09)\n",
      "(9.5e-08, 4.5e-08, 5e-09)\n",
      "(5e-09, 5.5e-08, 5e-09)\n",
      "(1.5000000000000002e-08, 5.5e-08, 5e-09)\n",
      "(2.5e-08, 5.5e-08, 5e-09)\n",
      "(3.5e-08, 5.5e-08, 5e-09)\n",
      "(4.5e-08, 5.5e-08, 5e-09)\n",
      "(5.5e-08, 5.5e-08, 5e-09)\n",
      "(6.5e-08, 5.5e-08, 5e-09)\n",
      "(7.5e-08, 5.5e-08, 5e-09)\n",
      "(8.500000000000001e-08, 5.5e-08, 5e-09)\n",
      "(9.5e-08, 5.5e-08, 5e-09)\n",
      "(5e-09, 6.5e-08, 5e-09)\n",
      "(1.5000000000000002e-08, 6.5e-08, 5e-09)\n",
      "(2.5e-08, 6.5e-08, 5e-09)\n",
      "(3.5e-08, 6.5e-08, 5e-09)\n",
      "(4.5e-08, 6.5e-08, 5e-09)\n",
      "(5.5e-08, 6.5e-08, 5e-09)\n",
      "(6.5e-08, 6.5e-08, 5e-09)\n",
      "(7.5e-08, 6.5e-08, 5e-09)\n",
      "(8.500000000000001e-08, 6.5e-08, 5e-09)\n",
      "(9.5e-08, 6.5e-08, 5e-09)\n",
      "(5e-09, 7.5e-08, 5e-09)\n",
      "(1.5000000000000002e-08, 7.5e-08, 5e-09)\n",
      "(2.5e-08, 7.5e-08, 5e-09)\n",
      "(3.5e-08, 7.5e-08, 5e-09)\n",
      "(4.5e-08, 7.5e-08, 5e-09)\n",
      "(5.5e-08, 7.5e-08, 5e-09)\n",
      "(6.5e-08, 7.5e-08, 5e-09)\n",
      "(7.5e-08, 7.5e-08, 5e-09)\n",
      "(8.500000000000001e-08, 7.5e-08, 5e-09)\n",
      "(9.5e-08, 7.5e-08, 5e-09)\n",
      "(5e-09, 8.500000000000001e-08, 5e-09)\n",
      "(1.5000000000000002e-08, 8.500000000000001e-08, 5e-09)\n",
      "(2.5e-08, 8.500000000000001e-08, 5e-09)\n",
      "(3.5e-08, 8.500000000000001e-08, 5e-09)\n",
      "(4.5e-08, 8.500000000000001e-08, 5e-09)\n",
      "(5.5e-08, 8.500000000000001e-08, 5e-09)\n",
      "(6.5e-08, 8.500000000000001e-08, 5e-09)\n",
      "(7.5e-08, 8.500000000000001e-08, 5e-09)\n",
      "(8.500000000000001e-08, 8.500000000000001e-08, 5e-09)\n",
      "(9.5e-08, 8.500000000000001e-08, 5e-09)\n",
      "(5e-09, 9.5e-08, 5e-09)\n",
      "(1.5000000000000002e-08, 9.5e-08, 5e-09)\n",
      "(2.5e-08, 9.5e-08, 5e-09)\n",
      "(3.5e-08, 9.5e-08, 5e-09)\n",
      "(4.5e-08, 9.5e-08, 5e-09)\n",
      "(5.5e-08, 9.5e-08, 5e-09)\n",
      "(6.5e-08, 9.5e-08, 5e-09)\n",
      "(7.5e-08, 9.5e-08, 5e-09)\n",
      "(8.500000000000001e-08, 9.5e-08, 5e-09)\n",
      "(9.5e-08, 9.5e-08, 5e-09)\n"
     ]
    }
   ],
   "source": [
    "for coord in mesh.coordinates():\n",
    "    print(coord)"
   ]
  },
  {
   "cell_type": "markdown",
   "metadata": {},
   "source": [
    "## System"
   ]
  },
  {
   "cell_type": "markdown",
   "metadata": {},
   "source": [
    "The basic block of our micromagnetic model is the system object. It is fully defined if:\n",
    "\n",
    "1. Hamiltonian,\n",
    "2. dynamics equation,\n",
    "3. magnetisation.\n",
    "\n",
    "are provided. The system is then \"driven\" in phase space using particular drivers."
   ]
  },
  {
   "cell_type": "code",
   "execution_count": 7,
   "metadata": {
    "collapsed": false
   },
   "outputs": [],
   "source": [
    "system = oc.System(name=\"system\")"
   ]
  },
  {
   "cell_type": "markdown",
   "metadata": {},
   "source": [
    "## Hamiltonian"
   ]
  },
  {
   "cell_type": "code",
   "execution_count": 8,
   "metadata": {
    "collapsed": true
   },
   "outputs": [],
   "source": [
    "exchange = oc.Exchange(A=1e-12)"
   ]
  },
  {
   "cell_type": "code",
   "execution_count": 9,
   "metadata": {
    "collapsed": false
   },
   "outputs": [
    {
     "data": {
      "text/latex": [
       "$A [(\\nabla m_{x})^{2} + (\\nabla m_{y})^{2} + (\\nabla m_{z})^{2}]$"
      ],
      "text/plain": [
       "Exchange(A=1e-12)"
      ]
     },
     "execution_count": 9,
     "metadata": {},
     "output_type": "execute_result"
    }
   ],
   "source": [
    "exchange"
   ]
  },
  {
   "cell_type": "code",
   "execution_count": 10,
   "metadata": {
    "collapsed": false
   },
   "outputs": [
    {
     "data": {
      "text/plain": [
       "1e-12"
      ]
     },
     "execution_count": 10,
     "metadata": {},
     "output_type": "execute_result"
    }
   ],
   "source": [
    "exchange.A"
   ]
  },
  {
   "cell_type": "code",
   "execution_count": 11,
   "metadata": {
    "collapsed": false
   },
   "outputs": [
    {
     "data": {
      "text/plain": [
       "'Exchange(A=1e-12)'"
      ]
     },
     "execution_count": 11,
     "metadata": {},
     "output_type": "execute_result"
    }
   ],
   "source": [
    "repr(exchange)"
   ]
  },
  {
   "cell_type": "code",
   "execution_count": 12,
   "metadata": {
    "collapsed": false
   },
   "outputs": [
    {
     "data": {
      "text/plain": [
       "oommfc.hamiltonian.hamiltonian.Hamiltonian"
      ]
     },
     "execution_count": 12,
     "metadata": {},
     "output_type": "execute_result"
    }
   ],
   "source": [
    "hamiltonian = exchange + oc.Zeeman(H=(1e6, 0, 0))\n",
    "\n",
    "type(hamiltonian)"
   ]
  },
  {
   "cell_type": "code",
   "execution_count": 13,
   "metadata": {
    "collapsed": false
   },
   "outputs": [],
   "source": [
    "system.hamiltonian = hamiltonian"
   ]
  },
  {
   "cell_type": "code",
   "execution_count": 14,
   "metadata": {
    "collapsed": false
   },
   "outputs": [
    {
     "data": {
      "text/latex": [
       "$\\mathcal{H}=A [(\\nabla m_{x})^{2} + (\\nabla m_{y})^{2} + (\\nabla m_{z})^{2}]-\\mu_{0}M_\\text{s} \\mathbf{m} \\cdot \\mathbf{H}$"
      ],
      "text/plain": [
       "Exchange(A=1e-12) + Zeeman(H=(1000000.0, 0, 0))"
      ]
     },
     "execution_count": 14,
     "metadata": {},
     "output_type": "execute_result"
    }
   ],
   "source": [
    "system.hamiltonian"
   ]
  },
  {
   "cell_type": "code",
   "execution_count": 15,
   "metadata": {
    "collapsed": false
   },
   "outputs": [
    {
     "data": {
      "text/plain": [
       "1e-12"
      ]
     },
     "execution_count": 15,
     "metadata": {},
     "output_type": "execute_result"
    }
   ],
   "source": [
    "system.hamiltonian.exchange.A"
   ]
  },
  {
   "cell_type": "code",
   "execution_count": 16,
   "metadata": {
    "collapsed": false
   },
   "outputs": [
    {
     "data": {
      "text/plain": [
       "(1000000.0, 0, 0)"
      ]
     },
     "execution_count": 16,
     "metadata": {},
     "output_type": "execute_result"
    }
   ],
   "source": [
    "system.hamiltonian.zeeman.H"
   ]
  },
  {
   "cell_type": "code",
   "execution_count": 17,
   "metadata": {
    "collapsed": true
   },
   "outputs": [],
   "source": [
    "system.hamiltonian += oc.Demag(name=\"energy_term_name\")"
   ]
  },
  {
   "cell_type": "code",
   "execution_count": 18,
   "metadata": {
    "collapsed": false
   },
   "outputs": [
    {
     "data": {
      "text/latex": [
       "$-\\frac{1}{2}\\mu_{0}M_\\text{s}\\mathbf{m} \\cdot \\mathbf{H}_\\text{d}$"
      ],
      "text/plain": [
       "Demag()"
      ]
     },
     "execution_count": 18,
     "metadata": {},
     "output_type": "execute_result"
    }
   ],
   "source": [
    "system.hamiltonian.energy_term_name"
   ]
  },
  {
   "cell_type": "markdown",
   "metadata": {},
   "source": [
    "## Dynamics"
   ]
  },
  {
   "cell_type": "code",
   "execution_count": 19,
   "metadata": {
    "collapsed": true
   },
   "outputs": [],
   "source": [
    "system.dynamics = oc.Precession(gamma=2.211e5) + oc.Damping(alpha=0.1)"
   ]
  },
  {
   "cell_type": "code",
   "execution_count": 20,
   "metadata": {
    "collapsed": false
   },
   "outputs": [
    {
     "data": {
      "text/latex": [
       "$\\frac{\\partial \\mathbf{m}}{\\partial t}=-\\gamma \\mathbf{m} \\times \\mathbf{H}_\\text{eff}+\\alpha \\mathbf{m} \\times\\frac{\\partial \\mathbf{m}}{\\partial t}$"
      ],
      "text/plain": [
       "Precession(gamma=221100.0) + Damping(alpha=0.1)"
      ]
     },
     "execution_count": 20,
     "metadata": {},
     "output_type": "execute_result"
    }
   ],
   "source": [
    "system.dynamics"
   ]
  },
  {
   "cell_type": "markdown",
   "metadata": {},
   "source": [
    "## Magnetisation"
   ]
  },
  {
   "cell_type": "code",
   "execution_count": 21,
   "metadata": {
    "collapsed": true
   },
   "outputs": [],
   "source": [
    "import discretisedfield as df"
   ]
  },
  {
   "cell_type": "code",
   "execution_count": 22,
   "metadata": {
    "collapsed": false
   },
   "outputs": [],
   "source": [
    "Ms = 8e5\n",
    "m = df.Field(mesh, value=(1, 0, 1), norm=Ms, name=\"m\")"
   ]
  },
  {
   "cell_type": "code",
   "execution_count": 23,
   "metadata": {
    "collapsed": false
   },
   "outputs": [
    {
     "data": {
      "text/plain": [
       "Field(dim=3, name=\"m\")"
      ]
     },
     "execution_count": 23,
     "metadata": {},
     "output_type": "execute_result"
    }
   ],
   "source": [
    "m  # representation to be decided"
   ]
  },
  {
   "cell_type": "code",
   "execution_count": 24,
   "metadata": {
    "collapsed": false
   },
   "outputs": [
    {
     "data": {
      "text/plain": [
       "array([ 565685.42494924,       0.        ,  565685.42494924])"
      ]
     },
     "execution_count": 24,
     "metadata": {},
     "output_type": "execute_result"
    }
   ],
   "source": [
    "p = (50e-9, 50e-9, 5e-9)\n",
    "m(p)  # sampling"
   ]
  },
  {
   "cell_type": "code",
   "execution_count": 25,
   "metadata": {
    "collapsed": false
   },
   "outputs": [
    {
     "data": {
      "image/png": "[encoded data removed]",
      "text/plain": [
       "<matplotlib.figure.Figure at 0x7fef688d3240>"
      ]
     },
     "metadata": {},
     "output_type": "display_data"
    }
   ],
   "source": [
    "%matplotlib inline\n",
    "fig = m.plot_line_intersection(l=(100, 100, 10), l0=(0, 0, 0))"
   ]
  },
  {
   "cell_type": "code",
   "execution_count": 26,
   "metadata": {
    "collapsed": false
   },
   "outputs": [],
   "source": [
    "m.f = lambda pos: (pos[0]+pos[2]+1, pos[2], 0)"
   ]
  },
  {
   "cell_type": "code",
   "execution_count": 27,
   "metadata": {
    "collapsed": true
   },
   "outputs": [],
   "source": [
    "system.m = m"
   ]
  },
  {
   "cell_type": "markdown",
   "metadata": {},
   "source": [
    "## Drivers"
   ]
  },
  {
   "cell_type": "markdown",
   "metadata": {},
   "source": [
    "### MinDriver"
   ]
  },
  {
   "cell_type": "code",
   "execution_count": 28,
   "metadata": {
    "collapsed": false
   },
   "outputs": [],
   "source": [
    "md = oc.MinDriver()\n",
    "md.drive(system)"
   ]
  },
  {
   "cell_type": "code",
   "execution_count": 29,
   "metadata": {
    "collapsed": false
   },
   "outputs": [
    {
     "data": {
      "text/plain": [
       "(799861.70786876988, 2.9103830456733704e-13, 0.00016761849547198681)"
      ]
     },
     "execution_count": 29,
     "metadata": {},
     "output_type": "execute_result"
    }
   ],
   "source": [
    "system.m.average"
   ]
  },
  {
   "cell_type": "code",
   "execution_count": 30,
   "metadata": {
    "collapsed": false
   },
   "outputs": [
    {
     "data": {
      "image/png": "[encoded data removed]",
      "text/plain": [
       "<matplotlib.figure.Figure at 0x7fef687899b0>"
      ]
     },
     "metadata": {},
     "output_type": "display_data"
    }
   ],
   "source": [
    "fig = system.m.plot_slice(\"z\", 5e-9, xsize=6)"
   ]
  },
  {
   "cell_type": "code",
   "execution_count": 31,
   "metadata": {
    "collapsed": true
   },
   "outputs": [],
   "source": [
    "system.hamiltonian.zeeman.H = (0, 1e7, 0)"
   ]
  },
  {
   "cell_type": "code",
   "execution_count": 32,
   "metadata": {
    "collapsed": false
   },
   "outputs": [],
   "source": [
    "md.drive(system)"
   ]
  },
  {
   "cell_type": "code",
   "execution_count": 33,
   "metadata": {
    "collapsed": false
   },
   "outputs": [
    {
     "data": {
      "image/png": "[encoded data removed]",
      "text/plain": [
       "<matplotlib.figure.Figure at 0x7fef68686710>"
      ]
     },
     "metadata": {},
     "output_type": "display_data"
    }
   ],
   "source": [
    "fig = system.m.plot_slice(\"z\", 5e-9, xsize=6)"
   ]
  },
  {
   "cell_type": "markdown",
   "metadata": {},
   "source": [
    "### Time driver"
   ]
  },
  {
   "cell_type": "code",
   "execution_count": 34,
   "metadata": {
    "collapsed": false
   },
   "outputs": [],
   "source": [
    "system.hamiltonian += oc.UniaxialAnisotropy(K=5e3, u=(0, 0, 1))\n",
    "system.hamiltonian.zeeman.H = (1e6, 0, 0)"
   ]
  },
  {
   "cell_type": "code",
   "execution_count": 35,
   "metadata": {
    "collapsed": false
   },
   "outputs": [],
   "source": [
    "td = oc.TimeDriver()\n",
    "td.drive(system, t=0.2e-9, n=50)"
   ]
  },
  {
   "cell_type": "code",
   "execution_count": 36,
   "metadata": {
    "collapsed": false
   },
   "outputs": [
    {
     "data": {
      "image/png": "[encoded data removed]",
      "text/plain": [
       "<matplotlib.figure.Figure at 0x7fef699b94e0>"
      ]
     },
     "metadata": {},
     "output_type": "display_data"
    }
   ],
   "source": [
    "fig = system.m.plot_slice(\"z\", 5e-9, xsize=6)"
   ]
  },
  {
   "cell_type": "code",
   "execution_count": 37,
   "metadata": {
    "collapsed": false
   },
   "outputs": [
    {
     "data": {
      "text/html": [
       "<div>\n",
       "<table border=\"1\" class=\"dataframe\">\n",
       "  <thead>\n",
       "    <tr style=\"text-align: right;\">\n",
       "      <th></th>\n",
       "      <th>E</th>\n",
       "      <th>Ecount</th>\n",
       "      <th>max_dm/dt</th>\n",
       "      <th>dE/dt</th>\n",
       "      <th>deltaE</th>\n",
       "      <th>Eex</th>\n",
       "      <th>max_spin_angle</th>\n",
       "      <th>stage_max_spin_angle</th>\n",
       "      <th>run_max_spin_angle</th>\n",
       "      <th>FixedZeeman:zeeman:Energy</th>\n",
       "      <th>Ed</th>\n",
       "      <th>Ea</th>\n",
       "      <th>iteration</th>\n",
       "      <th>stage_iteration</th>\n",
       "      <th>stage</th>\n",
       "      <th>mx</th>\n",
       "      <th>my</th>\n",
       "      <th>mz</th>\n",
       "      <th>last_time_step</th>\n",
       "      <th>t</th>\n",
       "    </tr>\n",
       "  </thead>\n",
       "  <tbody>\n",
       "    <tr>\n",
       "      <th>0</th>\n",
       "      <td>-4.971104e-18</td>\n",
       "      <td>49.0</td>\n",
       "      <td>14057.666435</td>\n",
       "      <td>-2.578686e-06</td>\n",
       "      <td>-2.528730e-18</td>\n",
       "      <td>1.252607e-21</td>\n",
       "      <td>4.125459</td>\n",
       "      <td>4.125459</td>\n",
       "      <td>4.125459</td>\n",
       "      <td>-2.484413e-17</td>\n",
       "      <td>1.964881e-17</td>\n",
       "      <td>2.229652e-19</td>\n",
       "      <td>8.0</td>\n",
       "      <td>8.0</td>\n",
       "      <td>0.0</td>\n",
       "      <td>0.247129</td>\n",
       "      <td>0.619206</td>\n",
       "      <td>0.744268</td>\n",
       "      <td>1.005839e-12</td>\n",
       "      <td>4.000000e-12</td>\n",
       "    </tr>\n",
       "    <tr>\n",
       "      <th>1</th>\n",
       "      <td>-1.583953e-17</td>\n",
       "      <td>62.0</td>\n",
       "      <td>14474.714493</td>\n",
       "      <td>-2.708355e-06</td>\n",
       "      <td>-5.303152e-18</td>\n",
       "      <td>4.084886e-21</td>\n",
       "      <td>7.412512</td>\n",
       "      <td>7.412512</td>\n",
       "      <td>7.412512</td>\n",
       "      <td>-4.079416e-17</td>\n",
       "      <td>2.482185e-17</td>\n",
       "      <td>1.286896e-19</td>\n",
       "      <td>11.0</td>\n",
       "      <td>2.0</td>\n",
       "      <td>1.0</td>\n",
       "      <td>0.405787</td>\n",
       "      <td>-0.297709</td>\n",
       "      <td>0.861196</td>\n",
       "      <td>1.925873e-12</td>\n",
       "      <td>8.000000e-12</td>\n",
       "    </tr>\n",
       "    <tr>\n",
       "      <th>2</th>\n",
       "      <td>-2.543710e-17</td>\n",
       "      <td>75.0</td>\n",
       "      <td>13233.511815</td>\n",
       "      <td>-2.064454e-06</td>\n",
       "      <td>-3.576661e-18</td>\n",
       "      <td>4.184327e-21</td>\n",
       "      <td>7.337951</td>\n",
       "      <td>7.412512</td>\n",
       "      <td>7.412512</td>\n",
       "      <td>-3.148713e-17</td>\n",
       "      <td>5.577760e-18</td>\n",
       "      <td>4.680859e-19</td>\n",
       "      <td>14.0</td>\n",
       "      <td>2.0</td>\n",
       "      <td>2.0</td>\n",
       "      <td>0.313208</td>\n",
       "      <td>-0.915132</td>\n",
       "      <td>0.243315</td>\n",
       "      <td>1.632482e-12</td>\n",
       "      <td>1.200000e-11</td>\n",
       "    </tr>\n",
       "    <tr>\n",
       "      <th>3</th>\n",
       "      <td>-3.360761e-17</td>\n",
       "      <td>88.0</td>\n",
       "      <td>13099.959436</td>\n",
       "      <td>-2.204825e-06</td>\n",
       "      <td>-3.420178e-18</td>\n",
       "      <td>6.276926e-21</td>\n",
       "      <td>9.577521</td>\n",
       "      <td>9.577521</td>\n",
       "      <td>9.577521</td>\n",
       "      <td>-4.581115e-17</td>\n",
       "      <td>1.183394e-17</td>\n",
       "      <td>3.633244e-19</td>\n",
       "      <td>17.0</td>\n",
       "      <td>2.0</td>\n",
       "      <td>3.0</td>\n",
       "      <td>0.455692</td>\n",
       "      <td>-0.717423</td>\n",
       "      <td>-0.519158</td>\n",
       "      <td>1.625403e-12</td>\n",
       "      <td>1.600000e-11</td>\n",
       "    </tr>\n",
       "    <tr>\n",
       "      <th>4</th>\n",
       "      <td>-4.310056e-17</td>\n",
       "      <td>101.0</td>\n",
       "      <td>13547.596427</td>\n",
       "      <td>-2.374234e-06</td>\n",
       "      <td>-3.869850e-18</td>\n",
       "      <td>1.519146e-20</td>\n",
       "      <td>14.358989</td>\n",
       "      <td>14.358989</td>\n",
       "      <td>14.358989</td>\n",
       "      <td>-6.334196e-17</td>\n",
       "      <td>2.001349e-17</td>\n",
       "      <td>2.127187e-19</td>\n",
       "      <td>20.0</td>\n",
       "      <td>2.0</td>\n",
       "      <td>4.0</td>\n",
       "      <td>0.630074</td>\n",
       "      <td>0.102425</td>\n",
       "      <td>-0.757073</td>\n",
       "      <td>1.597991e-12</td>\n",
       "      <td>2.000000e-11</td>\n",
       "    </tr>\n",
       "    <tr>\n",
       "      <th>5</th>\n",
       "      <td>-5.119846e-17</td>\n",
       "      <td>114.0</td>\n",
       "      <td>12116.859576</td>\n",
       "      <td>-1.635911e-06</td>\n",
       "      <td>-2.817518e-18</td>\n",
       "      <td>2.049299e-20</td>\n",
       "      <td>18.020651</td>\n",
       "      <td>18.020651</td>\n",
       "      <td>18.020651</td>\n",
       "      <td>-5.814007e-17</td>\n",
       "      <td>6.471832e-18</td>\n",
       "      <td>4.492824e-19</td>\n",
       "      <td>23.0</td>\n",
       "      <td>2.0</td>\n",
       "      <td>5.0</td>\n",
       "      <td>0.578330</td>\n",
       "      <td>0.746072</td>\n",
       "      <td>-0.290307</td>\n",
       "      <td>1.580947e-12</td>\n",
       "      <td>2.400000e-11</td>\n",
       "    </tr>\n",
       "    <tr>\n",
       "      <th>6</th>\n",
       "      <td>-5.732008e-17</td>\n",
       "      <td>127.0</td>\n",
       "      <td>11810.480069</td>\n",
       "      <td>-1.604258e-06</td>\n",
       "      <td>-2.350551e-18</td>\n",
       "      <td>2.412267e-20</td>\n",
       "      <td>19.921844</td>\n",
       "      <td>19.921844</td>\n",
       "      <td>19.921844</td>\n",
       "      <td>-6.613584e-17</td>\n",
       "      <td>8.369575e-18</td>\n",
       "      <td>4.220608e-19</td>\n",
       "      <td>26.0</td>\n",
       "      <td>2.0</td>\n",
       "      <td>6.0</td>\n",
       "      <td>0.657865</td>\n",
       "      <td>0.635767</td>\n",
       "      <td>0.365731</td>\n",
       "      <td>1.524089e-12</td>\n",
       "      <td>2.800000e-11</td>\n",
       "    </tr>\n",
       "    <tr>\n",
       "      <th>7</th>\n",
       "      <td>-6.417422e-17</td>\n",
       "      <td>140.0</td>\n",
       "      <td>11982.354487</td>\n",
       "      <td>-1.685143e-06</td>\n",
       "      <td>-2.550500e-18</td>\n",
       "      <td>3.875910e-20</td>\n",
       "      <td>24.440849</td>\n",
       "      <td>24.440849</td>\n",
       "      <td>24.440849</td>\n",
       "      <td>-7.818518e-17</td>\n",
       "      <td>1.364622e-17</td>\n",
       "      <td>3.259818e-19</td>\n",
       "      <td>29.0</td>\n",
       "      <td>2.0</td>\n",
       "      <td>7.0</td>\n",
       "      <td>0.777722</td>\n",
       "      <td>-0.041183</td>\n",
       "      <td>0.587646</td>\n",
       "      <td>1.470635e-12</td>\n",
       "      <td>3.200000e-11</td>\n",
       "    </tr>\n",
       "    <tr>\n",
       "      <th>8</th>\n",
       "      <td>-6.974612e-17</td>\n",
       "      <td>153.0</td>\n",
       "      <td>10543.768892</td>\n",
       "      <td>-1.094236e-06</td>\n",
       "      <td>-1.561675e-18</td>\n",
       "      <td>4.549134e-20</td>\n",
       "      <td>27.078708</td>\n",
       "      <td>27.078708</td>\n",
       "      <td>27.078708</td>\n",
       "      <td>-7.607731e-17</td>\n",
       "      <td>5.823638e-18</td>\n",
       "      <td>4.620604e-19</td>\n",
       "      <td>32.0</td>\n",
       "      <td>2.0</td>\n",
       "      <td>8.0</td>\n",
       "      <td>0.756755</td>\n",
       "      <td>-0.568718</td>\n",
       "      <td>0.227358</td>\n",
       "      <td>1.321711e-12</td>\n",
       "      <td>3.600000e-11</td>\n",
       "    </tr>\n",
       "    <tr>\n",
       "      <th>9</th>\n",
       "      <td>-7.381886e-17</td>\n",
       "      <td>166.0</td>\n",
       "      <td>10004.943987</td>\n",
       "      <td>-1.056150e-06</td>\n",
       "      <td>-1.355884e-18</td>\n",
       "      <td>4.434775e-20</td>\n",
       "      <td>26.832555</td>\n",
       "      <td>27.078708</td>\n",
       "      <td>27.078708</td>\n",
       "      <td>-8.137292e-17</td>\n",
       "      <td>7.068903e-18</td>\n",
       "      <td>4.408104e-19</td>\n",
       "      <td>35.0</td>\n",
       "      <td>2.0</td>\n",
       "      <td>9.0</td>\n",
       "      <td>0.809431</td>\n",
       "      <td>-0.469866</td>\n",
       "      <td>-0.271833</td>\n",
       "      <td>1.321130e-12</td>\n",
       "      <td>4.000000e-11</td>\n",
       "    </tr>\n",
       "    <tr>\n",
       "      <th>10</th>\n",
       "      <td>-7.815629e-17</td>\n",
       "      <td>179.0</td>\n",
       "      <td>9708.025378</td>\n",
       "      <td>-1.016525e-06</td>\n",
       "      <td>-1.390067e-18</td>\n",
       "      <td>5.827391e-20</td>\n",
       "      <td>30.704413</td>\n",
       "      <td>30.704413</td>\n",
       "      <td>30.704413</td>\n",
       "      <td>-8.748276e-17</td>\n",
       "      <td>8.858049e-18</td>\n",
       "      <td>4.101442e-19</td>\n",
       "      <td>38.0</td>\n",
       "      <td>2.0</td>\n",
       "      <td>10.0</td>\n",
       "      <td>0.870207</td>\n",
       "      <td>0.052365</td>\n",
       "      <td>-0.413256</td>\n",
       "      <td>1.308634e-12</td>\n",
       "      <td>4.400000e-11</td>\n",
       "    </tr>\n",
       "    <tr>\n",
       "      <th>11</th>\n",
       "      <td>-8.142567e-17</td>\n",
       "      <td>192.0</td>\n",
       "      <td>8272.130403</td>\n",
       "      <td>-6.455027e-07</td>\n",
       "      <td>-7.707325e-19</td>\n",
       "      <td>6.297164e-20</td>\n",
       "      <td>32.300362</td>\n",
       "      <td>32.552425</td>\n",
       "      <td>32.552425</td>\n",
       "      <td>-8.681423e-17</td>\n",
       "      <td>4.843998e-18</td>\n",
       "      <td>4.815922e-19</td>\n",
       "      <td>41.0</td>\n",
       "      <td>2.0</td>\n",
       "      <td>11.0</td>\n",
       "      <td>0.863557</td>\n",
       "      <td>0.411596</td>\n",
       "      <td>-0.129874</td>\n",
       "      <td>1.130405e-12</td>\n",
       "      <td>4.800000e-11</td>\n",
       "    </tr>\n",
       "    <tr>\n",
       "      <th>12</th>\n",
       "      <td>-8.392020e-17</td>\n",
       "      <td>205.0</td>\n",
       "      <td>8113.603995</td>\n",
       "      <td>-6.512579e-07</td>\n",
       "      <td>-6.613759e-19</td>\n",
       "      <td>5.323303e-20</td>\n",
       "      <td>29.192422</td>\n",
       "      <td>32.300362</td>\n",
       "      <td>32.552425</td>\n",
       "      <td>-9.071778e-17</td>\n",
       "      <td>6.291421e-18</td>\n",
       "      <td>4.529219e-19</td>\n",
       "      <td>44.0</td>\n",
       "      <td>2.0</td>\n",
       "      <td>12.0</td>\n",
       "      <td>0.902386</td>\n",
       "      <td>0.293623</td>\n",
       "      <td>0.210916</td>\n",
       "      <td>1.032200e-12</td>\n",
       "      <td>5.200000e-11</td>\n",
       "    </tr>\n",
       "    <tr>\n",
       "      <th>13</th>\n",
       "      <td>-8.644415e-17</td>\n",
       "      <td>218.0</td>\n",
       "      <td>7577.535423</td>\n",
       "      <td>-5.526843e-07</td>\n",
       "      <td>-6.615181e-19</td>\n",
       "      <td>5.799018e-20</td>\n",
       "      <td>31.076706</td>\n",
       "      <td>31.076706</td>\n",
       "      <td>32.552425</td>\n",
       "      <td>-9.313527e-17</td>\n",
       "      <td>6.175854e-18</td>\n",
       "      <td>4.572730e-19</td>\n",
       "      <td>47.0</td>\n",
       "      <td>2.0</td>\n",
       "      <td>13.0</td>\n",
       "      <td>0.926434</td>\n",
       "      <td>-0.083276</td>\n",
       "      <td>0.263879</td>\n",
       "      <td>1.129328e-12</td>\n",
       "      <td>5.600000e-11</td>\n",
       "    </tr>\n",
       "    <tr>\n",
       "      <th>14</th>\n",
       "      <td>-8.818814e-17</td>\n",
       "      <td>231.0</td>\n",
       "      <td>6337.750110</td>\n",
       "      <td>-3.562692e-07</td>\n",
       "      <td>-3.924395e-19</td>\n",
       "      <td>6.074933e-20</td>\n",
       "      <td>32.220102</td>\n",
       "      <td>32.563036</td>\n",
       "      <td>32.563036</td>\n",
       "      <td>-9.300001e-17</td>\n",
       "      <td>4.258162e-18</td>\n",
       "      <td>4.929640e-19</td>\n",
       "      <td>50.0</td>\n",
       "      <td>2.0</td>\n",
       "      <td>14.0</td>\n",
       "      <td>0.925088</td>\n",
       "      <td>-0.284883</td>\n",
       "      <td>0.042190</td>\n",
       "      <td>1.066685e-12</td>\n",
       "      <td>6.000000e-11</td>\n",
       "    </tr>\n",
       "    <tr>\n",
       "      <th>15</th>\n",
       "      <td>-8.963520e-17</td>\n",
       "      <td>244.0</td>\n",
       "      <td>6246.023772</td>\n",
       "      <td>-3.789543e-07</td>\n",
       "      <td>-3.570481e-19</td>\n",
       "      <td>4.860318e-20</td>\n",
       "      <td>27.528597</td>\n",
       "      <td>32.220102</td>\n",
       "      <td>32.563036</td>\n",
       "      <td>-9.563123e-17</td>\n",
       "      <td>5.479407e-18</td>\n",
       "      <td>4.680283e-19</td>\n",
       "      <td>53.0</td>\n",
       "      <td>2.0</td>\n",
       "      <td>15.0</td>\n",
       "      <td>0.951261</td>\n",
       "      <td>-0.149918</td>\n",
       "      <td>-0.166340</td>\n",
       "      <td>9.484053e-13</td>\n",
       "      <td>6.400000e-11</td>\n",
       "    </tr>\n",
       "    <tr>\n",
       "      <th>16</th>\n",
       "      <td>-9.101956e-17</td>\n",
       "      <td>257.0</td>\n",
       "      <td>5429.597169</td>\n",
       "      <td>-2.845059e-07</td>\n",
       "      <td>-2.919537e-19</td>\n",
       "      <td>4.416652e-20</td>\n",
       "      <td>26.195698</td>\n",
       "      <td>27.528597</td>\n",
       "      <td>32.563036</td>\n",
       "      <td>-9.642011e-17</td>\n",
       "      <td>4.876318e-18</td>\n",
       "      <td>4.800586e-19</td>\n",
       "      <td>56.0</td>\n",
       "      <td>2.0</td>\n",
       "      <td>16.0</td>\n",
       "      <td>0.959109</td>\n",
       "      <td>0.106504</td>\n",
       "      <td>-0.152245</td>\n",
       "      <td>9.633220e-13</td>\n",
       "      <td>6.800000e-11</td>\n",
       "    </tr>\n",
       "    <tr>\n",
       "      <th>17</th>\n",
       "      <td>-9.192069e-17</td>\n",
       "      <td>270.0</td>\n",
       "      <td>4741.102674</td>\n",
       "      <td>-1.944252e-07</td>\n",
       "      <td>-1.893618e-19</td>\n",
       "      <td>4.480009e-20</td>\n",
       "      <td>27.290221</td>\n",
       "      <td>27.431678</td>\n",
       "      <td>32.563036</td>\n",
       "      <td>-9.653696e-17</td>\n",
       "      <td>4.075604e-18</td>\n",
       "      <td>4.958638e-19</td>\n",
       "      <td>59.0</td>\n",
       "      <td>2.0</td>\n",
       "      <td>17.0</td>\n",
       "      <td>0.960271</td>\n",
       "      <td>0.190125</td>\n",
       "      <td>0.017910</td>\n",
       "      <td>9.642177e-13</td>\n",
       "      <td>7.200000e-11</td>\n",
       "    </tr>\n",
       "    <tr>\n",
       "      <th>18</th>\n",
       "      <td>-9.273061e-17</td>\n",
       "      <td>283.0</td>\n",
       "      <td>4685.794842</td>\n",
       "      <td>-2.077057e-07</td>\n",
       "      <td>-1.924596e-19</td>\n",
       "      <td>3.649560e-20</td>\n",
       "      <td>23.420646</td>\n",
       "      <td>27.290221</td>\n",
       "      <td>32.563036</td>\n",
       "      <td>-9.803540e-17</td>\n",
       "      <td>4.786120e-18</td>\n",
       "      <td>4.821725e-19</td>\n",
       "      <td>62.0</td>\n",
       "      <td>2.0</td>\n",
       "      <td>18.0</td>\n",
       "      <td>0.975176</td>\n",
       "      <td>0.052559</td>\n",
       "      <td>0.130106</td>\n",
       "      <td>9.217037e-13</td>\n",
       "      <td>7.600000e-11</td>\n",
       "    </tr>\n",
       "    <tr>\n",
       "      <th>19</th>\n",
       "      <td>-9.345108e-17</td>\n",
       "      <td>296.0</td>\n",
       "      <td>3898.556695</td>\n",
       "      <td>-1.425256e-07</td>\n",
       "      <td>-1.327456e-19</td>\n",
       "      <td>2.892751e-20</td>\n",
       "      <td>20.156730</td>\n",
       "      <td>23.420646</td>\n",
       "      <td>32.563036</td>\n",
       "      <td>-9.826514e-17</td>\n",
       "      <td>4.294132e-18</td>\n",
       "      <td>4.910015e-19</td>\n",
       "      <td>65.0</td>\n",
       "      <td>2.0</td>\n",
       "      <td>19.0</td>\n",
       "      <td>0.977461</td>\n",
       "      <td>-0.112901</td>\n",
       "      <td>0.077747</td>\n",
       "      <td>8.769503e-13</td>\n",
       "      <td>8.000000e-11</td>\n",
       "    </tr>\n",
       "    <tr>\n",
       "      <th>20</th>\n",
       "      <td>-9.392185e-17</td>\n",
       "      <td>309.0</td>\n",
       "      <td>3579.682260</td>\n",
       "      <td>-1.085426e-07</td>\n",
       "      <td>-9.428597e-20</td>\n",
       "      <td>2.727854e-20</td>\n",
       "      <td>20.834427</td>\n",
       "      <td>20.837047</td>\n",
       "      <td>32.563036</td>\n",
       "      <td>-9.850686e-17</td>\n",
       "      <td>4.062037e-18</td>\n",
       "      <td>4.956899e-19</td>\n",
       "      <td>68.0</td>\n",
       "      <td>2.0</td>\n",
       "      <td>20.0</td>\n",
       "      <td>0.979866</td>\n",
       "      <td>-0.123110</td>\n",
       "      <td>-0.049098</td>\n",
       "      <td>8.710144e-13</td>\n",
       "      <td>8.400000e-11</td>\n",
       "    </tr>\n",
       "    <tr>\n",
       "      <th>21</th>\n",
       "      <td>-9.436689e-17</td>\n",
       "      <td>322.0</td>\n",
       "      <td>3511.984497</td>\n",
       "      <td>-1.083383e-07</td>\n",
       "      <td>-9.311062e-20</td>\n",
       "      <td>2.355919e-20</td>\n",
       "      <td>18.527767</td>\n",
       "      <td>20.834427</td>\n",
       "      <td>32.563036</td>\n",
       "      <td>-9.920584e-17</td>\n",
       "      <td>4.323906e-18</td>\n",
       "      <td>4.914831e-19</td>\n",
       "      <td>71.0</td>\n",
       "      <td>2.0</td>\n",
       "      <td>21.0</td>\n",
       "      <td>0.986819</td>\n",
       "      <td>0.002768</td>\n",
       "      <td>-0.099424</td>\n",
       "      <td>8.425369e-13</td>\n",
       "      <td>8.800000e-11</td>\n",
       "    </tr>\n",
       "    <tr>\n",
       "      <th>22</th>\n",
       "      <td>-9.472585e-17</td>\n",
       "      <td>335.0</td>\n",
       "      <td>2693.243358</td>\n",
       "      <td>-7.040590e-08</td>\n",
       "      <td>-5.976459e-20</td>\n",
       "      <td>1.780268e-20</td>\n",
       "      <td>14.875111</td>\n",
       "      <td>18.527767</td>\n",
       "      <td>32.563036</td>\n",
       "      <td>-9.926440e-17</td>\n",
       "      <td>4.024359e-18</td>\n",
       "      <td>4.963928e-19</td>\n",
       "      <td>74.0</td>\n",
       "      <td>2.0</td>\n",
       "      <td>22.0</td>\n",
       "      <td>0.987401</td>\n",
       "      <td>0.104576</td>\n",
       "      <td>-0.033145</td>\n",
       "      <td>8.090200e-13</td>\n",
       "      <td>9.200000e-11</td>\n",
       "    </tr>\n",
       "    <tr>\n",
       "      <th>23</th>\n",
       "      <td>-9.497681e-17</td>\n",
       "      <td>348.0</td>\n",
       "      <td>2709.010117</td>\n",
       "      <td>-6.157575e-08</td>\n",
       "      <td>-8.420360e-20</td>\n",
       "      <td>1.494501e-20</td>\n",
       "      <td>14.819878</td>\n",
       "      <td>14.875111</td>\n",
       "      <td>32.563036</td>\n",
       "      <td>-9.953639e-17</td>\n",
       "      <td>4.048709e-18</td>\n",
       "      <td>4.959322e-19</td>\n",
       "      <td>77.0</td>\n",
       "      <td>2.0</td>\n",
       "      <td>23.0</td>\n",
       "      <td>0.990107</td>\n",
       "      <td>0.077612</td>\n",
       "      <td>0.058135</td>\n",
       "      <td>1.381960e-12</td>\n",
       "      <td>9.600000e-11</td>\n",
       "    </tr>\n",
       "    <tr>\n",
       "      <th>24</th>\n",
       "      <td>-9.521889e-17</td>\n",
       "      <td>361.0</td>\n",
       "      <td>2624.718917</td>\n",
       "      <td>-5.479434e-08</td>\n",
       "      <td>-8.005722e-20</td>\n",
       "      <td>1.352323e-20</td>\n",
       "      <td>13.809579</td>\n",
       "      <td>14.819878</td>\n",
       "      <td>32.563036</td>\n",
       "      <td>-9.981505e-17</td>\n",
       "      <td>4.086505e-18</td>\n",
       "      <td>4.961352e-19</td>\n",
       "      <td>80.0</td>\n",
       "      <td>2.0</td>\n",
       "      <td>24.0</td>\n",
       "      <td>0.992879</td>\n",
       "      <td>-0.027379</td>\n",
       "      <td>0.073257</td>\n",
       "      <td>1.381960e-12</td>\n",
       "      <td>1.000000e-10</td>\n",
       "    </tr>\n",
       "    <tr>\n",
       "      <th>25</th>\n",
       "      <td>-9.539387e-17</td>\n",
       "      <td>374.0</td>\n",
       "      <td>1948.239184</td>\n",
       "      <td>-3.481459e-08</td>\n",
       "      <td>-5.128300e-20</td>\n",
       "      <td>1.062206e-20</td>\n",
       "      <td>11.495509</td>\n",
       "      <td>13.809579</td>\n",
       "      <td>32.563036</td>\n",
       "      <td>-9.982310e-17</td>\n",
       "      <td>3.919802e-18</td>\n",
       "      <td>4.988077e-19</td>\n",
       "      <td>83.0</td>\n",
       "      <td>2.0</td>\n",
       "      <td>25.0</td>\n",
       "      <td>0.992959</td>\n",
       "      <td>-0.086966</td>\n",
       "      <td>0.009445</td>\n",
       "      <td>1.381960e-12</td>\n",
       "      <td>1.040000e-10</td>\n",
       "    </tr>\n",
       "    <tr>\n",
       "      <th>26</th>\n",
       "      <td>-9.552849e-17</td>\n",
       "      <td>387.0</td>\n",
       "      <td>2176.495106</td>\n",
       "      <td>-3.453690e-08</td>\n",
       "      <td>-4.711886e-20</td>\n",
       "      <td>8.002664e-21</td>\n",
       "      <td>9.676843</td>\n",
       "      <td>11.495509</td>\n",
       "      <td>32.563036</td>\n",
       "      <td>-1.000393e-16</td>\n",
       "      <td>4.005740e-18</td>\n",
       "      <td>4.970640e-19</td>\n",
       "      <td>86.0</td>\n",
       "      <td>2.0</td>\n",
       "      <td>26.0</td>\n",
       "      <td>0.995109</td>\n",
       "      <td>-0.047434</td>\n",
       "      <td>-0.053411</td>\n",
       "      <td>1.381960e-12</td>\n",
       "      <td>1.080000e-10</td>\n",
       "    </tr>\n",
       "    <tr>\n",
       "      <th>27</th>\n",
       "      <td>-9.565798e-17</td>\n",
       "      <td>400.0</td>\n",
       "      <td>1943.515179</td>\n",
       "      <td>-2.742930e-08</td>\n",
       "      <td>-4.102666e-20</td>\n",
       "      <td>7.201317e-21</td>\n",
       "      <td>9.709796</td>\n",
       "      <td>9.715628</td>\n",
       "      <td>32.563036</td>\n",
       "      <td>-1.001392e-16</td>\n",
       "      <td>3.975887e-18</td>\n",
       "      <td>4.981086e-19</td>\n",
       "      <td>89.0</td>\n",
       "      <td>2.0</td>\n",
       "      <td>27.0</td>\n",
       "      <td>0.996103</td>\n",
       "      <td>0.033040</td>\n",
       "      <td>-0.051309</td>\n",
       "      <td>1.381960e-12</td>\n",
       "      <td>1.120000e-10</td>\n",
       "    </tr>\n",
       "    <tr>\n",
       "      <th>28</th>\n",
       "      <td>-9.574395e-17</td>\n",
       "      <td>413.0</td>\n",
       "      <td>1523.290879</td>\n",
       "      <td>-1.770122e-08</td>\n",
       "      <td>-2.546018e-20</td>\n",
       "      <td>6.206959e-21</td>\n",
       "      <td>8.850428</td>\n",
       "      <td>9.709796</td>\n",
       "      <td>32.563036</td>\n",
       "      <td>-1.001391e-16</td>\n",
       "      <td>3.889368e-18</td>\n",
       "      <td>4.995974e-19</td>\n",
       "      <td>92.0</td>\n",
       "      <td>2.0</td>\n",
       "      <td>28.0</td>\n",
       "      <td>0.996102</td>\n",
       "      <td>0.065671</td>\n",
       "      <td>0.001378</td>\n",
       "      <td>1.381960e-12</td>\n",
       "      <td>1.160000e-10</td>\n",
       "    </tr>\n",
       "    <tr>\n",
       "      <th>29</th>\n",
       "      <td>-9.581615e-17</td>\n",
       "      <td>426.0</td>\n",
       "      <td>1730.704017</td>\n",
       "      <td>-1.872097e-08</td>\n",
       "      <td>-2.570666e-20</td>\n",
       "      <td>4.586701e-21</td>\n",
       "      <td>7.252859</td>\n",
       "      <td>8.850428</td>\n",
       "      <td>32.563036</td>\n",
       "      <td>-1.002741e-16</td>\n",
       "      <td>3.954968e-18</td>\n",
       "      <td>4.983436e-19</td>\n",
       "      <td>95.0</td>\n",
       "      <td>2.0</td>\n",
       "      <td>29.0</td>\n",
       "      <td>0.997444</td>\n",
       "      <td>0.027477</td>\n",
       "      <td>0.042148</td>\n",
       "      <td>1.381960e-12</td>\n",
       "      <td>1.200000e-10</td>\n",
       "    </tr>\n",
       "    <tr>\n",
       "      <th>30</th>\n",
       "      <td>-9.588354e-17</td>\n",
       "      <td>439.0</td>\n",
       "      <td>1433.930777</td>\n",
       "      <td>-1.370180e-08</td>\n",
       "      <td>-2.071051e-20</td>\n",
       "      <td>3.852503e-21</td>\n",
       "      <td>6.833438</td>\n",
       "      <td>7.252859</td>\n",
       "      <td>32.563036</td>\n",
       "      <td>-1.003120e-16</td>\n",
       "      <td>3.925632e-18</td>\n",
       "      <td>4.990065e-19</td>\n",
       "      <td>98.0</td>\n",
       "      <td>2.0</td>\n",
       "      <td>30.0</td>\n",
       "      <td>0.997822</td>\n",
       "      <td>-0.029135</td>\n",
       "      <td>0.033386</td>\n",
       "      <td>1.381960e-12</td>\n",
       "      <td>1.240000e-10</td>\n",
       "    </tr>\n",
       "    <tr>\n",
       "      <th>31</th>\n",
       "      <td>-9.592730e-17</td>\n",
       "      <td>452.0</td>\n",
       "      <td>1220.393577</td>\n",
       "      <td>-9.495102e-09</td>\n",
       "      <td>-1.338139e-20</td>\n",
       "      <td>3.511370e-21</td>\n",
       "      <td>6.814545</td>\n",
       "      <td>6.894450</td>\n",
       "      <td>32.563036</td>\n",
       "      <td>-1.003199e-16</td>\n",
       "      <td>3.889382e-18</td>\n",
       "      <td>4.997066e-19</td>\n",
       "      <td>101.0</td>\n",
       "      <td>2.0</td>\n",
       "      <td>31.0</td>\n",
       "      <td>0.997900</td>\n",
       "      <td>-0.044864</td>\n",
       "      <td>-0.005332</td>\n",
       "      <td>1.381960e-12</td>\n",
       "      <td>1.280000e-10</td>\n",
       "    </tr>\n",
       "    <tr>\n",
       "      <th>32</th>\n",
       "      <td>-9.596623e-17</td>\n",
       "      <td>465.0</td>\n",
       "      <td>1356.826693</td>\n",
       "      <td>-9.782191e-09</td>\n",
       "      <td>-1.366571e-20</td>\n",
       "      <td>2.781351e-21</td>\n",
       "      <td>5.990758</td>\n",
       "      <td>6.814545</td>\n",
       "      <td>32.563036</td>\n",
       "      <td>-1.003869e-16</td>\n",
       "      <td>3.918676e-18</td>\n",
       "      <td>4.992220e-19</td>\n",
       "      <td>104.0</td>\n",
       "      <td>2.0</td>\n",
       "      <td>32.0</td>\n",
       "      <td>0.998567</td>\n",
       "      <td>-0.014076</td>\n",
       "      <td>-0.029442</td>\n",
       "      <td>1.381960e-12</td>\n",
       "      <td>1.320000e-10</td>\n",
       "    </tr>\n",
       "    <tr>\n",
       "      <th>33</th>\n",
       "      <td>-9.600009e-17</td>\n",
       "      <td>478.0</td>\n",
       "      <td>1062.977377</td>\n",
       "      <td>-6.788046e-09</td>\n",
       "      <td>-1.021586e-20</td>\n",
       "      <td>2.211824e-21</td>\n",
       "      <td>4.895173</td>\n",
       "      <td>5.990758</td>\n",
       "      <td>32.563036</td>\n",
       "      <td>-1.004019e-16</td>\n",
       "      <td>3.900036e-18</td>\n",
       "      <td>4.995213e-19</td>\n",
       "      <td>107.0</td>\n",
       "      <td>2.0</td>\n",
       "      <td>33.0</td>\n",
       "      <td>0.998716</td>\n",
       "      <td>0.021985</td>\n",
       "      <td>-0.019342</td>\n",
       "      <td>1.381960e-12</td>\n",
       "      <td>1.360000e-10</td>\n",
       "    </tr>\n",
       "    <tr>\n",
       "      <th>34</th>\n",
       "      <td>-9.602312e-17</td>\n",
       "      <td>491.0</td>\n",
       "      <td>989.110783</td>\n",
       "      <td>-5.346558e-09</td>\n",
       "      <td>-7.415499e-21</td>\n",
       "      <td>1.966222e-21</td>\n",
       "      <td>4.986071</td>\n",
       "      <td>4.986071</td>\n",
       "      <td>32.563036</td>\n",
       "      <td>-1.004176e-16</td>\n",
       "      <td>3.892828e-18</td>\n",
       "      <td>4.996964e-19</td>\n",
       "      <td>110.0</td>\n",
       "      <td>2.0</td>\n",
       "      <td>34.0</td>\n",
       "      <td>0.998872</td>\n",
       "      <td>0.027190</td>\n",
       "      <td>0.006229</td>\n",
       "      <td>1.381960e-12</td>\n",
       "      <td>1.400000e-10</td>\n",
       "    </tr>\n",
       "    <tr>\n",
       "      <th>35</th>\n",
       "      <td>-9.604440e-17</td>\n",
       "      <td>504.0</td>\n",
       "      <td>1047.188997</td>\n",
       "      <td>-5.019139e-09</td>\n",
       "      <td>-7.198641e-21</td>\n",
       "      <td>1.718357e-21</td>\n",
       "      <td>4.827615</td>\n",
       "      <td>4.986071</td>\n",
       "      <td>32.563036</td>\n",
       "      <td>-1.004457e-16</td>\n",
       "      <td>3.899924e-18</td>\n",
       "      <td>4.996477e-19</td>\n",
       "      <td>113.0</td>\n",
       "      <td>2.0</td>\n",
       "      <td>35.0</td>\n",
       "      <td>0.999152</td>\n",
       "      <td>0.005003</td>\n",
       "      <td>0.018288</td>\n",
       "      <td>1.381960e-12</td>\n",
       "      <td>1.440000e-10</td>\n",
       "    </tr>\n",
       "    <tr>\n",
       "      <th>36</th>\n",
       "      <td>-9.606102e-17</td>\n",
       "      <td>517.0</td>\n",
       "      <td>793.665178</td>\n",
       "      <td>-3.327298e-09</td>\n",
       "      <td>-4.941149e-21</td>\n",
       "      <td>1.391890e-21</td>\n",
       "      <td>4.119501</td>\n",
       "      <td>4.827615</td>\n",
       "      <td>32.563036</td>\n",
       "      <td>-1.004498e-16</td>\n",
       "      <td>3.887612e-18</td>\n",
       "      <td>4.998194e-19</td>\n",
       "      <td>116.0</td>\n",
       "      <td>2.0</td>\n",
       "      <td>36.0</td>\n",
       "      <td>0.999193</td>\n",
       "      <td>-0.015094</td>\n",
       "      <td>0.008999</td>\n",
       "      <td>1.381960e-12</td>\n",
       "      <td>1.480000e-10</td>\n",
       "    </tr>\n",
       "    <tr>\n",
       "      <th>37</th>\n",
       "      <td>-9.607327e-17</td>\n",
       "      <td>530.0</td>\n",
       "      <td>797.286836</td>\n",
       "      <td>-3.040536e-09</td>\n",
       "      <td>-4.165229e-21</td>\n",
       "      <td>1.133142e-21</td>\n",
       "      <td>3.660586</td>\n",
       "      <td>4.119501</td>\n",
       "      <td>32.563036</td>\n",
       "      <td>-1.004661e-16</td>\n",
       "      <td>3.891900e-18</td>\n",
       "      <td>4.997527e-19</td>\n",
       "      <td>119.0</td>\n",
       "      <td>2.0</td>\n",
       "      <td>37.0</td>\n",
       "      <td>0.999354</td>\n",
       "      <td>-0.013871</td>\n",
       "      <td>-0.006080</td>\n",
       "      <td>1.381960e-12</td>\n",
       "      <td>1.520000e-10</td>\n",
       "    </tr>\n",
       "    <tr>\n",
       "      <th>38</th>\n",
       "      <td>-9.608497e-17</td>\n",
       "      <td>543.0</td>\n",
       "      <td>794.457669</td>\n",
       "      <td>-2.590055e-09</td>\n",
       "      <td>-3.811341e-21</td>\n",
       "      <td>1.026715e-21</td>\n",
       "      <td>3.799328</td>\n",
       "      <td>3.799328</td>\n",
       "      <td>32.563036</td>\n",
       "      <td>-1.004775e-16</td>\n",
       "      <td>3.891713e-18</td>\n",
       "      <td>4.998121e-19</td>\n",
       "      <td>122.0</td>\n",
       "      <td>2.0</td>\n",
       "      <td>38.0</td>\n",
       "      <td>0.999468</td>\n",
       "      <td>0.000969</td>\n",
       "      <td>-0.009971</td>\n",
       "      <td>1.381960e-12</td>\n",
       "      <td>1.560000e-10</td>\n",
       "    </tr>\n",
       "    <tr>\n",
       "      <th>39</th>\n",
       "      <td>-9.609320e-17</td>\n",
       "      <td>556.0</td>\n",
       "      <td>598.628938</td>\n",
       "      <td>-1.651626e-09</td>\n",
       "      <td>-2.418648e-21</td>\n",
       "      <td>8.934847e-22</td>\n",
       "      <td>3.444291</td>\n",
       "      <td>3.799328</td>\n",
       "      <td>32.563036</td>\n",
       "      <td>-1.004776e-16</td>\n",
       "      <td>3.883554e-18</td>\n",
       "      <td>4.999489e-19</td>\n",
       "      <td>125.0</td>\n",
       "      <td>2.0</td>\n",
       "      <td>39.0</td>\n",
       "      <td>0.999469</td>\n",
       "      <td>0.009887</td>\n",
       "      <td>-0.002038</td>\n",
       "      <td>1.381960e-12</td>\n",
       "      <td>1.600000e-10</td>\n",
       "    </tr>\n",
       "    <tr>\n",
       "      <th>40</th>\n",
       "      <td>-9.609969e-17</td>\n",
       "      <td>569.0</td>\n",
       "      <td>633.993068</td>\n",
       "      <td>-1.678943e-09</td>\n",
       "      <td>-2.286872e-21</td>\n",
       "      <td>7.001819e-22</td>\n",
       "      <td>3.127799</td>\n",
       "      <td>3.444291</td>\n",
       "      <td>32.563036</td>\n",
       "      <td>-1.004893e-16</td>\n",
       "      <td>3.889026e-18</td>\n",
       "      <td>4.998504e-19</td>\n",
       "      <td>128.0</td>\n",
       "      <td>2.0</td>\n",
       "      <td>40.0</td>\n",
       "      <td>0.999585</td>\n",
       "      <td>0.004999</td>\n",
       "      <td>0.005698</td>\n",
       "      <td>1.381960e-12</td>\n",
       "      <td>1.640000e-10</td>\n",
       "    </tr>\n",
       "    <tr>\n",
       "      <th>41</th>\n",
       "      <td>-9.610602e-17</td>\n",
       "      <td>582.0</td>\n",
       "      <td>591.929165</td>\n",
       "      <td>-1.349711e-09</td>\n",
       "      <td>-2.012029e-21</td>\n",
       "      <td>6.198842e-22</td>\n",
       "      <td>3.406749</td>\n",
       "      <td>3.406749</td>\n",
       "      <td>32.563036</td>\n",
       "      <td>-1.004947e-16</td>\n",
       "      <td>3.888166e-18</td>\n",
       "      <td>4.998854e-19</td>\n",
       "      <td>131.0</td>\n",
       "      <td>2.0</td>\n",
       "      <td>41.0</td>\n",
       "      <td>0.999639</td>\n",
       "      <td>-0.004523</td>\n",
       "      <td>0.004597</td>\n",
       "      <td>1.381960e-12</td>\n",
       "      <td>1.680000e-10</td>\n",
       "    </tr>\n",
       "    <tr>\n",
       "      <th>42</th>\n",
       "      <td>-9.611026e-17</td>\n",
       "      <td>595.0</td>\n",
       "      <td>454.252113</td>\n",
       "      <td>-8.680359e-10</td>\n",
       "      <td>-1.256267e-21</td>\n",
       "      <td>5.755111e-22</td>\n",
       "      <td>3.182415</td>\n",
       "      <td>3.406749</td>\n",
       "      <td>32.563036</td>\n",
       "      <td>-1.004941e-16</td>\n",
       "      <td>3.883313e-18</td>\n",
       "      <td>4.999787e-19</td>\n",
       "      <td>134.0</td>\n",
       "      <td>2.0</td>\n",
       "      <td>42.0</td>\n",
       "      <td>0.999634</td>\n",
       "      <td>-0.006514</td>\n",
       "      <td>-0.002042</td>\n",
       "      <td>1.381960e-12</td>\n",
       "      <td>1.720000e-10</td>\n",
       "    </tr>\n",
       "    <tr>\n",
       "      <th>43</th>\n",
       "      <td>-9.611373e-17</td>\n",
       "      <td>608.0</td>\n",
       "      <td>493.926390</td>\n",
       "      <td>-8.912616e-10</td>\n",
       "      <td>-1.223326e-21</td>\n",
       "      <td>4.699718e-22</td>\n",
       "      <td>2.806399</td>\n",
       "      <td>3.182415</td>\n",
       "      <td>32.563036</td>\n",
       "      <td>-1.005002e-16</td>\n",
       "      <td>3.886030e-18</td>\n",
       "      <td>4.999287e-19</td>\n",
       "      <td>137.0</td>\n",
       "      <td>2.0</td>\n",
       "      <td>43.0</td>\n",
       "      <td>0.999694</td>\n",
       "      <td>0.000070</td>\n",
       "      <td>-0.005266</td>\n",
       "      <td>1.381960e-12</td>\n",
       "      <td>1.760000e-10</td>\n",
       "    </tr>\n",
       "    <tr>\n",
       "      <th>44</th>\n",
       "      <td>-9.611702e-17</td>\n",
       "      <td>621.0</td>\n",
       "      <td>433.440259</td>\n",
       "      <td>-6.950896e-10</td>\n",
       "      <td>-1.033625e-21</td>\n",
       "      <td>4.040667e-22</td>\n",
       "      <td>3.097180</td>\n",
       "      <td>3.097180</td>\n",
       "      <td>32.563036</td>\n",
       "      <td>-1.005030e-16</td>\n",
       "      <td>3.885685e-18</td>\n",
       "      <td>4.999368e-19</td>\n",
       "      <td>140.0</td>\n",
       "      <td>2.0</td>\n",
       "      <td>44.0</td>\n",
       "      <td>0.999722</td>\n",
       "      <td>0.006158</td>\n",
       "      <td>-0.001626</td>\n",
       "      <td>1.381960e-12</td>\n",
       "      <td>1.800000e-10</td>\n",
       "    </tr>\n",
       "    <tr>\n",
       "      <th>45</th>\n",
       "      <td>-9.611929e-17</td>\n",
       "      <td>634.0</td>\n",
       "      <td>346.025211</td>\n",
       "      <td>-4.910254e-10</td>\n",
       "      <td>-7.002327e-22</td>\n",
       "      <td>3.806948e-22</td>\n",
       "      <td>3.058294</td>\n",
       "      <td>3.105198</td>\n",
       "      <td>32.563036</td>\n",
       "      <td>-1.005037e-16</td>\n",
       "      <td>3.884022e-18</td>\n",
       "      <td>4.999770e-19</td>\n",
       "      <td>143.0</td>\n",
       "      <td>2.0</td>\n",
       "      <td>45.0</td>\n",
       "      <td>0.999729</td>\n",
       "      <td>0.004535</td>\n",
       "      <td>0.003889</td>\n",
       "      <td>1.381960e-12</td>\n",
       "      <td>1.840000e-10</td>\n",
       "    </tr>\n",
       "    <tr>\n",
       "      <th>46</th>\n",
       "      <td>-9.612121e-17</td>\n",
       "      <td>647.0</td>\n",
       "      <td>376.522108</td>\n",
       "      <td>-4.660897e-10</td>\n",
       "      <td>-6.552980e-22</td>\n",
       "      <td>3.384156e-22</td>\n",
       "      <td>2.811503</td>\n",
       "      <td>3.058294</td>\n",
       "      <td>32.563036</td>\n",
       "      <td>-1.005063e-16</td>\n",
       "      <td>3.884770e-18</td>\n",
       "      <td>4.999680e-19</td>\n",
       "      <td>146.0</td>\n",
       "      <td>2.0</td>\n",
       "      <td>46.0</td>\n",
       "      <td>0.999755</td>\n",
       "      <td>-0.002332</td>\n",
       "      <td>0.004732</td>\n",
       "      <td>1.381960e-12</td>\n",
       "      <td>1.880000e-10</td>\n",
       "    </tr>\n",
       "    <tr>\n",
       "      <th>47</th>\n",
       "      <td>-9.612286e-17</td>\n",
       "      <td>660.0</td>\n",
       "      <td>312.315802</td>\n",
       "      <td>-3.463265e-10</td>\n",
       "      <td>-5.101347e-22</td>\n",
       "      <td>3.017293e-22</td>\n",
       "      <td>2.839674</td>\n",
       "      <td>2.839674</td>\n",
       "      <td>32.563036</td>\n",
       "      <td>-1.005075e-16</td>\n",
       "      <td>3.884357e-18</td>\n",
       "      <td>4.999737e-19</td>\n",
       "      <td>149.0</td>\n",
       "      <td>2.0</td>\n",
       "      <td>47.0</td>\n",
       "      <td>0.999766</td>\n",
       "      <td>-0.006350</td>\n",
       "      <td>0.000294</td>\n",
       "      <td>1.381960e-12</td>\n",
       "      <td>1.920000e-10</td>\n",
       "    </tr>\n",
       "    <tr>\n",
       "      <th>48</th>\n",
       "      <td>-9.612408e-17</td>\n",
       "      <td>673.0</td>\n",
       "      <td>294.597880</td>\n",
       "      <td>-2.863173e-10</td>\n",
       "      <td>-3.998714e-22</td>\n",
       "      <td>2.821211e-22</td>\n",
       "      <td>2.902867</td>\n",
       "      <td>2.902867</td>\n",
       "      <td>32.563036</td>\n",
       "      <td>-1.005086e-16</td>\n",
       "      <td>3.884299e-18</td>\n",
       "      <td>4.999782e-19</td>\n",
       "      <td>152.0</td>\n",
       "      <td>2.0</td>\n",
       "      <td>48.0</td>\n",
       "      <td>0.999778</td>\n",
       "      <td>-0.003382</td>\n",
       "      <td>-0.004203</td>\n",
       "      <td>1.381960e-12</td>\n",
       "      <td>1.960000e-10</td>\n",
       "    </tr>\n",
       "    <tr>\n",
       "      <th>49</th>\n",
       "      <td>-9.612518e-17</td>\n",
       "      <td>686.0</td>\n",
       "      <td>280.521095</td>\n",
       "      <td>-2.491854e-10</td>\n",
       "      <td>-3.608874e-22</td>\n",
       "      <td>2.660549e-22</td>\n",
       "      <td>2.842004</td>\n",
       "      <td>2.902867</td>\n",
       "      <td>32.563036</td>\n",
       "      <td>-1.005097e-16</td>\n",
       "      <td>3.884244e-18</td>\n",
       "      <td>4.999816e-19</td>\n",
       "      <td>155.0</td>\n",
       "      <td>2.0</td>\n",
       "      <td>49.0</td>\n",
       "      <td>0.999788</td>\n",
       "      <td>0.002821</td>\n",
       "      <td>-0.004040</td>\n",
       "      <td>1.381960e-12</td>\n",
       "      <td>2.000000e-10</td>\n",
       "    </tr>\n",
       "  </tbody>\n",
       "</table>\n",
       "</div>"
      ],
      "text/plain": [
       "               E  Ecount     max_dm/dt         dE/dt        deltaE  \\\n",
       "0  -4.971104e-18    49.0  14057.666435 -2.578686e-06 -2.528730e-18   \n",
       "1  -1.583953e-17    62.0  14474.714493 -2.708355e-06 -5.303152e-18   \n",
       "2  -2.543710e-17    75.0  13233.511815 -2.064454e-06 -3.576661e-18   \n",
       "3  -3.360761e-17    88.0  13099.959436 -2.204825e-06 -3.420178e-18   \n",
       "4  -4.310056e-17   101.0  13547.596427 -2.374234e-06 -3.869850e-18   \n",
       "5  -5.119846e-17   114.0  12116.859576 -1.635911e-06 -2.817518e-18   \n",
       "6  -5.732008e-17   127.0  11810.480069 -1.604258e-06 -2.350551e-18   \n",
       "7  -6.417422e-17   140.0  11982.354487 -1.685143e-06 -2.550500e-18   \n",
       "8  -6.974612e-17   153.0  10543.768892 -1.094236e-06 -1.561675e-18   \n",
       "9  -7.381886e-17   166.0  10004.943987 -1.056150e-06 -1.355884e-18   \n",
       "10 -7.815629e-17   179.0   9708.025378 -1.016525e-06 -1.390067e-18   \n",
       "11 -8.142567e-17   192.0   8272.130403 -6.455027e-07 -7.707325e-19   \n",
       "12 -8.392020e-17   205.0   8113.603995 -6.512579e-07 -6.613759e-19   \n",
       "13 -8.644415e-17   218.0   7577.535423 -5.526843e-07 -6.615181e-19   \n",
       "14 -8.818814e-17   231.0   6337.750110 -3.562692e-07 -3.924395e-19   \n",
       "15 -8.963520e-17   244.0   6246.023772 -3.789543e-07 -3.570481e-19   \n",
       "16 -9.101956e-17   257.0   5429.597169 -2.845059e-07 -2.919537e-19   \n",
       "17 -9.192069e-17   270.0   4741.102674 -1.944252e-07 -1.893618e-19   \n",
       "18 -9.273061e-17   283.0   4685.794842 -2.077057e-07 -1.924596e-19   \n",
       "19 -9.345108e-17   296.0   3898.556695 -1.425256e-07 -1.327456e-19   \n",
       "20 -9.392185e-17   309.0   3579.682260 -1.085426e-07 -9.428597e-20   \n",
       "21 -9.436689e-17   322.0   3511.984497 -1.083383e-07 -9.311062e-20   \n",
       "22 -9.472585e-17   335.0   2693.243358 -7.040590e-08 -5.976459e-20   \n",
       "23 -9.497681e-17   348.0   2709.010117 -6.157575e-08 -8.420360e-20   \n",
       "24 -9.521889e-17   361.0   2624.718917 -5.479434e-08 -8.005722e-20   \n",
       "25 -9.539387e-17   374.0   1948.239184 -3.481459e-08 -5.128300e-20   \n",
       "26 -9.552849e-17   387.0   2176.495106 -3.453690e-08 -4.711886e-20   \n",
       "27 -9.565798e-17   400.0   1943.515179 -2.742930e-08 -4.102666e-20   \n",
       "28 -9.574395e-17   413.0   1523.290879 -1.770122e-08 -2.546018e-20   \n",
       "29 -9.581615e-17   426.0   1730.704017 -1.872097e-08 -2.570666e-20   \n",
       "30 -9.588354e-17   439.0   1433.930777 -1.370180e-08 -2.071051e-20   \n",
       "31 -9.592730e-17   452.0   1220.393577 -9.495102e-09 -1.338139e-20   \n",
       "32 -9.596623e-17   465.0   1356.826693 -9.782191e-09 -1.366571e-20   \n",
       "33 -9.600009e-17   478.0   1062.977377 -6.788046e-09 -1.021586e-20   \n",
       "34 -9.602312e-17   491.0    989.110783 -5.346558e-09 -7.415499e-21   \n",
       "35 -9.604440e-17   504.0   1047.188997 -5.019139e-09 -7.198641e-21   \n",
       "36 -9.606102e-17   517.0    793.665178 -3.327298e-09 -4.941149e-21   \n",
       "37 -9.607327e-17   530.0    797.286836 -3.040536e-09 -4.165229e-21   \n",
       "38 -9.608497e-17   543.0    794.457669 -2.590055e-09 -3.811341e-21   \n",
       "39 -9.609320e-17   556.0    598.628938 -1.651626e-09 -2.418648e-21   \n",
       "40 -9.609969e-17   569.0    633.993068 -1.678943e-09 -2.286872e-21   \n",
       "41 -9.610602e-17   582.0    591.929165 -1.349711e-09 -2.012029e-21   \n",
       "42 -9.611026e-17   595.0    454.252113 -8.680359e-10 -1.256267e-21   \n",
       "43 -9.611373e-17   608.0    493.926390 -8.912616e-10 -1.223326e-21   \n",
       "44 -9.611702e-17   621.0    433.440259 -6.950896e-10 -1.033625e-21   \n",
       "45 -9.611929e-17   634.0    346.025211 -4.910254e-10 -7.002327e-22   \n",
       "46 -9.612121e-17   647.0    376.522108 -4.660897e-10 -6.552980e-22   \n",
       "47 -9.612286e-17   660.0    312.315802 -3.463265e-10 -5.101347e-22   \n",
       "48 -9.612408e-17   673.0    294.597880 -2.863173e-10 -3.998714e-22   \n",
       "49 -9.612518e-17   686.0    280.521095 -2.491854e-10 -3.608874e-22   \n",
       "\n",
       "             Eex  max_spin_angle  stage_max_spin_angle  run_max_spin_angle  \\\n",
       "0   1.252607e-21        4.125459              4.125459            4.125459   \n",
       "1   4.084886e-21        7.412512              7.412512            7.412512   \n",
       "2   4.184327e-21        7.337951              7.412512            7.412512   \n",
       "3   6.276926e-21        9.577521              9.577521            9.577521   \n",
       "4   1.519146e-20       14.358989             14.358989           14.358989   \n",
       "5   2.049299e-20       18.020651             18.020651           18.020651   \n",
       "6   2.412267e-20       19.921844             19.921844           19.921844   \n",
       "7   3.875910e-20       24.440849             24.440849           24.440849   \n",
       "8   4.549134e-20       27.078708             27.078708           27.078708   \n",
       "9   4.434775e-20       26.832555             27.078708           27.078708   \n",
       "10  5.827391e-20       30.704413             30.704413           30.704413   \n",
       "11  6.297164e-20       32.300362             32.552425           32.552425   \n",
       "12  5.323303e-20       29.192422             32.300362           32.552425   \n",
       "13  5.799018e-20       31.076706             31.076706           32.552425   \n",
       "14  6.074933e-20       32.220102             32.563036           32.563036   \n",
       "15  4.860318e-20       27.528597             32.220102           32.563036   \n",
       "16  4.416652e-20       26.195698             27.528597           32.563036   \n",
       "17  4.480009e-20       27.290221             27.431678           32.563036   \n",
       "18  3.649560e-20       23.420646             27.290221           32.563036   \n",
       "19  2.892751e-20       20.156730             23.420646           32.563036   \n",
       "20  2.727854e-20       20.834427             20.837047           32.563036   \n",
       "21  2.355919e-20       18.527767             20.834427           32.563036   \n",
       "22  1.780268e-20       14.875111             18.527767           32.563036   \n",
       "23  1.494501e-20       14.819878             14.875111           32.563036   \n",
       "24  1.352323e-20       13.809579             14.819878           32.563036   \n",
       "25  1.062206e-20       11.495509             13.809579           32.563036   \n",
       "26  8.002664e-21        9.676843             11.495509           32.563036   \n",
       "27  7.201317e-21        9.709796              9.715628           32.563036   \n",
       "28  6.206959e-21        8.850428              9.709796           32.563036   \n",
       "29  4.586701e-21        7.252859              8.850428           32.563036   \n",
       "30  3.852503e-21        6.833438              7.252859           32.563036   \n",
       "31  3.511370e-21        6.814545              6.894450           32.563036   \n",
       "32  2.781351e-21        5.990758              6.814545           32.563036   \n",
       "33  2.211824e-21        4.895173              5.990758           32.563036   \n",
       "34  1.966222e-21        4.986071              4.986071           32.563036   \n",
       "35  1.718357e-21        4.827615              4.986071           32.563036   \n",
       "36  1.391890e-21        4.119501              4.827615           32.563036   \n",
       "37  1.133142e-21        3.660586              4.119501           32.563036   \n",
       "38  1.026715e-21        3.799328              3.799328           32.563036   \n",
       "39  8.934847e-22        3.444291              3.799328           32.563036   \n",
       "40  7.001819e-22        3.127799              3.444291           32.563036   \n",
       "41  6.198842e-22        3.406749              3.406749           32.563036   \n",
       "42  5.755111e-22        3.182415              3.406749           32.563036   \n",
       "43  4.699718e-22        2.806399              3.182415           32.563036   \n",
       "44  4.040667e-22        3.097180              3.097180           32.563036   \n",
       "45  3.806948e-22        3.058294              3.105198           32.563036   \n",
       "46  3.384156e-22        2.811503              3.058294           32.563036   \n",
       "47  3.017293e-22        2.839674              2.839674           32.563036   \n",
       "48  2.821211e-22        2.902867              2.902867           32.563036   \n",
       "49  2.660549e-22        2.842004              2.902867           32.563036   \n",
       "\n",
       "    FixedZeeman:zeeman:Energy            Ed            Ea  iteration  \\\n",
       "0               -2.484413e-17  1.964881e-17  2.229652e-19        8.0   \n",
       "1               -4.079416e-17  2.482185e-17  1.286896e-19       11.0   \n",
       "2               -3.148713e-17  5.577760e-18  4.680859e-19       14.0   \n",
       "3               -4.581115e-17  1.183394e-17  3.633244e-19       17.0   \n",
       "4               -6.334196e-17  2.001349e-17  2.127187e-19       20.0   \n",
       "5               -5.814007e-17  6.471832e-18  4.492824e-19       23.0   \n",
       "6               -6.613584e-17  8.369575e-18  4.220608e-19       26.0   \n",
       "7               -7.818518e-17  1.364622e-17  3.259818e-19       29.0   \n",
       "8               -7.607731e-17  5.823638e-18  4.620604e-19       32.0   \n",
       "9               -8.137292e-17  7.068903e-18  4.408104e-19       35.0   \n",
       "10              -8.748276e-17  8.858049e-18  4.101442e-19       38.0   \n",
       "11              -8.681423e-17  4.843998e-18  4.815922e-19       41.0   \n",
       "12              -9.071778e-17  6.291421e-18  4.529219e-19       44.0   \n",
       "13              -9.313527e-17  6.175854e-18  4.572730e-19       47.0   \n",
       "14              -9.300001e-17  4.258162e-18  4.929640e-19       50.0   \n",
       "15              -9.563123e-17  5.479407e-18  4.680283e-19       53.0   \n",
       "16              -9.642011e-17  4.876318e-18  4.800586e-19       56.0   \n",
       "17              -9.653696e-17  4.075604e-18  4.958638e-19       59.0   \n",
       "18              -9.803540e-17  4.786120e-18  4.821725e-19       62.0   \n",
       "19              -9.826514e-17  4.294132e-18  4.910015e-19       65.0   \n",
       "20              -9.850686e-17  4.062037e-18  4.956899e-19       68.0   \n",
       "21              -9.920584e-17  4.323906e-18  4.914831e-19       71.0   \n",
       "22              -9.926440e-17  4.024359e-18  4.963928e-19       74.0   \n",
       "23              -9.953639e-17  4.048709e-18  4.959322e-19       77.0   \n",
       "24              -9.981505e-17  4.086505e-18  4.961352e-19       80.0   \n",
       "25              -9.982310e-17  3.919802e-18  4.988077e-19       83.0   \n",
       "26              -1.000393e-16  4.005740e-18  4.970640e-19       86.0   \n",
       "27              -1.001392e-16  3.975887e-18  4.981086e-19       89.0   \n",
       "28              -1.001391e-16  3.889368e-18  4.995974e-19       92.0   \n",
       "29              -1.002741e-16  3.954968e-18  4.983436e-19       95.0   \n",
       "30              -1.003120e-16  3.925632e-18  4.990065e-19       98.0   \n",
       "31              -1.003199e-16  3.889382e-18  4.997066e-19      101.0   \n",
       "32              -1.003869e-16  3.918676e-18  4.992220e-19      104.0   \n",
       "33              -1.004019e-16  3.900036e-18  4.995213e-19      107.0   \n",
       "34              -1.004176e-16  3.892828e-18  4.996964e-19      110.0   \n",
       "35              -1.004457e-16  3.899924e-18  4.996477e-19      113.0   \n",
       "36              -1.004498e-16  3.887612e-18  4.998194e-19      116.0   \n",
       "37              -1.004661e-16  3.891900e-18  4.997527e-19      119.0   \n",
       "38              -1.004775e-16  3.891713e-18  4.998121e-19      122.0   \n",
       "39              -1.004776e-16  3.883554e-18  4.999489e-19      125.0   \n",
       "40              -1.004893e-16  3.889026e-18  4.998504e-19      128.0   \n",
       "41              -1.004947e-16  3.888166e-18  4.998854e-19      131.0   \n",
       "42              -1.004941e-16  3.883313e-18  4.999787e-19      134.0   \n",
       "43              -1.005002e-16  3.886030e-18  4.999287e-19      137.0   \n",
       "44              -1.005030e-16  3.885685e-18  4.999368e-19      140.0   \n",
       "45              -1.005037e-16  3.884022e-18  4.999770e-19      143.0   \n",
       "46              -1.005063e-16  3.884770e-18  4.999680e-19      146.0   \n",
       "47              -1.005075e-16  3.884357e-18  4.999737e-19      149.0   \n",
       "48              -1.005086e-16  3.884299e-18  4.999782e-19      152.0   \n",
       "49              -1.005097e-16  3.884244e-18  4.999816e-19      155.0   \n",
       "\n",
       "    stage_iteration  stage        mx        my        mz  last_time_step  \\\n",
       "0               8.0    0.0  0.247129  0.619206  0.744268    1.005839e-12   \n",
       "1               2.0    1.0  0.405787 -0.297709  0.861196    1.925873e-12   \n",
       "2               2.0    2.0  0.313208 -0.915132  0.243315    1.632482e-12   \n",
       "3               2.0    3.0  0.455692 -0.717423 -0.519158    1.625403e-12   \n",
       "4               2.0    4.0  0.630074  0.102425 -0.757073    1.597991e-12   \n",
       "5               2.0    5.0  0.578330  0.746072 -0.290307    1.580947e-12   \n",
       "6               2.0    6.0  0.657865  0.635767  0.365731    1.524089e-12   \n",
       "7               2.0    7.0  0.777722 -0.041183  0.587646    1.470635e-12   \n",
       "8               2.0    8.0  0.756755 -0.568718  0.227358    1.321711e-12   \n",
       "9               2.0    9.0  0.809431 -0.469866 -0.271833    1.321130e-12   \n",
       "10              2.0   10.0  0.870207  0.052365 -0.413256    1.308634e-12   \n",
       "11              2.0   11.0  0.863557  0.411596 -0.129874    1.130405e-12   \n",
       "12              2.0   12.0  0.902386  0.293623  0.210916    1.032200e-12   \n",
       "13              2.0   13.0  0.926434 -0.083276  0.263879    1.129328e-12   \n",
       "14              2.0   14.0  0.925088 -0.284883  0.042190    1.066685e-12   \n",
       "15              2.0   15.0  0.951261 -0.149918 -0.166340    9.484053e-13   \n",
       "16              2.0   16.0  0.959109  0.106504 -0.152245    9.633220e-13   \n",
       "17              2.0   17.0  0.960271  0.190125  0.017910    9.642177e-13   \n",
       "18              2.0   18.0  0.975176  0.052559  0.130106    9.217037e-13   \n",
       "19              2.0   19.0  0.977461 -0.112901  0.077747    8.769503e-13   \n",
       "20              2.0   20.0  0.979866 -0.123110 -0.049098    8.710144e-13   \n",
       "21              2.0   21.0  0.986819  0.002768 -0.099424    8.425369e-13   \n",
       "22              2.0   22.0  0.987401  0.104576 -0.033145    8.090200e-13   \n",
       "23              2.0   23.0  0.990107  0.077612  0.058135    1.381960e-12   \n",
       "24              2.0   24.0  0.992879 -0.027379  0.073257    1.381960e-12   \n",
       "25              2.0   25.0  0.992959 -0.086966  0.009445    1.381960e-12   \n",
       "26              2.0   26.0  0.995109 -0.047434 -0.053411    1.381960e-12   \n",
       "27              2.0   27.0  0.996103  0.033040 -0.051309    1.381960e-12   \n",
       "28              2.0   28.0  0.996102  0.065671  0.001378    1.381960e-12   \n",
       "29              2.0   29.0  0.997444  0.027477  0.042148    1.381960e-12   \n",
       "30              2.0   30.0  0.997822 -0.029135  0.033386    1.381960e-12   \n",
       "31              2.0   31.0  0.997900 -0.044864 -0.005332    1.381960e-12   \n",
       "32              2.0   32.0  0.998567 -0.014076 -0.029442    1.381960e-12   \n",
       "33              2.0   33.0  0.998716  0.021985 -0.019342    1.381960e-12   \n",
       "34              2.0   34.0  0.998872  0.027190  0.006229    1.381960e-12   \n",
       "35              2.0   35.0  0.999152  0.005003  0.018288    1.381960e-12   \n",
       "36              2.0   36.0  0.999193 -0.015094  0.008999    1.381960e-12   \n",
       "37              2.0   37.0  0.999354 -0.013871 -0.006080    1.381960e-12   \n",
       "38              2.0   38.0  0.999468  0.000969 -0.009971    1.381960e-12   \n",
       "39              2.0   39.0  0.999469  0.009887 -0.002038    1.381960e-12   \n",
       "40              2.0   40.0  0.999585  0.004999  0.005698    1.381960e-12   \n",
       "41              2.0   41.0  0.999639 -0.004523  0.004597    1.381960e-12   \n",
       "42              2.0   42.0  0.999634 -0.006514 -0.002042    1.381960e-12   \n",
       "43              2.0   43.0  0.999694  0.000070 -0.005266    1.381960e-12   \n",
       "44              2.0   44.0  0.999722  0.006158 -0.001626    1.381960e-12   \n",
       "45              2.0   45.0  0.999729  0.004535  0.003889    1.381960e-12   \n",
       "46              2.0   46.0  0.999755 -0.002332  0.004732    1.381960e-12   \n",
       "47              2.0   47.0  0.999766 -0.006350  0.000294    1.381960e-12   \n",
       "48              2.0   48.0  0.999778 -0.003382 -0.004203    1.381960e-12   \n",
       "49              2.0   49.0  0.999788  0.002821 -0.004040    1.381960e-12   \n",
       "\n",
       "               t  \n",
       "0   4.000000e-12  \n",
       "1   8.000000e-12  \n",
       "2   1.200000e-11  \n",
       "3   1.600000e-11  \n",
       "4   2.000000e-11  \n",
       "5   2.400000e-11  \n",
       "6   2.800000e-11  \n",
       "7   3.200000e-11  \n",
       "8   3.600000e-11  \n",
       "9   4.000000e-11  \n",
       "10  4.400000e-11  \n",
       "11  4.800000e-11  \n",
       "12  5.200000e-11  \n",
       "13  5.600000e-11  \n",
       "14  6.000000e-11  \n",
       "15  6.400000e-11  \n",
       "16  6.800000e-11  \n",
       "17  7.200000e-11  \n",
       "18  7.600000e-11  \n",
       "19  8.000000e-11  \n",
       "20  8.400000e-11  \n",
       "21  8.800000e-11  \n",
       "22  9.200000e-11  \n",
       "23  9.600000e-11  \n",
       "24  1.000000e-10  \n",
       "25  1.040000e-10  \n",
       "26  1.080000e-10  \n",
       "27  1.120000e-10  \n",
       "28  1.160000e-10  \n",
       "29  1.200000e-10  \n",
       "30  1.240000e-10  \n",
       "31  1.280000e-10  \n",
       "32  1.320000e-10  \n",
       "33  1.360000e-10  \n",
       "34  1.400000e-10  \n",
       "35  1.440000e-10  \n",
       "36  1.480000e-10  \n",
       "37  1.520000e-10  \n",
       "38  1.560000e-10  \n",
       "39  1.600000e-10  \n",
       "40  1.640000e-10  \n",
       "41  1.680000e-10  \n",
       "42  1.720000e-10  \n",
       "43  1.760000e-10  \n",
       "44  1.800000e-10  \n",
       "45  1.840000e-10  \n",
       "46  1.880000e-10  \n",
       "47  1.920000e-10  \n",
       "48  1.960000e-10  \n",
       "49  2.000000e-10  "
      ]
     },
     "execution_count": 37,
     "metadata": {},
     "output_type": "execute_result"
    }
   ],
   "source": [
    "system.dt"
   ]
  },
  {
   "cell_type": "code",
   "execution_count": 38,
   "metadata": {
    "collapsed": false
   },
   "outputs": [
    {
     "data": {
      "text/plain": [
       "<matplotlib.axes._subplots.AxesSubplot at 0x7fef6999ff60>"
      ]
     },
     "execution_count": 38,
     "metadata": {},
     "output_type": "execute_result"
    },
    {
     "data": {
      "image/png": "[encoded data removed]",
      "text/plain": [
       "<matplotlib.figure.Figure at 0x7fef68717f60>"
      ]
     },
     "metadata": {},
     "output_type": "display_data"
    }
   ],
   "source": [
    "system.dt.plot(\"t\", \"E\")"
   ]
  }
 ],
 "metadata": {
  "kernelspec": {
   "display_name": "Python 3",
   "language": "python",
   "name": "python3"
  },
  "language_info": {
   "codemirror_mode": {
    "name": "ipython",
    "version": 3
   },
   "file_extension": ".py",
   "mimetype": "text/x-python",
   "name": "python",
   "nbconvert_exporter": "python",
   "pygments_lexer": "ipython3",
   "version": "3.5.2"
  }
 },
 "nbformat": 4,
 "nbformat_minor": 0
}
