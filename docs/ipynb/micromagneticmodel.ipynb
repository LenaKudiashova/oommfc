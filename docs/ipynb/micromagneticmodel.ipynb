{
 "cells": [
  {
   "cell_type": "markdown",
   "metadata": {},
   "source": [
    "# Micromagnetic model\n",
    "\n",
    "## Mesh\n",
    "\n",
    "The mesh is defined by three parameters:\n",
    "\n",
    "1. points `p1` and `p2` between which the mesh domain spans,\n",
    "2. discretisation cell size `cell`.\n",
    "\n",
    "There is also an optional `name` argument. For instance, if the mesh spans between `p1 = (0, 0, 0)` and `p2 = (100e-9, 100e-9, 10e-9)` and the discretisation cell is `cell = (5e-9, 5e-9, 5e-9)`, we create the mesh as:"
   ]
  },
  {
   "cell_type": "code",
   "execution_count": 1,
   "metadata": {
    "collapsed": false
   },
   "outputs": [],
   "source": [
    "import oommfc as oc\n",
    "\n",
    "mesh = oc.Mesh(p1=(0, 0, 0), p2=(100e-9, 100e-9, 10e-9), cell=(10e-9, 10e-9, 10e-9), name=\"mesh\")\n",
    "mesh"
   ]
  },
  {
   "cell_type": "markdown",
   "metadata": {},
   "source": [
    "The domain edge lengths in x, y, and z directions are:"
   ]
  },
  {
   "cell_type": "code",
   "execution_count": 2,
   "metadata": {
    "collapsed": false
   },
   "outputs": [
    {
     "data": {
      "text/plain": [
       "(1e-07, 1e-07, 1e-08)"
      ]
     },
     "execution_count": 2,
     "metadata": {},
     "output_type": "execute_result"
    }
   ],
   "source": [
    "mesh.l"
   ]
  },
  {
   "cell_type": "markdown",
   "metadata": {},
   "source": [
    "The number of cells in all three directions:"
   ]
  },
  {
   "cell_type": "code",
   "execution_count": 3,
   "metadata": {
    "collapsed": false
   },
   "outputs": [
    {
     "data": {
      "text/plain": [
       "(10, 10, 1)"
      ]
     },
     "execution_count": 3,
     "metadata": {},
     "output_type": "execute_result"
    }
   ],
   "source": [
    "mesh.n"
   ]
  },
  {
   "cell_type": "markdown",
   "metadata": {},
   "source": [
    "The centre point of the mesh:"
   ]
  },
  {
   "cell_type": "code",
   "execution_count": 4,
   "metadata": {
    "collapsed": false
   },
   "outputs": [
    {
     "data": {
      "text/plain": [
       "(5e-08, 5e-08, 5e-09)"
      ]
     },
     "execution_count": 4,
     "metadata": {},
     "output_type": "execute_result"
    }
   ],
   "source": [
    "mesh.centre"
   ]
  },
  {
   "cell_type": "markdown",
   "metadata": {},
   "source": [
    "To show the mesh domain and discretisation cell:"
   ]
  },
  {
   "cell_type": "code",
   "execution_count": 5,
   "metadata": {
    "collapsed": false
   },
   "outputs": [],
   "source": [
    "mesh"
   ]
  },
  {
   "cell_type": "markdown",
   "metadata": {},
   "source": [
    "If we want to iterate through all mesh coordinates, there is `coordinates` generator:"
   ]
  },
  {
   "cell_type": "code",
   "execution_count": 6,
   "metadata": {
    "collapsed": false
   },
   "outputs": [
    {
     "name": "stdout",
     "output_type": "stream",
     "text": [
      "(5e-09, 5e-09, 5e-09)\n",
      "(1.5000000000000002e-08, 5e-09, 5e-09)\n",
      "(2.5e-08, 5e-09, 5e-09)\n",
      "(3.5e-08, 5e-09, 5e-09)\n",
      "(4.5e-08, 5e-09, 5e-09)\n",
      "(5.5e-08, 5e-09, 5e-09)\n",
      "(6.5e-08, 5e-09, 5e-09)\n",
      "(7.5e-08, 5e-09, 5e-09)\n",
      "(8.500000000000001e-08, 5e-09, 5e-09)\n",
      "(9.5e-08, 5e-09, 5e-09)\n",
      "(5e-09, 1.5000000000000002e-08, 5e-09)\n",
      "(1.5000000000000002e-08, 1.5000000000000002e-08, 5e-09)\n",
      "(2.5e-08, 1.5000000000000002e-08, 5e-09)\n",
      "(3.5e-08, 1.5000000000000002e-08, 5e-09)\n",
      "(4.5e-08, 1.5000000000000002e-08, 5e-09)\n",
      "(5.5e-08, 1.5000000000000002e-08, 5e-09)\n",
      "(6.5e-08, 1.5000000000000002e-08, 5e-09)\n",
      "(7.5e-08, 1.5000000000000002e-08, 5e-09)\n",
      "(8.500000000000001e-08, 1.5000000000000002e-08, 5e-09)\n",
      "(9.5e-08, 1.5000000000000002e-08, 5e-09)\n",
      "(5e-09, 2.5e-08, 5e-09)\n",
      "(1.5000000000000002e-08, 2.5e-08, 5e-09)\n",
      "(2.5e-08, 2.5e-08, 5e-09)\n",
      "(3.5e-08, 2.5e-08, 5e-09)\n",
      "(4.5e-08, 2.5e-08, 5e-09)\n",
      "(5.5e-08, 2.5e-08, 5e-09)\n",
      "(6.5e-08, 2.5e-08, 5e-09)\n",
      "(7.5e-08, 2.5e-08, 5e-09)\n",
      "(8.500000000000001e-08, 2.5e-08, 5e-09)\n",
      "(9.5e-08, 2.5e-08, 5e-09)\n",
      "(5e-09, 3.5e-08, 5e-09)\n",
      "(1.5000000000000002e-08, 3.5e-08, 5e-09)\n",
      "(2.5e-08, 3.5e-08, 5e-09)\n",
      "(3.5e-08, 3.5e-08, 5e-09)\n",
      "(4.5e-08, 3.5e-08, 5e-09)\n",
      "(5.5e-08, 3.5e-08, 5e-09)\n",
      "(6.5e-08, 3.5e-08, 5e-09)\n",
      "(7.5e-08, 3.5e-08, 5e-09)\n",
      "(8.500000000000001e-08, 3.5e-08, 5e-09)\n",
      "(9.5e-08, 3.5e-08, 5e-09)\n",
      "(5e-09, 4.5e-08, 5e-09)\n",
      "(1.5000000000000002e-08, 4.5e-08, 5e-09)\n",
      "(2.5e-08, 4.5e-08, 5e-09)\n",
      "(3.5e-08, 4.5e-08, 5e-09)\n",
      "(4.5e-08, 4.5e-08, 5e-09)\n",
      "(5.5e-08, 4.5e-08, 5e-09)\n",
      "(6.5e-08, 4.5e-08, 5e-09)\n",
      "(7.5e-08, 4.5e-08, 5e-09)\n",
      "(8.500000000000001e-08, 4.5e-08, 5e-09)\n",
      "(9.5e-08, 4.5e-08, 5e-09)\n",
      "(5e-09, 5.5e-08, 5e-09)\n",
      "(1.5000000000000002e-08, 5.5e-08, 5e-09)\n",
      "(2.5e-08, 5.5e-08, 5e-09)\n",
      "(3.5e-08, 5.5e-08, 5e-09)\n",
      "(4.5e-08, 5.5e-08, 5e-09)\n",
      "(5.5e-08, 5.5e-08, 5e-09)\n",
      "(6.5e-08, 5.5e-08, 5e-09)\n",
      "(7.5e-08, 5.5e-08, 5e-09)\n",
      "(8.500000000000001e-08, 5.5e-08, 5e-09)\n",
      "(9.5e-08, 5.5e-08, 5e-09)\n",
      "(5e-09, 6.5e-08, 5e-09)\n",
      "(1.5000000000000002e-08, 6.5e-08, 5e-09)\n",
      "(2.5e-08, 6.5e-08, 5e-09)\n",
      "(3.5e-08, 6.5e-08, 5e-09)\n",
      "(4.5e-08, 6.5e-08, 5e-09)\n",
      "(5.5e-08, 6.5e-08, 5e-09)\n",
      "(6.5e-08, 6.5e-08, 5e-09)\n",
      "(7.5e-08, 6.5e-08, 5e-09)\n",
      "(8.500000000000001e-08, 6.5e-08, 5e-09)\n",
      "(9.5e-08, 6.5e-08, 5e-09)\n",
      "(5e-09, 7.5e-08, 5e-09)\n",
      "(1.5000000000000002e-08, 7.5e-08, 5e-09)\n",
      "(2.5e-08, 7.5e-08, 5e-09)\n",
      "(3.5e-08, 7.5e-08, 5e-09)\n",
      "(4.5e-08, 7.5e-08, 5e-09)\n",
      "(5.5e-08, 7.5e-08, 5e-09)\n",
      "(6.5e-08, 7.5e-08, 5e-09)\n",
      "(7.5e-08, 7.5e-08, 5e-09)\n",
      "(8.500000000000001e-08, 7.5e-08, 5e-09)\n",
      "(9.5e-08, 7.5e-08, 5e-09)\n",
      "(5e-09, 8.500000000000001e-08, 5e-09)\n",
      "(1.5000000000000002e-08, 8.500000000000001e-08, 5e-09)\n",
      "(2.5e-08, 8.500000000000001e-08, 5e-09)\n",
      "(3.5e-08, 8.500000000000001e-08, 5e-09)\n",
      "(4.5e-08, 8.500000000000001e-08, 5e-09)\n",
      "(5.5e-08, 8.500000000000001e-08, 5e-09)\n",
      "(6.5e-08, 8.500000000000001e-08, 5e-09)\n",
      "(7.5e-08, 8.500000000000001e-08, 5e-09)\n",
      "(8.500000000000001e-08, 8.500000000000001e-08, 5e-09)\n",
      "(9.5e-08, 8.500000000000001e-08, 5e-09)\n",
      "(5e-09, 9.5e-08, 5e-09)\n",
      "(1.5000000000000002e-08, 9.5e-08, 5e-09)\n",
      "(2.5e-08, 9.5e-08, 5e-09)\n",
      "(3.5e-08, 9.5e-08, 5e-09)\n",
      "(4.5e-08, 9.5e-08, 5e-09)\n",
      "(5.5e-08, 9.5e-08, 5e-09)\n",
      "(6.5e-08, 9.5e-08, 5e-09)\n",
      "(7.5e-08, 9.5e-08, 5e-09)\n",
      "(8.500000000000001e-08, 9.5e-08, 5e-09)\n",
      "(9.5e-08, 9.5e-08, 5e-09)\n"
     ]
    }
   ],
   "source": [
    "for coord in mesh.coordinates():\n",
    "    print(coord)"
   ]
  },
  {
   "cell_type": "markdown",
   "metadata": {},
   "source": [
    "## System"
   ]
  },
  {
   "cell_type": "markdown",
   "metadata": {},
   "source": [
    "The basic block of our micromagnetic model is the system object. It is fully defined if:\n",
    "\n",
    "1. Hamiltonian,\n",
    "2. dynamics equation,\n",
    "3. magnetisation.\n",
    "\n",
    "are provided. The system is then \"driven\" in phase space using particular drivers."
   ]
  },
  {
   "cell_type": "code",
   "execution_count": 7,
   "metadata": {
    "collapsed": false
   },
   "outputs": [],
   "source": [
    "system = oc.System(name=\"system\")"
   ]
  },
  {
   "cell_type": "markdown",
   "metadata": {},
   "source": [
    "## Hamiltonian"
   ]
  },
  {
   "cell_type": "code",
   "execution_count": 8,
   "metadata": {
    "collapsed": true
   },
   "outputs": [],
   "source": [
    "exchange = oc.Exchange(A=1e-12)"
   ]
  },
  {
   "cell_type": "code",
   "execution_count": 9,
   "metadata": {
    "collapsed": false
   },
   "outputs": [
    {
     "data": {
      "text/latex": [
       "$A [(\\nabla m_{x})^{2} + (\\nabla m_{y})^{2} + (\\nabla m_{z})^{2}]$"
      ],
      "text/plain": [
       "Exchange(A=1e-12)"
      ]
     },
     "execution_count": 9,
     "metadata": {},
     "output_type": "execute_result"
    }
   ],
   "source": [
    "exchange"
   ]
  },
  {
   "cell_type": "code",
   "execution_count": 10,
   "metadata": {
    "collapsed": false
   },
   "outputs": [
    {
     "data": {
      "text/plain": [
       "1e-12"
      ]
     },
     "execution_count": 10,
     "metadata": {},
     "output_type": "execute_result"
    }
   ],
   "source": [
    "exchange.A"
   ]
  },
  {
   "cell_type": "code",
   "execution_count": 11,
   "metadata": {
    "collapsed": false
   },
   "outputs": [
    {
     "data": {
      "text/plain": [
       "'Exchange(A=1e-12)'"
      ]
     },
     "execution_count": 11,
     "metadata": {},
     "output_type": "execute_result"
    }
   ],
   "source": [
    "repr(exchange)"
   ]
  },
  {
   "cell_type": "code",
   "execution_count": 12,
   "metadata": {
    "collapsed": false
   },
   "outputs": [
    {
     "data": {
      "text/plain": [
       "oommfc.hamiltonian.hamiltonian.Hamiltonian"
      ]
     },
     "execution_count": 12,
     "metadata": {},
     "output_type": "execute_result"
    }
   ],
   "source": [
    "hamiltonian = exchange + oc.Zeeman(H=(1e6, 0, 0))\n",
    "\n",
    "type(hamiltonian)"
   ]
  },
  {
   "cell_type": "code",
   "execution_count": 13,
   "metadata": {
    "collapsed": false
   },
   "outputs": [],
   "source": [
    "system.hamiltonian = hamiltonian"
   ]
  },
  {
   "cell_type": "code",
   "execution_count": 14,
   "metadata": {
    "collapsed": false
   },
   "outputs": [
    {
     "data": {
      "text/latex": [
       "$\\mathcal{H}=A [(\\nabla m_{x})^{2} + (\\nabla m_{y})^{2} + (\\nabla m_{z})^{2}]-\\mu_{0}M_\\text{s} \\mathbf{m} \\cdot \\mathbf{H}$"
      ],
      "text/plain": [
       "Exchange(A=1e-12) + Zeeman(H=(1000000.0, 0, 0))"
      ]
     },
     "execution_count": 14,
     "metadata": {},
     "output_type": "execute_result"
    }
   ],
   "source": [
    "system.hamiltonian"
   ]
  },
  {
   "cell_type": "code",
   "execution_count": 15,
   "metadata": {
    "collapsed": false
   },
   "outputs": [
    {
     "data": {
      "text/plain": [
       "1e-12"
      ]
     },
     "execution_count": 15,
     "metadata": {},
     "output_type": "execute_result"
    }
   ],
   "source": [
    "system.hamiltonian.exchange.A"
   ]
  },
  {
   "cell_type": "code",
   "execution_count": 16,
   "metadata": {
    "collapsed": false
   },
   "outputs": [
    {
     "data": {
      "text/plain": [
       "(1000000.0, 0, 0)"
      ]
     },
     "execution_count": 16,
     "metadata": {},
     "output_type": "execute_result"
    }
   ],
   "source": [
    "system.hamiltonian.zeeman.H"
   ]
  },
  {
   "cell_type": "code",
   "execution_count": 17,
   "metadata": {
    "collapsed": true
   },
   "outputs": [],
   "source": [
    "system.hamiltonian += oc.Demag(name=\"energy_term_name\")"
   ]
  },
  {
   "cell_type": "code",
   "execution_count": 18,
   "metadata": {
    "collapsed": false
   },
   "outputs": [
    {
     "data": {
      "text/latex": [
       "$-\\frac{1}{2}\\mu_{0}M_\\text{s}\\mathbf{m} \\cdot \\mathbf{H}_\\text{d}$"
      ],
      "text/plain": [
       "Demag()"
      ]
     },
     "execution_count": 18,
     "metadata": {},
     "output_type": "execute_result"
    }
   ],
   "source": [
    "system.hamiltonian.energy_term_name"
   ]
  },
  {
   "cell_type": "markdown",
   "metadata": {},
   "source": [
    "## Dynamics"
   ]
  },
  {
   "cell_type": "code",
   "execution_count": 19,
   "metadata": {
    "collapsed": true
   },
   "outputs": [],
   "source": [
    "system.dynamics = oc.Precession(gamma=2.211e5) + oc.Damping(alpha=0.1)"
   ]
  },
  {
   "cell_type": "code",
   "execution_count": 20,
   "metadata": {
    "collapsed": false
   },
   "outputs": [
    {
     "data": {
      "text/latex": [
       "$\\frac{\\partial \\mathbf{m}}{\\partial t}=-\\gamma \\mathbf{m} \\times \\mathbf{H}_\\text{eff}+\\alpha \\mathbf{m} \\times\\frac{\\partial \\mathbf{m}}{\\partial t}$"
      ],
      "text/plain": [
       "Precession(gamma=221100.0) + Damping(alpha=0.1)"
      ]
     },
     "execution_count": 20,
     "metadata": {},
     "output_type": "execute_result"
    }
   ],
   "source": [
    "system.dynamics"
   ]
  },
  {
   "cell_type": "markdown",
   "metadata": {},
   "source": [
    "## Magnetisation"
   ]
  },
  {
   "cell_type": "code",
   "execution_count": 21,
   "metadata": {
    "collapsed": true
   },
   "outputs": [],
   "source": [
    "import discretisedfield as df"
   ]
  },
  {
   "cell_type": "code",
   "execution_count": 22,
   "metadata": {
    "collapsed": false
   },
   "outputs": [],
   "source": [
    "Ms = 8e5\n",
    "m = df.Field(mesh, value=(1, 0, 1), norm=Ms, name=\"m\")"
   ]
  },
  {
   "cell_type": "code",
   "execution_count": 23,
   "metadata": {
    "collapsed": false
   },
   "outputs": [
    {
     "data": {
      "text/plain": [
       "Field(dim=3, name=\"m\")"
      ]
     },
     "execution_count": 23,
     "metadata": {},
     "output_type": "execute_result"
    }
   ],
   "source": [
    "m  # representation to be decided"
   ]
  },
  {
   "cell_type": "code",
   "execution_count": 24,
   "metadata": {
    "collapsed": false
   },
   "outputs": [
    {
     "data": {
      "text/plain": [
       "array([ 565685.42494924,       0.        ,  565685.42494924])"
      ]
     },
     "execution_count": 24,
     "metadata": {},
     "output_type": "execute_result"
    }
   ],
   "source": [
    "p = (50e-9, 50e-9, 5e-9)\n",
    "m(p)  # sampling"
   ]
  },
  {
   "cell_type": "code",
   "execution_count": 25,
   "metadata": {
    "collapsed": false
   },
   "outputs": [
    {
     "data": {
      "image/png": "[encoded data removed]",
      "text/plain": [
       "<matplotlib.figure.Figure at 0x7f35db6e4c18>"
      ]
     },
     "metadata": {},
     "output_type": "display_data"
    }
   ],
   "source": [
    "%matplotlib inline\n",
    "fig = m.plot_line_intersection(l=(100, 100, 10), l0=(0, 0, 0))"
   ]
  },
  {
   "cell_type": "code",
   "execution_count": 26,
   "metadata": {
    "collapsed": false
   },
   "outputs": [],
   "source": [
    "m.f = lambda pos: (pos[0]+pos[2]+1, pos[2], 0)"
   ]
  },
  {
   "cell_type": "code",
   "execution_count": 27,
   "metadata": {
    "collapsed": true
   },
   "outputs": [],
   "source": [
    "system.m = m"
   ]
  },
  {
   "cell_type": "markdown",
   "metadata": {},
   "source": [
    "## Drivers"
   ]
  },
  {
   "cell_type": "markdown",
   "metadata": {},
   "source": [
    "### MinDriver"
   ]
  },
  {
   "cell_type": "code",
   "execution_count": 28,
   "metadata": {
    "collapsed": false
   },
   "outputs": [],
   "source": [
    "md = oc.MinDriver()\n",
    "md.drive(system)"
   ]
  },
  {
   "cell_type": "code",
   "execution_count": 29,
   "metadata": {
    "collapsed": false
   },
   "outputs": [
    {
     "data": {
      "text/plain": [
       "(799861.70786910132, 6.5483618527650831e-13, 0.00016779476496086212)"
      ]
     },
     "execution_count": 29,
     "metadata": {},
     "output_type": "execute_result"
    }
   ],
   "source": [
    "system.m.average"
   ]
  },
  {
   "cell_type": "code",
   "execution_count": 30,
   "metadata": {
    "collapsed": false
   },
   "outputs": [
    {
     "data": {
      "image/png": "[encoded data removed]",
      "text/plain": [
       "<matplotlib.figure.Figure at 0x7f35db4f4240>"
      ]
     },
     "metadata": {},
     "output_type": "display_data"
    }
   ],
   "source": [
    "fig = system.m.plot_slice(\"z\", 5e-9, xsize=6)"
   ]
  },
  {
   "cell_type": "code",
   "execution_count": 31,
   "metadata": {
    "collapsed": true
   },
   "outputs": [],
   "source": [
    "system.hamiltonian.zeeman.H = (0, 1e7, 0)"
   ]
  },
  {
   "cell_type": "code",
   "execution_count": 32,
   "metadata": {
    "collapsed": false
   },
   "outputs": [],
   "source": [
    "md.drive(system)"
   ]
  },
  {
   "cell_type": "code",
   "execution_count": 33,
   "metadata": {
    "collapsed": false
   },
   "outputs": [
    {
     "data": {
      "image/png": "[encoded data removed]",
      "text/plain": [
       "<matplotlib.figure.Figure at 0x7f35db746e10>"
      ]
     },
     "metadata": {},
     "output_type": "display_data"
    }
   ],
   "source": [
    "fig = system.m.plot_slice(\"z\", 5e-9, xsize=6)"
   ]
  },
  {
   "cell_type": "markdown",
   "metadata": {},
   "source": [
    "### Time driver"
   ]
  },
  {
   "cell_type": "code",
   "execution_count": 34,
   "metadata": {
    "collapsed": false
   },
   "outputs": [],
   "source": [
    "system.hamiltonian += oc.UniaxialAnisotropy(K=5e3, u=(0, 0, 1))\n",
    "system.hamiltonian.zeeman.H = (1e6, 0, 0)"
   ]
  },
  {
   "cell_type": "code",
   "execution_count": 35,
   "metadata": {
    "collapsed": false
   },
   "outputs": [],
   "source": [
    "td = oc.TimeDriver()\n",
    "td.drive(system, t=0.2e-9, n=50)"
   ]
  },
  {
   "cell_type": "code",
   "execution_count": 36,
   "metadata": {
    "collapsed": false
   },
   "outputs": [
    {
     "data": {
      "image/png": "[encoded data removed]",
      "text/plain": [
       "<matplotlib.figure.Figure at 0x7f35bf6ca358>"
      ]
     },
     "metadata": {},
     "output_type": "display_data"
    }
   ],
   "source": [
    "fig = system.m.plot_slice(\"z\", 5e-9, xsize=6)"
   ]
  },
  {
   "cell_type": "code",
   "execution_count": 37,
   "metadata": {
    "collapsed": false
   },
   "outputs": [
    {
     "data": {
      "text/html": [
       "<div>\n",
       "<table border=\"1\" class=\"dataframe\">\n",
       "  <thead>\n",
       "    <tr style=\"text-align: right;\">\n",
       "      <th></th>\n",
       "      <th>E</th>\n",
       "      <th>Ecount</th>\n",
       "      <th>max_dm/dt</th>\n",
       "      <th>dE/dt</th>\n",
       "      <th>deltaE</th>\n",
       "      <th>Eex</th>\n",
       "      <th>max_spin_angle</th>\n",
       "      <th>stage_max_spin_angle</th>\n",
       "      <th>run_max_spin_angle</th>\n",
       "      <th>FixedZeeman:zeeman:Energy</th>\n",
       "      <th>Ed</th>\n",
       "      <th>Ea</th>\n",
       "      <th>iteration</th>\n",
       "      <th>stage_iteration</th>\n",
       "      <th>stage</th>\n",
       "      <th>mx</th>\n",
       "      <th>my</th>\n",
       "      <th>mz</th>\n",
       "      <th>last_time_step</th>\n",
       "      <th>t</th>\n",
       "    </tr>\n",
       "  </thead>\n",
       "  <tbody>\n",
       "    <tr>\n",
       "      <th>0</th>\n",
       "      <td>-4.972610e-18</td>\n",
       "      <td>49.0</td>\n",
       "      <td>14057.500049</td>\n",
       "      <td>-2.578684e-06</td>\n",
       "      <td>-2.528878e-18</td>\n",
       "      <td>1.252986e-21</td>\n",
       "      <td>4.126862</td>\n",
       "      <td>4.126862</td>\n",
       "      <td>4.126862</td>\n",
       "      <td>-2.484543e-17</td>\n",
       "      <td>1.964860e-17</td>\n",
       "      <td>2.229673e-19</td>\n",
       "      <td>8.0</td>\n",
       "      <td>8.0</td>\n",
       "      <td>0.0</td>\n",
       "      <td>0.247142</td>\n",
       "      <td>0.619203</td>\n",
       "      <td>0.744266</td>\n",
       "      <td>1.005901e-12</td>\n",
       "      <td>4.000000e-12</td>\n",
       "    </tr>\n",
       "    <tr>\n",
       "      <th>1</th>\n",
       "      <td>-1.584101e-17</td>\n",
       "      <td>62.0</td>\n",
       "      <td>14474.432247</td>\n",
       "      <td>-2.708337e-06</td>\n",
       "      <td>-5.303029e-18</td>\n",
       "      <td>4.085149e-21</td>\n",
       "      <td>7.415927</td>\n",
       "      <td>7.415927</td>\n",
       "      <td>7.415927</td>\n",
       "      <td>-4.079526e-17</td>\n",
       "      <td>2.482147e-17</td>\n",
       "      <td>1.286965e-19</td>\n",
       "      <td>11.0</td>\n",
       "      <td>2.0</td>\n",
       "      <td>1.0</td>\n",
       "      <td>0.405798</td>\n",
       "      <td>-0.297712</td>\n",
       "      <td>0.861187</td>\n",
       "      <td>1.925836e-12</td>\n",
       "      <td>8.000000e-12</td>\n",
       "    </tr>\n",
       "    <tr>\n",
       "      <th>2</th>\n",
       "      <td>-2.543848e-17</td>\n",
       "      <td>75.0</td>\n",
       "      <td>13233.615972</td>\n",
       "      <td>-2.064432e-06</td>\n",
       "      <td>-3.576564e-18</td>\n",
       "      <td>4.184822e-21</td>\n",
       "      <td>7.347229</td>\n",
       "      <td>7.415927</td>\n",
       "      <td>7.415927</td>\n",
       "      <td>-3.148853e-17</td>\n",
       "      <td>5.577776e-18</td>\n",
       "      <td>4.680872e-19</td>\n",
       "      <td>14.0</td>\n",
       "      <td>2.0</td>\n",
       "      <td>2.0</td>\n",
       "      <td>0.313222</td>\n",
       "      <td>-0.915128</td>\n",
       "      <td>0.243306</td>\n",
       "      <td>1.632458e-12</td>\n",
       "      <td>1.200000e-11</td>\n",
       "    </tr>\n",
       "    <tr>\n",
       "      <th>3</th>\n",
       "      <td>-3.360894e-17</td>\n",
       "      <td>88.0</td>\n",
       "      <td>13101.737005</td>\n",
       "      <td>-2.204817e-06</td>\n",
       "      <td>-3.420119e-18</td>\n",
       "      <td>6.278809e-21</td>\n",
       "      <td>9.597474</td>\n",
       "      <td>9.597474</td>\n",
       "      <td>9.597474</td>\n",
       "      <td>-4.581259e-17</td>\n",
       "      <td>1.183404e-17</td>\n",
       "      <td>3.633233e-19</td>\n",
       "      <td>17.0</td>\n",
       "      <td>2.0</td>\n",
       "      <td>3.0</td>\n",
       "      <td>0.455706</td>\n",
       "      <td>-0.717409</td>\n",
       "      <td>-0.519160</td>\n",
       "      <td>1.625381e-12</td>\n",
       "      <td>1.600000e-11</td>\n",
       "    </tr>\n",
       "    <tr>\n",
       "      <th>4</th>\n",
       "      <td>-4.310181e-17</td>\n",
       "      <td>101.0</td>\n",
       "      <td>13549.102685</td>\n",
       "      <td>-2.374196e-06</td>\n",
       "      <td>-3.869884e-18</td>\n",
       "      <td>1.519513e-20</td>\n",
       "      <td>14.382220</td>\n",
       "      <td>14.382220</td>\n",
       "      <td>14.382220</td>\n",
       "      <td>-6.334258e-17</td>\n",
       "      <td>2.001285e-17</td>\n",
       "      <td>2.127258e-19</td>\n",
       "      <td>20.0</td>\n",
       "      <td>2.0</td>\n",
       "      <td>4.0</td>\n",
       "      <td>0.630080</td>\n",
       "      <td>0.102439</td>\n",
       "      <td>-0.757062</td>\n",
       "      <td>1.598025e-12</td>\n",
       "      <td>2.000000e-11</td>\n",
       "    </tr>\n",
       "    <tr>\n",
       "      <th>5</th>\n",
       "      <td>-5.119952e-17</td>\n",
       "      <td>114.0</td>\n",
       "      <td>12117.920228</td>\n",
       "      <td>-1.635868e-06</td>\n",
       "      <td>-2.817490e-18</td>\n",
       "      <td>2.049784e-20</td>\n",
       "      <td>18.048693</td>\n",
       "      <td>18.048693</td>\n",
       "      <td>18.048693</td>\n",
       "      <td>-5.814086e-17</td>\n",
       "      <td>6.471562e-18</td>\n",
       "      <td>4.492841e-19</td>\n",
       "      <td>23.0</td>\n",
       "      <td>2.0</td>\n",
       "      <td>5.0</td>\n",
       "      <td>0.578338</td>\n",
       "      <td>0.746069</td>\n",
       "      <td>-0.290293</td>\n",
       "      <td>1.580972e-12</td>\n",
       "      <td>2.400000e-11</td>\n",
       "    </tr>\n",
       "    <tr>\n",
       "      <th>6</th>\n",
       "      <td>-5.732102e-17</td>\n",
       "      <td>127.0</td>\n",
       "      <td>11814.620873</td>\n",
       "      <td>-1.604232e-06</td>\n",
       "      <td>-2.350614e-18</td>\n",
       "      <td>2.412813e-20</td>\n",
       "      <td>19.955864</td>\n",
       "      <td>19.955864</td>\n",
       "      <td>19.955864</td>\n",
       "      <td>-6.613695e-17</td>\n",
       "      <td>8.369740e-18</td>\n",
       "      <td>4.220598e-19</td>\n",
       "      <td>26.0</td>\n",
       "      <td>2.0</td>\n",
       "      <td>6.0</td>\n",
       "      <td>0.657876</td>\n",
       "      <td>0.635751</td>\n",
       "      <td>0.365732</td>\n",
       "      <td>1.524156e-12</td>\n",
       "      <td>2.800000e-11</td>\n",
       "    </tr>\n",
       "    <tr>\n",
       "      <th>7</th>\n",
       "      <td>-6.417501e-17</td>\n",
       "      <td>140.0</td>\n",
       "      <td>11997.096980</td>\n",
       "      <td>-1.685099e-06</td>\n",
       "      <td>-2.550261e-18</td>\n",
       "      <td>3.876388e-20</td>\n",
       "      <td>24.482057</td>\n",
       "      <td>24.482057</td>\n",
       "      <td>24.482057</td>\n",
       "      <td>-7.818574e-17</td>\n",
       "      <td>1.364597e-17</td>\n",
       "      <td>3.259877e-19</td>\n",
       "      <td>29.0</td>\n",
       "      <td>2.0</td>\n",
       "      <td>7.0</td>\n",
       "      <td>0.777728</td>\n",
       "      <td>-0.041192</td>\n",
       "      <td>0.587635</td>\n",
       "      <td>1.470535e-12</td>\n",
       "      <td>3.200000e-11</td>\n",
       "    </tr>\n",
       "    <tr>\n",
       "      <th>8</th>\n",
       "      <td>-6.974677e-17</td>\n",
       "      <td>153.0</td>\n",
       "      <td>10543.105314</td>\n",
       "      <td>-1.094213e-06</td>\n",
       "      <td>-1.561713e-18</td>\n",
       "      <td>4.549471e-20</td>\n",
       "      <td>27.121779</td>\n",
       "      <td>27.121779</td>\n",
       "      <td>27.121779</td>\n",
       "      <td>-7.607791e-17</td>\n",
       "      <td>5.823583e-18</td>\n",
       "      <td>4.620613e-19</td>\n",
       "      <td>32.0</td>\n",
       "      <td>2.0</td>\n",
       "      <td>8.0</td>\n",
       "      <td>0.756761</td>\n",
       "      <td>-0.568713</td>\n",
       "      <td>0.227347</td>\n",
       "      <td>1.321771e-12</td>\n",
       "      <td>3.600000e-11</td>\n",
       "    </tr>\n",
       "    <tr>\n",
       "      <th>9</th>\n",
       "      <td>-7.381945e-17</td>\n",
       "      <td>166.0</td>\n",
       "      <td>10008.892870</td>\n",
       "      <td>-1.056136e-06</td>\n",
       "      <td>-1.356852e-18</td>\n",
       "      <td>4.435046e-20</td>\n",
       "      <td>26.825496</td>\n",
       "      <td>27.121779</td>\n",
       "      <td>27.121779</td>\n",
       "      <td>-8.137343e-17</td>\n",
       "      <td>7.068817e-18</td>\n",
       "      <td>4.408103e-19</td>\n",
       "      <td>35.0</td>\n",
       "      <td>2.0</td>\n",
       "      <td>9.0</td>\n",
       "      <td>0.809436</td>\n",
       "      <td>-0.469852</td>\n",
       "      <td>-0.271835</td>\n",
       "      <td>1.322114e-12</td>\n",
       "      <td>4.000000e-11</td>\n",
       "    </tr>\n",
       "    <tr>\n",
       "      <th>10</th>\n",
       "      <td>-7.815679e-17</td>\n",
       "      <td>179.0</td>\n",
       "      <td>9709.165709</td>\n",
       "      <td>-1.016491e-06</td>\n",
       "      <td>-1.389568e-18</td>\n",
       "      <td>5.827690e-20</td>\n",
       "      <td>30.695069</td>\n",
       "      <td>30.695069</td>\n",
       "      <td>30.695069</td>\n",
       "      <td>-8.748284e-17</td>\n",
       "      <td>8.857634e-18</td>\n",
       "      <td>4.101476e-19</td>\n",
       "      <td>38.0</td>\n",
       "      <td>2.0</td>\n",
       "      <td>10.0</td>\n",
       "      <td>0.870208</td>\n",
       "      <td>0.052375</td>\n",
       "      <td>-0.413247</td>\n",
       "      <td>1.308218e-12</td>\n",
       "      <td>4.400000e-11</td>\n",
       "    </tr>\n",
       "    <tr>\n",
       "      <th>11</th>\n",
       "      <td>-8.142605e-17</td>\n",
       "      <td>192.0</td>\n",
       "      <td>8273.073053</td>\n",
       "      <td>-6.454846e-07</td>\n",
       "      <td>-7.709695e-19</td>\n",
       "      <td>6.297487e-20</td>\n",
       "      <td>32.288798</td>\n",
       "      <td>32.541304</td>\n",
       "      <td>32.541304</td>\n",
       "      <td>-8.681460e-17</td>\n",
       "      <td>4.843981e-18</td>\n",
       "      <td>4.815920e-19</td>\n",
       "      <td>41.0</td>\n",
       "      <td>2.0</td>\n",
       "      <td>11.0</td>\n",
       "      <td>0.863561</td>\n",
       "      <td>0.411590</td>\n",
       "      <td>-0.129864</td>\n",
       "      <td>1.130766e-12</td>\n",
       "      <td>4.800000e-11</td>\n",
       "    </tr>\n",
       "    <tr>\n",
       "      <th>12</th>\n",
       "      <td>-8.392053e-17</td>\n",
       "      <td>205.0</td>\n",
       "      <td>8113.634264</td>\n",
       "      <td>-6.512433e-07</td>\n",
       "      <td>-6.614409e-19</td>\n",
       "      <td>5.323656e-20</td>\n",
       "      <td>29.228924</td>\n",
       "      <td>32.288798</td>\n",
       "      <td>32.541304</td>\n",
       "      <td>-9.071823e-17</td>\n",
       "      <td>6.291537e-18</td>\n",
       "      <td>4.529222e-19</td>\n",
       "      <td>44.0</td>\n",
       "      <td>2.0</td>\n",
       "      <td>12.0</td>\n",
       "      <td>0.902391</td>\n",
       "      <td>0.293610</td>\n",
       "      <td>0.210915</td>\n",
       "      <td>1.032325e-12</td>\n",
       "      <td>5.200000e-11</td>\n",
       "    </tr>\n",
       "    <tr>\n",
       "      <th>13</th>\n",
       "      <td>-8.644440e-17</td>\n",
       "      <td>218.0</td>\n",
       "      <td>7594.057644</td>\n",
       "      <td>-5.526646e-07</td>\n",
       "      <td>-6.615747e-19</td>\n",
       "      <td>5.799401e-20</td>\n",
       "      <td>31.113388</td>\n",
       "      <td>31.113388</td>\n",
       "      <td>32.541304</td>\n",
       "      <td>-9.313549e-17</td>\n",
       "      <td>6.175816e-18</td>\n",
       "      <td>4.572750e-19</td>\n",
       "      <td>47.0</td>\n",
       "      <td>2.0</td>\n",
       "      <td>13.0</td>\n",
       "      <td>0.926436</td>\n",
       "      <td>-0.083280</td>\n",
       "      <td>0.263871</td>\n",
       "      <td>1.129458e-12</td>\n",
       "      <td>5.600000e-11</td>\n",
       "    </tr>\n",
       "    <tr>\n",
       "      <th>14</th>\n",
       "      <td>-8.818834e-17</td>\n",
       "      <td>231.0</td>\n",
       "      <td>6336.985603</td>\n",
       "      <td>-3.562634e-07</td>\n",
       "      <td>-3.924233e-19</td>\n",
       "      <td>6.075232e-20</td>\n",
       "      <td>32.253835</td>\n",
       "      <td>32.597850</td>\n",
       "      <td>32.597850</td>\n",
       "      <td>-9.300023e-17</td>\n",
       "      <td>4.258178e-18</td>\n",
       "      <td>4.929638e-19</td>\n",
       "      <td>50.0</td>\n",
       "      <td>2.0</td>\n",
       "      <td>14.0</td>\n",
       "      <td>0.925090</td>\n",
       "      <td>-0.284877</td>\n",
       "      <td>0.042185</td>\n",
       "      <td>1.066663e-12</td>\n",
       "      <td>6.000000e-11</td>\n",
       "    </tr>\n",
       "    <tr>\n",
       "      <th>15</th>\n",
       "      <td>-8.963537e-17</td>\n",
       "      <td>244.0</td>\n",
       "      <td>6249.880727</td>\n",
       "      <td>-3.789459e-07</td>\n",
       "      <td>-3.570680e-19</td>\n",
       "      <td>4.860525e-20</td>\n",
       "      <td>27.558415</td>\n",
       "      <td>32.253835</td>\n",
       "      <td>32.597850</td>\n",
       "      <td>-9.563128e-17</td>\n",
       "      <td>5.479272e-18</td>\n",
       "      <td>4.680287e-19</td>\n",
       "      <td>53.0</td>\n",
       "      <td>2.0</td>\n",
       "      <td>15.0</td>\n",
       "      <td>0.951262</td>\n",
       "      <td>-0.149909</td>\n",
       "      <td>-0.166339</td>\n",
       "      <td>9.484774e-13</td>\n",
       "      <td>6.400000e-11</td>\n",
       "    </tr>\n",
       "    <tr>\n",
       "      <th>16</th>\n",
       "      <td>-9.101970e-17</td>\n",
       "      <td>257.0</td>\n",
       "      <td>5431.109707</td>\n",
       "      <td>-2.844943e-07</td>\n",
       "      <td>-2.921437e-19</td>\n",
       "      <td>4.416781e-20</td>\n",
       "      <td>26.190100</td>\n",
       "      <td>27.558415</td>\n",
       "      <td>32.597850</td>\n",
       "      <td>-9.642007e-17</td>\n",
       "      <td>4.876145e-18</td>\n",
       "      <td>4.800594e-19</td>\n",
       "      <td>56.0</td>\n",
       "      <td>2.0</td>\n",
       "      <td>16.0</td>\n",
       "      <td>0.959108</td>\n",
       "      <td>0.106506</td>\n",
       "      <td>-0.152240</td>\n",
       "      <td>9.639502e-13</td>\n",
       "      <td>6.800000e-11</td>\n",
       "    </tr>\n",
       "    <tr>\n",
       "      <th>17</th>\n",
       "      <td>-9.192080e-17</td>\n",
       "      <td>270.0</td>\n",
       "      <td>4746.158991</td>\n",
       "      <td>-1.944218e-07</td>\n",
       "      <td>-1.893285e-19</td>\n",
       "      <td>4.480091e-20</td>\n",
       "      <td>27.286636</td>\n",
       "      <td>27.427710</td>\n",
       "      <td>32.597850</td>\n",
       "      <td>-9.653709e-17</td>\n",
       "      <td>4.075629e-18</td>\n",
       "      <td>4.958636e-19</td>\n",
       "      <td>59.0</td>\n",
       "      <td>2.0</td>\n",
       "      <td>17.0</td>\n",
       "      <td>0.960272</td>\n",
       "      <td>0.190119</td>\n",
       "      <td>0.017914</td>\n",
       "      <td>9.640698e-13</td>\n",
       "      <td>7.200000e-11</td>\n",
       "    </tr>\n",
       "    <tr>\n",
       "      <th>18</th>\n",
       "      <td>-9.273070e-17</td>\n",
       "      <td>283.0</td>\n",
       "      <td>4684.957832</td>\n",
       "      <td>-2.076996e-07</td>\n",
       "      <td>-1.925192e-19</td>\n",
       "      <td>3.649638e-20</td>\n",
       "      <td>23.418190</td>\n",
       "      <td>27.286636</td>\n",
       "      <td>32.597850</td>\n",
       "      <td>-9.803553e-17</td>\n",
       "      <td>4.786159e-18</td>\n",
       "      <td>4.821730e-19</td>\n",
       "      <td>62.0</td>\n",
       "      <td>2.0</td>\n",
       "      <td>18.0</td>\n",
       "      <td>0.975177</td>\n",
       "      <td>0.052553</td>\n",
       "      <td>0.130104</td>\n",
       "      <td>9.220139e-13</td>\n",
       "      <td>7.600000e-11</td>\n",
       "    </tr>\n",
       "    <tr>\n",
       "      <th>19</th>\n",
       "      <td>-9.345114e-17</td>\n",
       "      <td>296.0</td>\n",
       "      <td>3909.781635</td>\n",
       "      <td>-1.425210e-07</td>\n",
       "      <td>-1.327432e-19</td>\n",
       "      <td>2.892808e-20</td>\n",
       "      <td>20.172364</td>\n",
       "      <td>23.418190</td>\n",
       "      <td>32.597850</td>\n",
       "      <td>-9.826524e-17</td>\n",
       "      <td>4.294163e-18</td>\n",
       "      <td>4.910018e-19</td>\n",
       "      <td>65.0</td>\n",
       "      <td>2.0</td>\n",
       "      <td>19.0</td>\n",
       "      <td>0.977462</td>\n",
       "      <td>-0.112901</td>\n",
       "      <td>0.077742</td>\n",
       "      <td>8.769637e-13</td>\n",
       "      <td>8.000000e-11</td>\n",
       "    </tr>\n",
       "    <tr>\n",
       "      <th>20</th>\n",
       "      <td>-9.392191e-17</td>\n",
       "      <td>309.0</td>\n",
       "      <td>3583.685151</td>\n",
       "      <td>-1.085415e-07</td>\n",
       "      <td>-9.434157e-20</td>\n",
       "      <td>2.727905e-20</td>\n",
       "      <td>20.845288</td>\n",
       "      <td>20.848926</td>\n",
       "      <td>32.597850</td>\n",
       "      <td>-9.850693e-17</td>\n",
       "      <td>4.062052e-18</td>\n",
       "      <td>4.956897e-19</td>\n",
       "      <td>68.0</td>\n",
       "      <td>2.0</td>\n",
       "      <td>20.0</td>\n",
       "      <td>0.979867</td>\n",
       "      <td>-0.123106</td>\n",
       "      <td>-0.049100</td>\n",
       "      <td>8.715364e-13</td>\n",
       "      <td>8.400000e-11</td>\n",
       "    </tr>\n",
       "    <tr>\n",
       "      <th>21</th>\n",
       "      <td>-9.436694e-17</td>\n",
       "      <td>322.0</td>\n",
       "      <td>3511.808607</td>\n",
       "      <td>-1.083345e-07</td>\n",
       "      <td>-9.313528e-20</td>\n",
       "      <td>2.355990e-20</td>\n",
       "      <td>18.527207</td>\n",
       "      <td>20.845288</td>\n",
       "      <td>32.597850</td>\n",
       "      <td>-9.920582e-17</td>\n",
       "      <td>4.323836e-18</td>\n",
       "      <td>4.914835e-19</td>\n",
       "      <td>71.0</td>\n",
       "      <td>2.0</td>\n",
       "      <td>21.0</td>\n",
       "      <td>0.986819</td>\n",
       "      <td>0.002772</td>\n",
       "      <td>-0.099422</td>\n",
       "      <td>8.427830e-13</td>\n",
       "      <td>8.800000e-11</td>\n",
       "    </tr>\n",
       "    <tr>\n",
       "      <th>22</th>\n",
       "      <td>-9.472588e-17</td>\n",
       "      <td>335.0</td>\n",
       "      <td>2696.753939</td>\n",
       "      <td>-7.040349e-08</td>\n",
       "      <td>-5.979399e-20</td>\n",
       "      <td>1.780302e-20</td>\n",
       "      <td>14.874408</td>\n",
       "      <td>18.527207</td>\n",
       "      <td>32.597850</td>\n",
       "      <td>-9.926439e-17</td>\n",
       "      <td>4.024312e-18</td>\n",
       "      <td>4.963929e-19</td>\n",
       "      <td>74.0</td>\n",
       "      <td>2.0</td>\n",
       "      <td>22.0</td>\n",
       "      <td>0.987401</td>\n",
       "      <td>0.104575</td>\n",
       "      <td>-0.033142</td>\n",
       "      <td>8.094276e-13</td>\n",
       "      <td>9.200000e-11</td>\n",
       "    </tr>\n",
       "    <tr>\n",
       "      <th>23</th>\n",
       "      <td>-9.497683e-17</td>\n",
       "      <td>348.0</td>\n",
       "      <td>2708.802831</td>\n",
       "      <td>-6.157487e-08</td>\n",
       "      <td>-8.415315e-20</td>\n",
       "      <td>1.494510e-20</td>\n",
       "      <td>14.825821</td>\n",
       "      <td>14.874408</td>\n",
       "      <td>32.597850</td>\n",
       "      <td>-9.953643e-17</td>\n",
       "      <td>4.048714e-18</td>\n",
       "      <td>4.959320e-19</td>\n",
       "      <td>77.0</td>\n",
       "      <td>2.0</td>\n",
       "      <td>23.0</td>\n",
       "      <td>0.990107</td>\n",
       "      <td>0.077609</td>\n",
       "      <td>0.058136</td>\n",
       "      <td>1.381145e-12</td>\n",
       "      <td>9.600000e-11</td>\n",
       "    </tr>\n",
       "    <tr>\n",
       "      <th>24</th>\n",
       "      <td>-9.521891e-17</td>\n",
       "      <td>361.0</td>\n",
       "      <td>2624.579966</td>\n",
       "      <td>-5.479223e-08</td>\n",
       "      <td>-8.000511e-20</td>\n",
       "      <td>1.352346e-20</td>\n",
       "      <td>13.817005</td>\n",
       "      <td>14.825821</td>\n",
       "      <td>32.597850</td>\n",
       "      <td>-9.981508e-17</td>\n",
       "      <td>4.086510e-18</td>\n",
       "      <td>4.961355e-19</td>\n",
       "      <td>80.0</td>\n",
       "      <td>2.0</td>\n",
       "      <td>24.0</td>\n",
       "      <td>0.992879</td>\n",
       "      <td>-0.027381</td>\n",
       "      <td>0.073255</td>\n",
       "      <td>1.381145e-12</td>\n",
       "      <td>1.000000e-10</td>\n",
       "    </tr>\n",
       "    <tr>\n",
       "      <th>25</th>\n",
       "      <td>-9.539389e-17</td>\n",
       "      <td>374.0</td>\n",
       "      <td>1948.119703</td>\n",
       "      <td>-3.481389e-08</td>\n",
       "      <td>-5.124905e-20</td>\n",
       "      <td>1.062210e-20</td>\n",
       "      <td>11.495984</td>\n",
       "      <td>13.817005</td>\n",
       "      <td>32.597850</td>\n",
       "      <td>-9.982313e-17</td>\n",
       "      <td>3.919817e-18</td>\n",
       "      <td>4.988077e-19</td>\n",
       "      <td>83.0</td>\n",
       "      <td>2.0</td>\n",
       "      <td>25.0</td>\n",
       "      <td>0.992959</td>\n",
       "      <td>-0.086965</td>\n",
       "      <td>0.009443</td>\n",
       "      <td>1.381145e-12</td>\n",
       "      <td>1.040000e-10</td>\n",
       "    </tr>\n",
       "    <tr>\n",
       "      <th>26</th>\n",
       "      <td>-9.552850e-17</td>\n",
       "      <td>387.0</td>\n",
       "      <td>2176.372834</td>\n",
       "      <td>-3.453650e-08</td>\n",
       "      <td>-4.709112e-20</td>\n",
       "      <td>8.002642e-21</td>\n",
       "      <td>9.676460</td>\n",
       "      <td>11.495984</td>\n",
       "      <td>32.597850</td>\n",
       "      <td>-1.000393e-16</td>\n",
       "      <td>4.005743e-18</td>\n",
       "      <td>4.970639e-19</td>\n",
       "      <td>86.0</td>\n",
       "      <td>2.0</td>\n",
       "      <td>26.0</td>\n",
       "      <td>0.995109</td>\n",
       "      <td>-0.047431</td>\n",
       "      <td>-0.053411</td>\n",
       "      <td>1.381145e-12</td>\n",
       "      <td>1.080000e-10</td>\n",
       "    </tr>\n",
       "    <tr>\n",
       "      <th>27</th>\n",
       "      <td>-9.565799e-17</td>\n",
       "      <td>400.0</td>\n",
       "      <td>1943.437085</td>\n",
       "      <td>-2.742822e-08</td>\n",
       "      <td>-4.099932e-20</td>\n",
       "      <td>7.201460e-21</td>\n",
       "      <td>9.713992</td>\n",
       "      <td>9.719668</td>\n",
       "      <td>32.597850</td>\n",
       "      <td>-1.001392e-16</td>\n",
       "      <td>3.975870e-18</td>\n",
       "      <td>4.981087e-19</td>\n",
       "      <td>89.0</td>\n",
       "      <td>2.0</td>\n",
       "      <td>27.0</td>\n",
       "      <td>0.996103</td>\n",
       "      <td>0.033042</td>\n",
       "      <td>-0.051307</td>\n",
       "      <td>1.381145e-12</td>\n",
       "      <td>1.120000e-10</td>\n",
       "    </tr>\n",
       "    <tr>\n",
       "      <th>28</th>\n",
       "      <td>-9.574396e-17</td>\n",
       "      <td>413.0</td>\n",
       "      <td>1523.188105</td>\n",
       "      <td>-1.770091e-08</td>\n",
       "      <td>-2.544368e-20</td>\n",
       "      <td>6.207022e-21</td>\n",
       "      <td>8.855687</td>\n",
       "      <td>9.713992</td>\n",
       "      <td>32.597850</td>\n",
       "      <td>-1.001391e-16</td>\n",
       "      <td>3.889364e-18</td>\n",
       "      <td>4.995974e-19</td>\n",
       "      <td>92.0</td>\n",
       "      <td>2.0</td>\n",
       "      <td>28.0</td>\n",
       "      <td>0.996102</td>\n",
       "      <td>0.065670</td>\n",
       "      <td>0.001379</td>\n",
       "      <td>1.381145e-12</td>\n",
       "      <td>1.160000e-10</td>\n",
       "    </tr>\n",
       "    <tr>\n",
       "      <th>29</th>\n",
       "      <td>-9.581616e-17</td>\n",
       "      <td>426.0</td>\n",
       "      <td>1730.606324</td>\n",
       "      <td>-1.872062e-08</td>\n",
       "      <td>-2.569134e-20</td>\n",
       "      <td>4.586629e-21</td>\n",
       "      <td>7.258724</td>\n",
       "      <td>8.855687</td>\n",
       "      <td>32.597850</td>\n",
       "      <td>-1.002741e-16</td>\n",
       "      <td>3.954968e-18</td>\n",
       "      <td>4.983435e-19</td>\n",
       "      <td>95.0</td>\n",
       "      <td>2.0</td>\n",
       "      <td>29.0</td>\n",
       "      <td>0.997445</td>\n",
       "      <td>0.027475</td>\n",
       "      <td>0.042148</td>\n",
       "      <td>1.381145e-12</td>\n",
       "      <td>1.200000e-10</td>\n",
       "    </tr>\n",
       "    <tr>\n",
       "      <th>30</th>\n",
       "      <td>-9.588354e-17</td>\n",
       "      <td>439.0</td>\n",
       "      <td>1433.879432</td>\n",
       "      <td>-1.370133e-08</td>\n",
       "      <td>-2.069657e-20</td>\n",
       "      <td>3.852451e-21</td>\n",
       "      <td>6.832171</td>\n",
       "      <td>7.258724</td>\n",
       "      <td>32.597850</td>\n",
       "      <td>-1.003120e-16</td>\n",
       "      <td>3.925629e-18</td>\n",
       "      <td>4.990066e-19</td>\n",
       "      <td>98.0</td>\n",
       "      <td>2.0</td>\n",
       "      <td>30.0</td>\n",
       "      <td>0.997822</td>\n",
       "      <td>-0.029136</td>\n",
       "      <td>0.033385</td>\n",
       "      <td>1.381145e-12</td>\n",
       "      <td>1.240000e-10</td>\n",
       "    </tr>\n",
       "    <tr>\n",
       "      <th>31</th>\n",
       "      <td>-9.592730e-17</td>\n",
       "      <td>452.0</td>\n",
       "      <td>1220.320038</td>\n",
       "      <td>-9.495029e-09</td>\n",
       "      <td>-1.337306e-20</td>\n",
       "      <td>3.511355e-21</td>\n",
       "      <td>6.813196</td>\n",
       "      <td>6.893065</td>\n",
       "      <td>32.597850</td>\n",
       "      <td>-1.003199e-16</td>\n",
       "      <td>3.889381e-18</td>\n",
       "      <td>4.997066e-19</td>\n",
       "      <td>101.0</td>\n",
       "      <td>2.0</td>\n",
       "      <td>31.0</td>\n",
       "      <td>0.997900</td>\n",
       "      <td>-0.044863</td>\n",
       "      <td>-0.005332</td>\n",
       "      <td>1.381145e-12</td>\n",
       "      <td>1.280000e-10</td>\n",
       "    </tr>\n",
       "    <tr>\n",
       "      <th>32</th>\n",
       "      <td>-9.596623e-17</td>\n",
       "      <td>465.0</td>\n",
       "      <td>1356.773227</td>\n",
       "      <td>-9.781985e-09</td>\n",
       "      <td>-1.365741e-20</td>\n",
       "      <td>2.781343e-21</td>\n",
       "      <td>5.989769</td>\n",
       "      <td>6.813196</td>\n",
       "      <td>32.597850</td>\n",
       "      <td>-1.003869e-16</td>\n",
       "      <td>3.918673e-18</td>\n",
       "      <td>4.992220e-19</td>\n",
       "      <td>104.0</td>\n",
       "      <td>2.0</td>\n",
       "      <td>32.0</td>\n",
       "      <td>0.998567</td>\n",
       "      <td>-0.014075</td>\n",
       "      <td>-0.029442</td>\n",
       "      <td>1.381145e-12</td>\n",
       "      <td>1.320000e-10</td>\n",
       "    </tr>\n",
       "    <tr>\n",
       "      <th>33</th>\n",
       "      <td>-9.600009e-17</td>\n",
       "      <td>478.0</td>\n",
       "      <td>1062.946942</td>\n",
       "      <td>-6.787852e-09</td>\n",
       "      <td>-1.020901e-20</td>\n",
       "      <td>2.211827e-21</td>\n",
       "      <td>4.894434</td>\n",
       "      <td>5.989769</td>\n",
       "      <td>32.597850</td>\n",
       "      <td>-1.004019e-16</td>\n",
       "      <td>3.900037e-18</td>\n",
       "      <td>4.995213e-19</td>\n",
       "      <td>107.0</td>\n",
       "      <td>2.0</td>\n",
       "      <td>33.0</td>\n",
       "      <td>0.998716</td>\n",
       "      <td>0.021985</td>\n",
       "      <td>-0.019341</td>\n",
       "      <td>1.381145e-12</td>\n",
       "      <td>1.360000e-10</td>\n",
       "    </tr>\n",
       "    <tr>\n",
       "      <th>34</th>\n",
       "      <td>-9.602312e-17</td>\n",
       "      <td>491.0</td>\n",
       "      <td>989.089544</td>\n",
       "      <td>-5.346525e-09</td>\n",
       "      <td>-7.411016e-21</td>\n",
       "      <td>1.966203e-21</td>\n",
       "      <td>4.987278</td>\n",
       "      <td>4.987278</td>\n",
       "      <td>32.597850</td>\n",
       "      <td>-1.004176e-16</td>\n",
       "      <td>3.892834e-18</td>\n",
       "      <td>4.996964e-19</td>\n",
       "      <td>110.0</td>\n",
       "      <td>2.0</td>\n",
       "      <td>34.0</td>\n",
       "      <td>0.998873</td>\n",
       "      <td>0.027189</td>\n",
       "      <td>0.006229</td>\n",
       "      <td>1.381145e-12</td>\n",
       "      <td>1.400000e-10</td>\n",
       "    </tr>\n",
       "    <tr>\n",
       "      <th>35</th>\n",
       "      <td>-9.604441e-17</td>\n",
       "      <td>504.0</td>\n",
       "      <td>1047.152561</td>\n",
       "      <td>-5.019002e-09</td>\n",
       "      <td>-7.194115e-21</td>\n",
       "      <td>1.718270e-21</td>\n",
       "      <td>4.828461</td>\n",
       "      <td>4.987278</td>\n",
       "      <td>32.597850</td>\n",
       "      <td>-1.004457e-16</td>\n",
       "      <td>3.899926e-18</td>\n",
       "      <td>4.996477e-19</td>\n",
       "      <td>113.0</td>\n",
       "      <td>2.0</td>\n",
       "      <td>35.0</td>\n",
       "      <td>0.999152</td>\n",
       "      <td>0.005002</td>\n",
       "      <td>0.018288</td>\n",
       "      <td>1.381145e-12</td>\n",
       "      <td>1.440000e-10</td>\n",
       "    </tr>\n",
       "    <tr>\n",
       "      <th>36</th>\n",
       "      <td>-9.606102e-17</td>\n",
       "      <td>517.0</td>\n",
       "      <td>793.642259</td>\n",
       "      <td>-3.327233e-09</td>\n",
       "      <td>-4.937882e-21</td>\n",
       "      <td>1.391783e-21</td>\n",
       "      <td>4.120485</td>\n",
       "      <td>4.828461</td>\n",
       "      <td>32.597850</td>\n",
       "      <td>-1.004498e-16</td>\n",
       "      <td>3.887609e-18</td>\n",
       "      <td>4.998194e-19</td>\n",
       "      <td>116.0</td>\n",
       "      <td>2.0</td>\n",
       "      <td>36.0</td>\n",
       "      <td>0.999193</td>\n",
       "      <td>-0.015093</td>\n",
       "      <td>0.008998</td>\n",
       "      <td>1.381145e-12</td>\n",
       "      <td>1.480000e-10</td>\n",
       "    </tr>\n",
       "    <tr>\n",
       "      <th>37</th>\n",
       "      <td>-9.607327e-17</td>\n",
       "      <td>530.0</td>\n",
       "      <td>797.286843</td>\n",
       "      <td>-3.040524e-09</td>\n",
       "      <td>-4.162781e-21</td>\n",
       "      <td>1.133102e-21</td>\n",
       "      <td>3.661009</td>\n",
       "      <td>4.120485</td>\n",
       "      <td>32.597850</td>\n",
       "      <td>-1.004660e-16</td>\n",
       "      <td>3.891894e-18</td>\n",
       "      <td>4.997527e-19</td>\n",
       "      <td>119.0</td>\n",
       "      <td>2.0</td>\n",
       "      <td>37.0</td>\n",
       "      <td>0.999354</td>\n",
       "      <td>-0.013870</td>\n",
       "      <td>-0.006080</td>\n",
       "      <td>1.381145e-12</td>\n",
       "      <td>1.520000e-10</td>\n",
       "    </tr>\n",
       "    <tr>\n",
       "      <th>38</th>\n",
       "      <td>-9.608498e-17</td>\n",
       "      <td>543.0</td>\n",
       "      <td>794.440799</td>\n",
       "      <td>-2.589986e-09</td>\n",
       "      <td>-3.808886e-21</td>\n",
       "      <td>1.026736e-21</td>\n",
       "      <td>3.799975</td>\n",
       "      <td>3.799975</td>\n",
       "      <td>32.597850</td>\n",
       "      <td>-1.004775e-16</td>\n",
       "      <td>3.891708e-18</td>\n",
       "      <td>4.998121e-19</td>\n",
       "      <td>122.0</td>\n",
       "      <td>2.0</td>\n",
       "      <td>38.0</td>\n",
       "      <td>0.999468</td>\n",
       "      <td>0.000969</td>\n",
       "      <td>-0.009970</td>\n",
       "      <td>1.381145e-12</td>\n",
       "      <td>1.560000e-10</td>\n",
       "    </tr>\n",
       "    <tr>\n",
       "      <th>39</th>\n",
       "      <td>-9.609321e-17</td>\n",
       "      <td>556.0</td>\n",
       "      <td>598.610777</td>\n",
       "      <td>-1.651606e-09</td>\n",
       "      <td>-2.417075e-21</td>\n",
       "      <td>8.935077e-22</td>\n",
       "      <td>3.444169</td>\n",
       "      <td>3.799975</td>\n",
       "      <td>32.597850</td>\n",
       "      <td>-1.004776e-16</td>\n",
       "      <td>3.883556e-18</td>\n",
       "      <td>4.999489e-19</td>\n",
       "      <td>125.0</td>\n",
       "      <td>2.0</td>\n",
       "      <td>39.0</td>\n",
       "      <td>0.999469</td>\n",
       "      <td>0.009886</td>\n",
       "      <td>-0.002038</td>\n",
       "      <td>1.381145e-12</td>\n",
       "      <td>1.600000e-10</td>\n",
       "    </tr>\n",
       "    <tr>\n",
       "      <th>40</th>\n",
       "      <td>-9.609969e-17</td>\n",
       "      <td>569.0</td>\n",
       "      <td>633.992978</td>\n",
       "      <td>-1.678930e-09</td>\n",
       "      <td>-2.285537e-21</td>\n",
       "      <td>7.001695e-22</td>\n",
       "      <td>3.127965</td>\n",
       "      <td>3.444169</td>\n",
       "      <td>32.597850</td>\n",
       "      <td>-1.004893e-16</td>\n",
       "      <td>3.889031e-18</td>\n",
       "      <td>4.998504e-19</td>\n",
       "      <td>128.0</td>\n",
       "      <td>2.0</td>\n",
       "      <td>40.0</td>\n",
       "      <td>0.999585</td>\n",
       "      <td>0.004998</td>\n",
       "      <td>0.005698</td>\n",
       "      <td>1.381145e-12</td>\n",
       "      <td>1.640000e-10</td>\n",
       "    </tr>\n",
       "    <tr>\n",
       "      <th>41</th>\n",
       "      <td>-9.610602e-17</td>\n",
       "      <td>582.0</td>\n",
       "      <td>591.919222</td>\n",
       "      <td>-1.349678e-09</td>\n",
       "      <td>-2.010717e-21</td>\n",
       "      <td>6.198211e-22</td>\n",
       "      <td>3.406998</td>\n",
       "      <td>3.406998</td>\n",
       "      <td>32.597850</td>\n",
       "      <td>-1.004947e-16</td>\n",
       "      <td>3.888169e-18</td>\n",
       "      <td>4.998854e-19</td>\n",
       "      <td>131.0</td>\n",
       "      <td>2.0</td>\n",
       "      <td>41.0</td>\n",
       "      <td>0.999639</td>\n",
       "      <td>-0.004524</td>\n",
       "      <td>0.004596</td>\n",
       "      <td>1.381145e-12</td>\n",
       "      <td>1.680000e-10</td>\n",
       "    </tr>\n",
       "    <tr>\n",
       "      <th>42</th>\n",
       "      <td>-9.611026e-17</td>\n",
       "      <td>595.0</td>\n",
       "      <td>454.239223</td>\n",
       "      <td>-8.680333e-10</td>\n",
       "      <td>-1.255470e-21</td>\n",
       "      <td>5.754291e-22</td>\n",
       "      <td>3.182522</td>\n",
       "      <td>3.406998</td>\n",
       "      <td>32.597850</td>\n",
       "      <td>-1.004941e-16</td>\n",
       "      <td>3.883312e-18</td>\n",
       "      <td>4.999787e-19</td>\n",
       "      <td>134.0</td>\n",
       "      <td>2.0</td>\n",
       "      <td>42.0</td>\n",
       "      <td>0.999634</td>\n",
       "      <td>-0.006513</td>\n",
       "      <td>-0.002042</td>\n",
       "      <td>1.381145e-12</td>\n",
       "      <td>1.720000e-10</td>\n",
       "    </tr>\n",
       "    <tr>\n",
       "      <th>43</th>\n",
       "      <td>-9.611373e-17</td>\n",
       "      <td>608.0</td>\n",
       "      <td>493.921512</td>\n",
       "      <td>-8.912510e-10</td>\n",
       "      <td>-1.222604e-21</td>\n",
       "      <td>4.699334e-22</td>\n",
       "      <td>2.806646</td>\n",
       "      <td>3.182522</td>\n",
       "      <td>32.597850</td>\n",
       "      <td>-1.005002e-16</td>\n",
       "      <td>3.886026e-18</td>\n",
       "      <td>4.999287e-19</td>\n",
       "      <td>137.0</td>\n",
       "      <td>2.0</td>\n",
       "      <td>43.0</td>\n",
       "      <td>0.999694</td>\n",
       "      <td>0.000070</td>\n",
       "      <td>-0.005266</td>\n",
       "      <td>1.381145e-12</td>\n",
       "      <td>1.760000e-10</td>\n",
       "    </tr>\n",
       "    <tr>\n",
       "      <th>44</th>\n",
       "      <td>-9.611702e-17</td>\n",
       "      <td>621.0</td>\n",
       "      <td>433.436345</td>\n",
       "      <td>-6.950772e-10</td>\n",
       "      <td>-1.032954e-21</td>\n",
       "      <td>4.040873e-22</td>\n",
       "      <td>3.098044</td>\n",
       "      <td>3.098044</td>\n",
       "      <td>32.597850</td>\n",
       "      <td>-1.005030e-16</td>\n",
       "      <td>3.885682e-18</td>\n",
       "      <td>4.999368e-19</td>\n",
       "      <td>140.0</td>\n",
       "      <td>2.0</td>\n",
       "      <td>44.0</td>\n",
       "      <td>0.999722</td>\n",
       "      <td>0.006158</td>\n",
       "      <td>-0.001625</td>\n",
       "      <td>1.381145e-12</td>\n",
       "      <td>1.800000e-10</td>\n",
       "    </tr>\n",
       "    <tr>\n",
       "      <th>45</th>\n",
       "      <td>-9.611929e-17</td>\n",
       "      <td>634.0</td>\n",
       "      <td>346.018147</td>\n",
       "      <td>-4.910272e-10</td>\n",
       "      <td>-6.998035e-22</td>\n",
       "      <td>3.807351e-22</td>\n",
       "      <td>3.059157</td>\n",
       "      <td>3.106116</td>\n",
       "      <td>32.597850</td>\n",
       "      <td>-1.005037e-16</td>\n",
       "      <td>3.884023e-18</td>\n",
       "      <td>4.999770e-19</td>\n",
       "      <td>143.0</td>\n",
       "      <td>2.0</td>\n",
       "      <td>45.0</td>\n",
       "      <td>0.999729</td>\n",
       "      <td>0.004534</td>\n",
       "      <td>0.003889</td>\n",
       "      <td>1.381145e-12</td>\n",
       "      <td>1.840000e-10</td>\n",
       "    </tr>\n",
       "    <tr>\n",
       "      <th>46</th>\n",
       "      <td>-9.612121e-17</td>\n",
       "      <td>647.0</td>\n",
       "      <td>376.511144</td>\n",
       "      <td>-4.660812e-10</td>\n",
       "      <td>-6.548983e-22</td>\n",
       "      <td>3.384314e-22</td>\n",
       "      <td>2.811794</td>\n",
       "      <td>3.059157</td>\n",
       "      <td>32.597850</td>\n",
       "      <td>-1.005063e-16</td>\n",
       "      <td>3.884773e-18</td>\n",
       "      <td>4.999680e-19</td>\n",
       "      <td>146.0</td>\n",
       "      <td>2.0</td>\n",
       "      <td>46.0</td>\n",
       "      <td>0.999755</td>\n",
       "      <td>-0.002332</td>\n",
       "      <td>0.004732</td>\n",
       "      <td>1.381145e-12</td>\n",
       "      <td>1.880000e-10</td>\n",
       "    </tr>\n",
       "    <tr>\n",
       "      <th>47</th>\n",
       "      <td>-9.612286e-17</td>\n",
       "      <td>660.0</td>\n",
       "      <td>312.313144</td>\n",
       "      <td>-3.463222e-10</td>\n",
       "      <td>-5.098055e-22</td>\n",
       "      <td>3.017016e-22</td>\n",
       "      <td>2.839694</td>\n",
       "      <td>2.839694</td>\n",
       "      <td>32.597850</td>\n",
       "      <td>-1.005075e-16</td>\n",
       "      <td>3.884359e-18</td>\n",
       "      <td>4.999737e-19</td>\n",
       "      <td>149.0</td>\n",
       "      <td>2.0</td>\n",
       "      <td>47.0</td>\n",
       "      <td>0.999767</td>\n",
       "      <td>-0.006350</td>\n",
       "      <td>0.000293</td>\n",
       "      <td>1.381145e-12</td>\n",
       "      <td>1.920000e-10</td>\n",
       "    </tr>\n",
       "    <tr>\n",
       "      <th>48</th>\n",
       "      <td>-9.612408e-17</td>\n",
       "      <td>673.0</td>\n",
       "      <td>294.666689</td>\n",
       "      <td>-2.863197e-10</td>\n",
       "      <td>-3.996356e-22</td>\n",
       "      <td>2.820698e-22</td>\n",
       "      <td>2.902771</td>\n",
       "      <td>2.902771</td>\n",
       "      <td>32.597850</td>\n",
       "      <td>-1.005086e-16</td>\n",
       "      <td>3.884298e-18</td>\n",
       "      <td>4.999782e-19</td>\n",
       "      <td>152.0</td>\n",
       "      <td>2.0</td>\n",
       "      <td>48.0</td>\n",
       "      <td>0.999778</td>\n",
       "      <td>-0.003382</td>\n",
       "      <td>-0.004203</td>\n",
       "      <td>1.381145e-12</td>\n",
       "      <td>1.960000e-10</td>\n",
       "    </tr>\n",
       "    <tr>\n",
       "      <th>49</th>\n",
       "      <td>-9.612518e-17</td>\n",
       "      <td>686.0</td>\n",
       "      <td>280.513544</td>\n",
       "      <td>-2.491805e-10</td>\n",
       "      <td>-3.606609e-22</td>\n",
       "      <td>2.660221e-22</td>\n",
       "      <td>2.841902</td>\n",
       "      <td>2.902771</td>\n",
       "      <td>32.597850</td>\n",
       "      <td>-1.005097e-16</td>\n",
       "      <td>3.884243e-18</td>\n",
       "      <td>4.999816e-19</td>\n",
       "      <td>155.0</td>\n",
       "      <td>2.0</td>\n",
       "      <td>49.0</td>\n",
       "      <td>0.999788</td>\n",
       "      <td>0.002822</td>\n",
       "      <td>-0.004040</td>\n",
       "      <td>1.381145e-12</td>\n",
       "      <td>2.000000e-10</td>\n",
       "    </tr>\n",
       "  </tbody>\n",
       "</table>\n",
       "</div>"
      ],
      "text/plain": [
       "               E  Ecount     max_dm/dt         dE/dt        deltaE  \\\n",
       "0  -4.972610e-18    49.0  14057.500049 -2.578684e-06 -2.528878e-18   \n",
       "1  -1.584101e-17    62.0  14474.432247 -2.708337e-06 -5.303029e-18   \n",
       "2  -2.543848e-17    75.0  13233.615972 -2.064432e-06 -3.576564e-18   \n",
       "3  -3.360894e-17    88.0  13101.737005 -2.204817e-06 -3.420119e-18   \n",
       "4  -4.310181e-17   101.0  13549.102685 -2.374196e-06 -3.869884e-18   \n",
       "5  -5.119952e-17   114.0  12117.920228 -1.635868e-06 -2.817490e-18   \n",
       "6  -5.732102e-17   127.0  11814.620873 -1.604232e-06 -2.350614e-18   \n",
       "7  -6.417501e-17   140.0  11997.096980 -1.685099e-06 -2.550261e-18   \n",
       "8  -6.974677e-17   153.0  10543.105314 -1.094213e-06 -1.561713e-18   \n",
       "9  -7.381945e-17   166.0  10008.892870 -1.056136e-06 -1.356852e-18   \n",
       "10 -7.815679e-17   179.0   9709.165709 -1.016491e-06 -1.389568e-18   \n",
       "11 -8.142605e-17   192.0   8273.073053 -6.454846e-07 -7.709695e-19   \n",
       "12 -8.392053e-17   205.0   8113.634264 -6.512433e-07 -6.614409e-19   \n",
       "13 -8.644440e-17   218.0   7594.057644 -5.526646e-07 -6.615747e-19   \n",
       "14 -8.818834e-17   231.0   6336.985603 -3.562634e-07 -3.924233e-19   \n",
       "15 -8.963537e-17   244.0   6249.880727 -3.789459e-07 -3.570680e-19   \n",
       "16 -9.101970e-17   257.0   5431.109707 -2.844943e-07 -2.921437e-19   \n",
       "17 -9.192080e-17   270.0   4746.158991 -1.944218e-07 -1.893285e-19   \n",
       "18 -9.273070e-17   283.0   4684.957832 -2.076996e-07 -1.925192e-19   \n",
       "19 -9.345114e-17   296.0   3909.781635 -1.425210e-07 -1.327432e-19   \n",
       "20 -9.392191e-17   309.0   3583.685151 -1.085415e-07 -9.434157e-20   \n",
       "21 -9.436694e-17   322.0   3511.808607 -1.083345e-07 -9.313528e-20   \n",
       "22 -9.472588e-17   335.0   2696.753939 -7.040349e-08 -5.979399e-20   \n",
       "23 -9.497683e-17   348.0   2708.802831 -6.157487e-08 -8.415315e-20   \n",
       "24 -9.521891e-17   361.0   2624.579966 -5.479223e-08 -8.000511e-20   \n",
       "25 -9.539389e-17   374.0   1948.119703 -3.481389e-08 -5.124905e-20   \n",
       "26 -9.552850e-17   387.0   2176.372834 -3.453650e-08 -4.709112e-20   \n",
       "27 -9.565799e-17   400.0   1943.437085 -2.742822e-08 -4.099932e-20   \n",
       "28 -9.574396e-17   413.0   1523.188105 -1.770091e-08 -2.544368e-20   \n",
       "29 -9.581616e-17   426.0   1730.606324 -1.872062e-08 -2.569134e-20   \n",
       "30 -9.588354e-17   439.0   1433.879432 -1.370133e-08 -2.069657e-20   \n",
       "31 -9.592730e-17   452.0   1220.320038 -9.495029e-09 -1.337306e-20   \n",
       "32 -9.596623e-17   465.0   1356.773227 -9.781985e-09 -1.365741e-20   \n",
       "33 -9.600009e-17   478.0   1062.946942 -6.787852e-09 -1.020901e-20   \n",
       "34 -9.602312e-17   491.0    989.089544 -5.346525e-09 -7.411016e-21   \n",
       "35 -9.604441e-17   504.0   1047.152561 -5.019002e-09 -7.194115e-21   \n",
       "36 -9.606102e-17   517.0    793.642259 -3.327233e-09 -4.937882e-21   \n",
       "37 -9.607327e-17   530.0    797.286843 -3.040524e-09 -4.162781e-21   \n",
       "38 -9.608498e-17   543.0    794.440799 -2.589986e-09 -3.808886e-21   \n",
       "39 -9.609321e-17   556.0    598.610777 -1.651606e-09 -2.417075e-21   \n",
       "40 -9.609969e-17   569.0    633.992978 -1.678930e-09 -2.285537e-21   \n",
       "41 -9.610602e-17   582.0    591.919222 -1.349678e-09 -2.010717e-21   \n",
       "42 -9.611026e-17   595.0    454.239223 -8.680333e-10 -1.255470e-21   \n",
       "43 -9.611373e-17   608.0    493.921512 -8.912510e-10 -1.222604e-21   \n",
       "44 -9.611702e-17   621.0    433.436345 -6.950772e-10 -1.032954e-21   \n",
       "45 -9.611929e-17   634.0    346.018147 -4.910272e-10 -6.998035e-22   \n",
       "46 -9.612121e-17   647.0    376.511144 -4.660812e-10 -6.548983e-22   \n",
       "47 -9.612286e-17   660.0    312.313144 -3.463222e-10 -5.098055e-22   \n",
       "48 -9.612408e-17   673.0    294.666689 -2.863197e-10 -3.996356e-22   \n",
       "49 -9.612518e-17   686.0    280.513544 -2.491805e-10 -3.606609e-22   \n",
       "\n",
       "             Eex  max_spin_angle  stage_max_spin_angle  run_max_spin_angle  \\\n",
       "0   1.252986e-21        4.126862              4.126862            4.126862   \n",
       "1   4.085149e-21        7.415927              7.415927            7.415927   \n",
       "2   4.184822e-21        7.347229              7.415927            7.415927   \n",
       "3   6.278809e-21        9.597474              9.597474            9.597474   \n",
       "4   1.519513e-20       14.382220             14.382220           14.382220   \n",
       "5   2.049784e-20       18.048693             18.048693           18.048693   \n",
       "6   2.412813e-20       19.955864             19.955864           19.955864   \n",
       "7   3.876388e-20       24.482057             24.482057           24.482057   \n",
       "8   4.549471e-20       27.121779             27.121779           27.121779   \n",
       "9   4.435046e-20       26.825496             27.121779           27.121779   \n",
       "10  5.827690e-20       30.695069             30.695069           30.695069   \n",
       "11  6.297487e-20       32.288798             32.541304           32.541304   \n",
       "12  5.323656e-20       29.228924             32.288798           32.541304   \n",
       "13  5.799401e-20       31.113388             31.113388           32.541304   \n",
       "14  6.075232e-20       32.253835             32.597850           32.597850   \n",
       "15  4.860525e-20       27.558415             32.253835           32.597850   \n",
       "16  4.416781e-20       26.190100             27.558415           32.597850   \n",
       "17  4.480091e-20       27.286636             27.427710           32.597850   \n",
       "18  3.649638e-20       23.418190             27.286636           32.597850   \n",
       "19  2.892808e-20       20.172364             23.418190           32.597850   \n",
       "20  2.727905e-20       20.845288             20.848926           32.597850   \n",
       "21  2.355990e-20       18.527207             20.845288           32.597850   \n",
       "22  1.780302e-20       14.874408             18.527207           32.597850   \n",
       "23  1.494510e-20       14.825821             14.874408           32.597850   \n",
       "24  1.352346e-20       13.817005             14.825821           32.597850   \n",
       "25  1.062210e-20       11.495984             13.817005           32.597850   \n",
       "26  8.002642e-21        9.676460             11.495984           32.597850   \n",
       "27  7.201460e-21        9.713992              9.719668           32.597850   \n",
       "28  6.207022e-21        8.855687              9.713992           32.597850   \n",
       "29  4.586629e-21        7.258724              8.855687           32.597850   \n",
       "30  3.852451e-21        6.832171              7.258724           32.597850   \n",
       "31  3.511355e-21        6.813196              6.893065           32.597850   \n",
       "32  2.781343e-21        5.989769              6.813196           32.597850   \n",
       "33  2.211827e-21        4.894434              5.989769           32.597850   \n",
       "34  1.966203e-21        4.987278              4.987278           32.597850   \n",
       "35  1.718270e-21        4.828461              4.987278           32.597850   \n",
       "36  1.391783e-21        4.120485              4.828461           32.597850   \n",
       "37  1.133102e-21        3.661009              4.120485           32.597850   \n",
       "38  1.026736e-21        3.799975              3.799975           32.597850   \n",
       "39  8.935077e-22        3.444169              3.799975           32.597850   \n",
       "40  7.001695e-22        3.127965              3.444169           32.597850   \n",
       "41  6.198211e-22        3.406998              3.406998           32.597850   \n",
       "42  5.754291e-22        3.182522              3.406998           32.597850   \n",
       "43  4.699334e-22        2.806646              3.182522           32.597850   \n",
       "44  4.040873e-22        3.098044              3.098044           32.597850   \n",
       "45  3.807351e-22        3.059157              3.106116           32.597850   \n",
       "46  3.384314e-22        2.811794              3.059157           32.597850   \n",
       "47  3.017016e-22        2.839694              2.839694           32.597850   \n",
       "48  2.820698e-22        2.902771              2.902771           32.597850   \n",
       "49  2.660221e-22        2.841902              2.902771           32.597850   \n",
       "\n",
       "    FixedZeeman:zeeman:Energy            Ed            Ea  iteration  \\\n",
       "0               -2.484543e-17  1.964860e-17  2.229673e-19        8.0   \n",
       "1               -4.079526e-17  2.482147e-17  1.286965e-19       11.0   \n",
       "2               -3.148853e-17  5.577776e-18  4.680872e-19       14.0   \n",
       "3               -4.581259e-17  1.183404e-17  3.633233e-19       17.0   \n",
       "4               -6.334258e-17  2.001285e-17  2.127258e-19       20.0   \n",
       "5               -5.814086e-17  6.471562e-18  4.492841e-19       23.0   \n",
       "6               -6.613695e-17  8.369740e-18  4.220598e-19       26.0   \n",
       "7               -7.818574e-17  1.364597e-17  3.259877e-19       29.0   \n",
       "8               -7.607791e-17  5.823583e-18  4.620613e-19       32.0   \n",
       "9               -8.137343e-17  7.068817e-18  4.408103e-19       35.0   \n",
       "10              -8.748284e-17  8.857634e-18  4.101476e-19       38.0   \n",
       "11              -8.681460e-17  4.843981e-18  4.815920e-19       41.0   \n",
       "12              -9.071823e-17  6.291537e-18  4.529222e-19       44.0   \n",
       "13              -9.313549e-17  6.175816e-18  4.572750e-19       47.0   \n",
       "14              -9.300023e-17  4.258178e-18  4.929638e-19       50.0   \n",
       "15              -9.563128e-17  5.479272e-18  4.680287e-19       53.0   \n",
       "16              -9.642007e-17  4.876145e-18  4.800594e-19       56.0   \n",
       "17              -9.653709e-17  4.075629e-18  4.958636e-19       59.0   \n",
       "18              -9.803553e-17  4.786159e-18  4.821730e-19       62.0   \n",
       "19              -9.826524e-17  4.294163e-18  4.910018e-19       65.0   \n",
       "20              -9.850693e-17  4.062052e-18  4.956897e-19       68.0   \n",
       "21              -9.920582e-17  4.323836e-18  4.914835e-19       71.0   \n",
       "22              -9.926439e-17  4.024312e-18  4.963929e-19       74.0   \n",
       "23              -9.953643e-17  4.048714e-18  4.959320e-19       77.0   \n",
       "24              -9.981508e-17  4.086510e-18  4.961355e-19       80.0   \n",
       "25              -9.982313e-17  3.919817e-18  4.988077e-19       83.0   \n",
       "26              -1.000393e-16  4.005743e-18  4.970639e-19       86.0   \n",
       "27              -1.001392e-16  3.975870e-18  4.981087e-19       89.0   \n",
       "28              -1.001391e-16  3.889364e-18  4.995974e-19       92.0   \n",
       "29              -1.002741e-16  3.954968e-18  4.983435e-19       95.0   \n",
       "30              -1.003120e-16  3.925629e-18  4.990066e-19       98.0   \n",
       "31              -1.003199e-16  3.889381e-18  4.997066e-19      101.0   \n",
       "32              -1.003869e-16  3.918673e-18  4.992220e-19      104.0   \n",
       "33              -1.004019e-16  3.900037e-18  4.995213e-19      107.0   \n",
       "34              -1.004176e-16  3.892834e-18  4.996964e-19      110.0   \n",
       "35              -1.004457e-16  3.899926e-18  4.996477e-19      113.0   \n",
       "36              -1.004498e-16  3.887609e-18  4.998194e-19      116.0   \n",
       "37              -1.004660e-16  3.891894e-18  4.997527e-19      119.0   \n",
       "38              -1.004775e-16  3.891708e-18  4.998121e-19      122.0   \n",
       "39              -1.004776e-16  3.883556e-18  4.999489e-19      125.0   \n",
       "40              -1.004893e-16  3.889031e-18  4.998504e-19      128.0   \n",
       "41              -1.004947e-16  3.888169e-18  4.998854e-19      131.0   \n",
       "42              -1.004941e-16  3.883312e-18  4.999787e-19      134.0   \n",
       "43              -1.005002e-16  3.886026e-18  4.999287e-19      137.0   \n",
       "44              -1.005030e-16  3.885682e-18  4.999368e-19      140.0   \n",
       "45              -1.005037e-16  3.884023e-18  4.999770e-19      143.0   \n",
       "46              -1.005063e-16  3.884773e-18  4.999680e-19      146.0   \n",
       "47              -1.005075e-16  3.884359e-18  4.999737e-19      149.0   \n",
       "48              -1.005086e-16  3.884298e-18  4.999782e-19      152.0   \n",
       "49              -1.005097e-16  3.884243e-18  4.999816e-19      155.0   \n",
       "\n",
       "    stage_iteration  stage        mx        my        mz  last_time_step  \\\n",
       "0               8.0    0.0  0.247142  0.619203  0.744266    1.005901e-12   \n",
       "1               2.0    1.0  0.405798 -0.297712  0.861187    1.925836e-12   \n",
       "2               2.0    2.0  0.313222 -0.915128  0.243306    1.632458e-12   \n",
       "3               2.0    3.0  0.455706 -0.717409 -0.519160    1.625381e-12   \n",
       "4               2.0    4.0  0.630080  0.102439 -0.757062    1.598025e-12   \n",
       "5               2.0    5.0  0.578338  0.746069 -0.290293    1.580972e-12   \n",
       "6               2.0    6.0  0.657876  0.635751  0.365732    1.524156e-12   \n",
       "7               2.0    7.0  0.777728 -0.041192  0.587635    1.470535e-12   \n",
       "8               2.0    8.0  0.756761 -0.568713  0.227347    1.321771e-12   \n",
       "9               2.0    9.0  0.809436 -0.469852 -0.271835    1.322114e-12   \n",
       "10              2.0   10.0  0.870208  0.052375 -0.413247    1.308218e-12   \n",
       "11              2.0   11.0  0.863561  0.411590 -0.129864    1.130766e-12   \n",
       "12              2.0   12.0  0.902391  0.293610  0.210915    1.032325e-12   \n",
       "13              2.0   13.0  0.926436 -0.083280  0.263871    1.129458e-12   \n",
       "14              2.0   14.0  0.925090 -0.284877  0.042185    1.066663e-12   \n",
       "15              2.0   15.0  0.951262 -0.149909 -0.166339    9.484774e-13   \n",
       "16              2.0   16.0  0.959108  0.106506 -0.152240    9.639502e-13   \n",
       "17              2.0   17.0  0.960272  0.190119  0.017914    9.640698e-13   \n",
       "18              2.0   18.0  0.975177  0.052553  0.130104    9.220139e-13   \n",
       "19              2.0   19.0  0.977462 -0.112901  0.077742    8.769637e-13   \n",
       "20              2.0   20.0  0.979867 -0.123106 -0.049100    8.715364e-13   \n",
       "21              2.0   21.0  0.986819  0.002772 -0.099422    8.427830e-13   \n",
       "22              2.0   22.0  0.987401  0.104575 -0.033142    8.094276e-13   \n",
       "23              2.0   23.0  0.990107  0.077609  0.058136    1.381145e-12   \n",
       "24              2.0   24.0  0.992879 -0.027381  0.073255    1.381145e-12   \n",
       "25              2.0   25.0  0.992959 -0.086965  0.009443    1.381145e-12   \n",
       "26              2.0   26.0  0.995109 -0.047431 -0.053411    1.381145e-12   \n",
       "27              2.0   27.0  0.996103  0.033042 -0.051307    1.381145e-12   \n",
       "28              2.0   28.0  0.996102  0.065670  0.001379    1.381145e-12   \n",
       "29              2.0   29.0  0.997445  0.027475  0.042148    1.381145e-12   \n",
       "30              2.0   30.0  0.997822 -0.029136  0.033385    1.381145e-12   \n",
       "31              2.0   31.0  0.997900 -0.044863 -0.005332    1.381145e-12   \n",
       "32              2.0   32.0  0.998567 -0.014075 -0.029442    1.381145e-12   \n",
       "33              2.0   33.0  0.998716  0.021985 -0.019341    1.381145e-12   \n",
       "34              2.0   34.0  0.998873  0.027189  0.006229    1.381145e-12   \n",
       "35              2.0   35.0  0.999152  0.005002  0.018288    1.381145e-12   \n",
       "36              2.0   36.0  0.999193 -0.015093  0.008998    1.381145e-12   \n",
       "37              2.0   37.0  0.999354 -0.013870 -0.006080    1.381145e-12   \n",
       "38              2.0   38.0  0.999468  0.000969 -0.009970    1.381145e-12   \n",
       "39              2.0   39.0  0.999469  0.009886 -0.002038    1.381145e-12   \n",
       "40              2.0   40.0  0.999585  0.004998  0.005698    1.381145e-12   \n",
       "41              2.0   41.0  0.999639 -0.004524  0.004596    1.381145e-12   \n",
       "42              2.0   42.0  0.999634 -0.006513 -0.002042    1.381145e-12   \n",
       "43              2.0   43.0  0.999694  0.000070 -0.005266    1.381145e-12   \n",
       "44              2.0   44.0  0.999722  0.006158 -0.001625    1.381145e-12   \n",
       "45              2.0   45.0  0.999729  0.004534  0.003889    1.381145e-12   \n",
       "46              2.0   46.0  0.999755 -0.002332  0.004732    1.381145e-12   \n",
       "47              2.0   47.0  0.999767 -0.006350  0.000293    1.381145e-12   \n",
       "48              2.0   48.0  0.999778 -0.003382 -0.004203    1.381145e-12   \n",
       "49              2.0   49.0  0.999788  0.002822 -0.004040    1.381145e-12   \n",
       "\n",
       "               t  \n",
       "0   4.000000e-12  \n",
       "1   8.000000e-12  \n",
       "2   1.200000e-11  \n",
       "3   1.600000e-11  \n",
       "4   2.000000e-11  \n",
       "5   2.400000e-11  \n",
       "6   2.800000e-11  \n",
       "7   3.200000e-11  \n",
       "8   3.600000e-11  \n",
       "9   4.000000e-11  \n",
       "10  4.400000e-11  \n",
       "11  4.800000e-11  \n",
       "12  5.200000e-11  \n",
       "13  5.600000e-11  \n",
       "14  6.000000e-11  \n",
       "15  6.400000e-11  \n",
       "16  6.800000e-11  \n",
       "17  7.200000e-11  \n",
       "18  7.600000e-11  \n",
       "19  8.000000e-11  \n",
       "20  8.400000e-11  \n",
       "21  8.800000e-11  \n",
       "22  9.200000e-11  \n",
       "23  9.600000e-11  \n",
       "24  1.000000e-10  \n",
       "25  1.040000e-10  \n",
       "26  1.080000e-10  \n",
       "27  1.120000e-10  \n",
       "28  1.160000e-10  \n",
       "29  1.200000e-10  \n",
       "30  1.240000e-10  \n",
       "31  1.280000e-10  \n",
       "32  1.320000e-10  \n",
       "33  1.360000e-10  \n",
       "34  1.400000e-10  \n",
       "35  1.440000e-10  \n",
       "36  1.480000e-10  \n",
       "37  1.520000e-10  \n",
       "38  1.560000e-10  \n",
       "39  1.600000e-10  \n",
       "40  1.640000e-10  \n",
       "41  1.680000e-10  \n",
       "42  1.720000e-10  \n",
       "43  1.760000e-10  \n",
       "44  1.800000e-10  \n",
       "45  1.840000e-10  \n",
       "46  1.880000e-10  \n",
       "47  1.920000e-10  \n",
       "48  1.960000e-10  \n",
       "49  2.000000e-10  "
      ]
     },
     "execution_count": 37,
     "metadata": {},
     "output_type": "execute_result"
    }
   ],
   "source": [
    "system.dt"
   ]
  },
  {
   "cell_type": "code",
   "execution_count": 38,
   "metadata": {
    "collapsed": false
   },
   "outputs": [
    {
     "data": {
      "text/plain": [
       "<matplotlib.axes._subplots.AxesSubplot at 0x7f35db4fabe0>"
      ]
     },
     "execution_count": 38,
     "metadata": {},
     "output_type": "execute_result"
    },
    {
     "data": {
      "image/png": "[encoded data removed]",
      "text/plain": [
       "<matplotlib.figure.Figure at 0x7f35db6f0f60>"
      ]
     },
     "metadata": {},
     "output_type": "display_data"
    }
   ],
   "source": [
    "system.dt.plot(\"t\", \"E\")"
   ]
  }
 ],
 "metadata": {
  "kernelspec": {
   "display_name": "Python 3",
   "language": "python",
   "name": "python3"
  },
  "language_info": {
   "codemirror_mode": {
    "name": "ipython",
    "version": 3
   },
   "file_extension": ".py",
   "mimetype": "text/x-python",
   "name": "python",
   "nbconvert_exporter": "python",
   "pygments_lexer": "ipython3",
   "version": "3.5.2"
  }
 },
 "nbformat": 4,
 "nbformat_minor": 0
}
