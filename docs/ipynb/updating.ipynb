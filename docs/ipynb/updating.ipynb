{
 "cells": [
  {
   "cell_type": "markdown",
   "metadata": {},
   "source": [
    "# Updating\n",
    "\n",
    "OOMMFC is under intensive development at the moment, so the new versions of OOMMFC are released on almost weekly basis. Therefore, in order to obtain newly added functionalities as well as any enhancements and fixes, we recommend updating OOMMFC regularly.\n",
    "\n",
    "To update OOMMFC and all its dependent packages, run in your Terminal (Command prompt):\n",
    "```\n",
    "pip install --upgrade oommfc\n",
    "```\n",
    "\n",
    "**Note:** This command on Linux and MacOS platforms requires root privileges."
   ]
  }
 ],
 "metadata": {
  "anaconda-cloud": {},
  "kernelspec": {
   "display_name": "Python [default]",
   "language": "python",
   "name": "python3"
  },
  "language_info": {
   "codemirror_mode": {
    "name": "ipython",
    "version": 3
   },
   "file_extension": ".py",
   "mimetype": "text/x-python",
   "name": "python",
   "nbconvert_exporter": "python",
   "pygments_lexer": "ipython3",
   "version": "3.5.2"
  }
 },
 "nbformat": 4,
 "nbformat_minor": 1
}
