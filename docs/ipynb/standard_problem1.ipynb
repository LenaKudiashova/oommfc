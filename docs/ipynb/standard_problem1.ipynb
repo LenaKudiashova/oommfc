{
 "cells": [
  {
   "cell_type": "markdown",
   "metadata": {},
   "source": [
    "\n",
    "# Micromagnetic standard problem 1"
   ]
  },
  {
   "cell_type": "markdown",
   "metadata": {},
   "source": [
    "**Author**: Marijan Beg\n",
    "\n",
    "**Date**: 10 May 2016"
   ]
  },
  {
   "cell_type": "markdown",
   "metadata": {},
   "source": [
    "## Problem specification"
   ]
  },
  {
   "cell_type": "markdown",
   "metadata": {},
   "source": [
    "The simulated sample is a thin film cuboid with dimensions:\n",
    "- length $L_{x} =  2 \\,\\mu\\text{m}$,\n",
    "- width $L_{y} = 1 \\,\\mu\\text{m}$, and\n",
    "- thickness $t = 20 \\,\\text{nm}$.\n",
    "\n",
    "The material parameters (similar to permalloy) are:\n",
    "\n",
    "- exchange energy constant $A = 1.3 \\times 10^{-11} \\,\\text{J/m}$,\n",
    "- magnetisation saturation $M_\\text{s} = 8 \\times 10^{5} \\,\\text{A/m}$.\n",
    "\n",
    "Apart from the symmetric exchange and demagnetisation energies, uniaxial anisotropy energy is also present with\n",
    "\n",
    "- $K = 0.5 \\times 10^{3} \\,\\text{J/m}^{3}$\n",
    "- $(1, 0, 0)$ direction.\n",
    "\n",
    "More details on standard problem 1 specifications can be found in Ref. 1."
   ]
  },
  {
   "cell_type": "markdown",
   "metadata": {},
   "source": [
    "## Simulation\n",
    "\n",
    "In the first step, we define all simulation parameters."
   ]
  },
  {
   "cell_type": "code",
   "execution_count": 1,
   "metadata": {
    "collapsed": true
   },
   "outputs": [],
   "source": [
    "!rm -rf standard_problem1"
   ]
  },
  {
   "cell_type": "code",
   "execution_count": 2,
   "metadata": {
    "collapsed": true
   },
   "outputs": [],
   "source": [
    "import numpy as np\n",
    "\n",
    "Lx = 2e-6  # x dimension of the sample(m)\n",
    "Ly = 1e-6  # y dimension of the sample (m)\n",
    "thickness = 20e-9  # sample thickness (m)\n",
    "dx = dy = dz = 20e-9 # discretisation in x and y directions (m)\n",
    "\n",
    "# Minimum sample coordinate.\n",
    "p1 = (0, 0, 0)\n",
    "# Maximum sample coordinate.\n",
    "p2 = (Lx, Ly, thickness)\n",
    "# Discretisation.\n",
    "cell = (dx, dy, dz)\n",
    "\n",
    "Ms = 8e5  # saturation magnetisation (A/m)\n",
    "A = 1.3e-11  # exchange energy constant (J/m)\n",
    "K = 0.5e3  # uniaxial anisotropy constant (J/m**3)\n",
    "u = (1, 0, 0)  # uniaxial anisotropy axis"
   ]
  },
  {
   "cell_type": "markdown",
   "metadata": {},
   "source": [
    "After all required simulation parameters are defined, necessary modules are imported."
   ]
  },
  {
   "cell_type": "code",
   "execution_count": 3,
   "metadata": {
    "collapsed": false
   },
   "outputs": [],
   "source": [
    "import discretisedfield as df\n",
    "import oommfc as oc"
   ]
  },
  {
   "cell_type": "markdown",
   "metadata": {},
   "source": [
    "Now, we can create atlas, mesh, and simulation objects."
   ]
  },
  {
   "cell_type": "code",
   "execution_count": 4,
   "metadata": {
    "collapsed": false
   },
   "outputs": [],
   "source": [
    "# Create a mesh object.\n",
    "mesh = oc.Mesh(p1, p2, cell)\n",
    "\n",
    "# Create a system object.\n",
    "system = oc.System(name='standard_problem1')"
   ]
  },
  {
   "cell_type": "markdown",
   "metadata": {},
   "source": [
    "In the next step, energy terms are added. We add symmetric exchange, demagnetisation, and Zeeman energies to the system's Hamiltonian. At this point, we add a Zeeman energy contribution with zero external magnetic field, but this value will be successivelly changed in the hysteresis loop simulation."
   ]
  },
  {
   "cell_type": "code",
   "execution_count": 5,
   "metadata": {
    "collapsed": false
   },
   "outputs": [],
   "source": [
    "system.mesh = mesh\n",
    "\n",
    "system.hamiltonian = oc.Exchange(A) + oc.UniaxialAnisotropy(K, u) + oc.Demag()"
   ]
  },
  {
   "cell_type": "markdown",
   "metadata": {},
   "source": [
    "The system is initialised in the $(10, 1, 0)$ direction [1]."
   ]
  },
  {
   "cell_type": "code",
   "execution_count": 6,
   "metadata": {
    "collapsed": false
   },
   "outputs": [],
   "source": [
    "system.m = df.Field(mesh, value=(-10, -1, 0), normalisedto=Ms)"
   ]
  },
  {
   "cell_type": "markdown",
   "metadata": {},
   "source": [
    "Before the hysteresis simulations are carried out, external magnetic field values at which the system should be relaxed must be created."
   ]
  },
  {
   "cell_type": "code",
   "execution_count": 7,
   "metadata": {
    "collapsed": false
   },
   "outputs": [],
   "source": [
    "Hmax = (50e-3/oc.mu0, 0.87275325e-3/oc.mu0, 0)\n",
    "Hmin = (-50e-3/oc.mu0, -0.87275325e-3/oc.mu0, 0)\n",
    "n = 50"
   ]
  },
  {
   "cell_type": "markdown",
   "metadata": {},
   "source": [
    "Finally, the system is relaxed at every external magnetic field value and average magnetisation is computed."
   ]
  },
  {
   "cell_type": "code",
   "execution_count": 8,
   "metadata": {
    "collapsed": false
   },
   "outputs": [],
   "source": [
    "hd = oc.HysteresisDriver()\n",
    "hd.drive(system, Hmax=Hmax, Hmin=Hmin, n=n)"
   ]
  },
  {
   "cell_type": "markdown",
   "metadata": {},
   "source": [
    "## Hysteresis loop plot"
   ]
  },
  {
   "cell_type": "markdown",
   "metadata": {},
   "source": [
    "After obtaining the average magnetisation at different external magnetic field values, hysteresis loop is plotted."
   ]
  },
  {
   "cell_type": "code",
   "execution_count": 9,
   "metadata": {
    "collapsed": false
   },
   "outputs": [
    {
     "data": {
      "text/plain": [
       "[<matplotlib.lines.Line2D at 0x7feea3d17a58>]"
      ]
     },
     "execution_count": 9,
     "metadata": {},
     "output_type": "execute_result"
    },
    {
     "data": {
      "image/png": "[encoded data removed]",
      "text/plain": [
       "<matplotlib.figure.Figure at 0x7feea3cc62e8>"
      ]
     },
     "metadata": {},
     "output_type": "display_data"
    }
   ],
   "source": [
    "% matplotlib inline\n",
    "import matplotlib.pyplot as plt\n",
    "\n",
    "Bx = system.dt[\"UZeeman::Bx\"].as_matrix()\n",
    "mx = system.dt[\"mx\"].as_matrix()\n",
    "\n",
    "plt.plot(Bx, mx)"
   ]
  },
  {
   "cell_type": "markdown",
   "metadata": {},
   "source": [
    "## References\n",
    "\n",
    "[1] http://www.ctcms.nist.gov/~rdm/mumag.org.html"
   ]
  }
 ],
 "metadata": {
  "kernelspec": {
   "display_name": "Python 3",
   "language": "python",
   "name": "python3"
  },
  "language_info": {
   "codemirror_mode": {
    "name": "ipython",
    "version": 3
   },
   "file_extension": ".py",
   "mimetype": "text/x-python",
   "name": "python",
   "nbconvert_exporter": "python",
   "pygments_lexer": "ipython3",
   "version": "3.4.3"
  }
 },
 "nbformat": 4,
 "nbformat_minor": 0
}
