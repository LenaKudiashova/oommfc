{
 "cells": [
  {
   "cell_type": "markdown",
   "metadata": {},
   "source": [
    "\n",
    "# Micromagnetic standard problem 1"
   ]
  },
  {
   "cell_type": "markdown",
   "metadata": {},
   "source": [
    "**Author**: Marijan Beg\n",
    "\n",
    "**Date**: 10 May 2016"
   ]
  },
  {
   "cell_type": "markdown",
   "metadata": {},
   "source": [
    "## Problem specification"
   ]
  },
  {
   "cell_type": "markdown",
   "metadata": {},
   "source": [
    "The simulated sample is a thin film cuboid with dimensions:\n",
    "- length $L_{x} =  2 \\,\\mu\\text{m}$,\n",
    "- width $L_{y} = 1 \\,\\mu\\text{m}$, and\n",
    "- thickness $t = 20 \\,\\text{nm}$.\n",
    "\n",
    "The material parameters (similar to permalloy) are:\n",
    "\n",
    "- exchange energy constant $A = 1.3 \\times 10^{-11} \\,\\text{J/m}$,\n",
    "- magnetisation saturation $M_\\text{s} = 8 \\times 10^{5} \\,\\text{A/m}$.\n",
    "\n",
    "Apart from the symmetric exchange and demagnetisation energies, uniaxial anisotropy energy is also present with\n",
    "\n",
    "- $K = 0.5 \\times 10^{3} \\,\\text{J/m}^{3}$\n",
    "- $(1, 0, 0)$ direction.\n",
    "\n",
    "More details on standard problem 1 specifications can be found in Ref. 1."
   ]
  },
  {
   "cell_type": "markdown",
   "metadata": {},
   "source": [
    "## Simulation\n",
    "\n",
    "In the first step, we define all simulation parameters."
   ]
  },
  {
   "cell_type": "code",
   "execution_count": 1,
   "metadata": {
    "collapsed": true
   },
   "outputs": [],
   "source": [
    "!rm -rf standard_problem1"
   ]
  },
  {
   "cell_type": "code",
   "execution_count": 2,
   "metadata": {
    "collapsed": true
   },
   "outputs": [],
   "source": [
    "import numpy as np\n",
    "\n",
    "Lx = 2e-6  # x dimension of the sample(m)\n",
    "Ly = 1e-6  # y dimension of the sample (m)\n",
    "thickness = 20e-9  # sample thickness (m)\n",
    "dx = dy = dz = 20e-9 # discretisation in x and y directions (m)\n",
    "\n",
    "# Minimum sample coordinate.\n",
    "cmin = (0, 0, 0)\n",
    "# Maximum sample coordinate.\n",
    "cmax = (Lx, Ly, thickness)\n",
    "# Discretisation.\n",
    "d = (dx, dy, dz)\n",
    "\n",
    "mu0 = 4*np.pi*1e-7  # magnetic constant (H/m)\n",
    "\n",
    "Ms = 8e5  # saturation magnetisation (A/m)\n",
    "A = 1.3e-11  # exchange energy constant (J/m)\n",
    "K = 0.5e3  # uniaxial anisotropy constant (J/m**3)\n",
    "axis = (1, 0, 0)  # uniaxial anisotropy axis"
   ]
  },
  {
   "cell_type": "markdown",
   "metadata": {},
   "source": [
    "After all required simulation parameters are defined, necessary modules are imported."
   ]
  },
  {
   "cell_type": "code",
   "execution_count": 3,
   "metadata": {
    "collapsed": true
   },
   "outputs": [],
   "source": [
    "import sys\n",
    "\n",
    "sys.path.append('../../')\n",
    "\n",
    "from oommfc import Sim, BoxAtlas, RectangularMesh\n",
    "from oommfc.energies import UniformExchange, Demag, FixedZeeman, UniaxialAnisotropy"
   ]
  },
  {
   "cell_type": "markdown",
   "metadata": {},
   "source": [
    "Now, we can create atlas, mesh, and simulation objects."
   ]
  },
  {
   "cell_type": "code",
   "execution_count": 4,
   "metadata": {
    "collapsed": false
   },
   "outputs": [],
   "source": [
    "# Create atlas object.\n",
    "atlas = BoxAtlas(cmin, cmax)\n",
    "\n",
    "# Create a mesh object.\n",
    "mesh = RectangularMesh(atlas, d)\n",
    "\n",
    "# Create a simulation object.\n",
    "sim = Sim(mesh, Ms, name='standard_problem1')"
   ]
  },
  {
   "cell_type": "markdown",
   "metadata": {},
   "source": [
    "In the next step, energy terms are added. We add symmetric exchange, demagnetisation, and Zeeman energies to the system's Hamiltonian. At this point, we add a Zeeman energy contribution with zero external magnetic field, but this value will be successivelly changed in the hysteresis loop simulation."
   ]
  },
  {
   "cell_type": "code",
   "execution_count": 5,
   "metadata": {
    "collapsed": true
   },
   "outputs": [],
   "source": [
    "# Add exchange energy.\n",
    "sim.add(UniformExchange(A))\n",
    "\n",
    "# Add demagnetisation energy.\n",
    "sim.add(Demag())\n",
    "\n",
    "# Add uniaxial anisotropy energy.\n",
    "sim.add(UniaxialAnisotropy(K, axis))\n",
    "\n",
    "# Add Zeeman energy.\n",
    "sim.add(FixedZeeman((0, 0, 0)))"
   ]
  },
  {
   "cell_type": "markdown",
   "metadata": {},
   "source": [
    "The system is initialised in the $(10, 1, 0)$ direction [1]."
   ]
  },
  {
   "cell_type": "code",
   "execution_count": 6,
   "metadata": {
    "collapsed": true
   },
   "outputs": [],
   "source": [
    "sim.set_m((10, 1, 0))"
   ]
  },
  {
   "cell_type": "markdown",
   "metadata": {},
   "source": [
    "Before the hysteresis simulations are carried out, external magnetic field values at which the system should be relaxed must be created."
   ]
  },
  {
   "cell_type": "code",
   "execution_count": 7,
   "metadata": {
    "collapsed": false
   },
   "outputs": [],
   "source": [
    "Hmax = 50e-3/mu0\n",
    "Hdirection = np.array([1, 0.017455065, 0])\n",
    "\n",
    "n_steps = 51\n",
    "H_array = np.concatenate((np.linspace(-Hmax, Hmax, n_steps), np.linspace(Hmax, -Hmax, n_steps)[1:]))"
   ]
  },
  {
   "cell_type": "markdown",
   "metadata": {},
   "source": [
    "Finally, the system is relaxed at every external magnetic field value and average magnetisation is computed."
   ]
  },
  {
   "cell_type": "code",
   "execution_count": 8,
   "metadata": {
    "collapsed": false
   },
   "outputs": [],
   "source": [
    "# Empty lists for saving average magnetisation.\n",
    "mx_average = []\n",
    "my_average = []\n",
    "mz_average = []\n",
    "\n",
    "for H in H_array:\n",
    "    # Set external magnetic field.\n",
    "    sim.set_H(H*Hdirection)\n",
    "    \n",
    "    # Relax the system.\n",
    "    sim.relax()\n",
    "    \n",
    "    # Compute the average magnetisation.\n",
    "    m_average = sim.m_average()\n",
    "    \n",
    "    # Append average magnetisation components.\n",
    "    mx_average.append(m_average[0])\n",
    "    my_average.append(m_average[1])\n",
    "    mz_average.append(m_average[2])"
   ]
  },
  {
   "cell_type": "markdown",
   "metadata": {},
   "source": [
    "## Hysteresis loop plot"
   ]
  },
  {
   "cell_type": "markdown",
   "metadata": {},
   "source": [
    "After obtaining the average magnetisation at different external magnetic field values, hysteresis loop is plotted."
   ]
  },
  {
   "cell_type": "code",
   "execution_count": 9,
   "metadata": {
    "collapsed": false
   },
   "outputs": [
    {
     "data": {
      "image/png": "[encoded data removed]",
      "text/plain": [
       "<matplotlib.figure.Figure at 0x7f93f8254110>"
      ]
     },
     "metadata": {},
     "output_type": "display_data"
    }
   ],
   "source": [
    "import matplotlib.pyplot as plt\n",
    "\n",
    "%matplotlib inline\n",
    "\n",
    "plt.figure(figsize=(10,8))\n",
    "plt.plot(H_array*mu0, mx_average, label='<mx>')\n",
    "plt.plot(H_array*mu0, my_average, label='<my>')\n",
    "plt.plot(H_array*mu0, mz_average, label='<mz>')\n",
    "plt.xlim(-Hmax*mu0, Hmax*mu0)\n",
    "plt.xlabel(r'$\\mu_{0}$H (T)')\n",
    "plt.ylabel('<m>')\n",
    "plt.grid()"
   ]
  },
  {
   "cell_type": "markdown",
   "metadata": {},
   "source": [
    "## References\n",
    "\n",
    "[1] http://www.ctcms.nist.gov/~rdm/mumag.org.html"
   ]
  }
 ],
 "metadata": {
  "kernelspec": {
   "display_name": "Python 2",
   "language": "python",
   "name": "python2"
  },
  "language_info": {
   "codemirror_mode": {
    "name": "ipython",
    "version": 2
   },
   "file_extension": ".py",
   "mimetype": "text/x-python",
   "name": "python",
   "nbconvert_exporter": "python",
   "pygments_lexer": "ipython2",
   "version": "2.7.6"
  }
 },
 "nbformat": 4,
 "nbformat_minor": 0
}
