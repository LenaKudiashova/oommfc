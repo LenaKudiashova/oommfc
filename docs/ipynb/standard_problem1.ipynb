{
 "cells": [
  {
   "cell_type": "markdown",
   "metadata": {},
   "source": [
    "\n",
    "# Micromagnetic standard problem 1"
   ]
  },
  {
   "cell_type": "markdown",
   "metadata": {},
   "source": [
    "**Author**: Marijan Beg\n",
    "\n",
    "**Date**: 10 May 2016"
   ]
  },
  {
   "cell_type": "markdown",
   "metadata": {},
   "source": [
    "## Problem specification"
   ]
  },
  {
   "cell_type": "markdown",
   "metadata": {},
   "source": [
    "The simulated sample is a thin film cuboid with dimensions:\n",
    "- length $L_{x} =  2 \\,\\mu\\text{m}$,\n",
    "- width $L_{y} = 1 \\,\\mu\\text{m}$, and\n",
    "- thickness $t = 20 \\,\\text{nm}$.\n",
    "\n",
    "The material parameters (similar to permalloy) are:\n",
    "\n",
    "- exchange energy constant $A = 1.3 \\times 10^{-11} \\,\\text{J/m}$,\n",
    "- magnetisation saturation $M_\\text{s} = 8 \\times 10^{5} \\,\\text{A/m}$.\n",
    "\n",
    "Apart from the symmetric exchange and demagnetisation energies, uniaxial anisotropy energy is also present with\n",
    "\n",
    "- $K = 0.5 \\times 10^{3} \\,\\text{J/m}^{3}$\n",
    "- $(1, 0, 0)$ direction.\n",
    "\n",
    "More details on standard problem 1 specifications can be found in Ref. 1."
   ]
  },
  {
   "cell_type": "markdown",
   "metadata": {},
   "source": [
    "## Simulation\n",
    "\n",
    "In the first step, we define all simulation parameters."
   ]
  },
  {
   "cell_type": "code",
   "execution_count": 1,
   "metadata": {
    "collapsed": true
   },
   "outputs": [],
   "source": [
    "!rm -rf standard_problem1"
   ]
  },
  {
   "cell_type": "code",
   "execution_count": 2,
   "metadata": {
    "collapsed": true
   },
   "outputs": [],
   "source": [
    "import numpy as np\n",
    "\n",
    "Lx = 2e-6  # x dimension of the sample(m)\n",
    "Ly = 1e-6  # y dimension of the sample (m)\n",
    "thickness = 20e-9  # sample thickness (m)\n",
    "dx = dy = dz = 20e-9 # discretisation in x and y directions (m)\n",
    "\n",
    "# Minimum sample coordinate.\n",
    "p1 = (0, 0, 0)\n",
    "# Maximum sample coordinate.\n",
    "p2 = (Lx, Ly, thickness)\n",
    "# Discretisation.\n",
    "cell = (dx, dy, dz)\n",
    "\n",
    "Ms = 8e5  # saturation magnetisation (A/m)\n",
    "A = 1.3e-11  # exchange energy constant (J/m)\n",
    "K = 0.5e3  # uniaxial anisotropy constant (J/m**3)\n",
    "u = (1, 0, 0)  # uniaxial anisotropy axis"
   ]
  },
  {
   "cell_type": "markdown",
   "metadata": {},
   "source": [
    "After all required simulation parameters are defined, necessary modules are imported."
   ]
  },
  {
   "cell_type": "code",
   "execution_count": 3,
   "metadata": {
    "collapsed": false
   },
   "outputs": [],
   "source": [
    "import discretisedfield as df\n",
    "import oommfc as oc"
   ]
  },
  {
   "cell_type": "markdown",
   "metadata": {},
   "source": [
    "Now, we can create atlas, mesh, and simulation objects."
   ]
  },
  {
   "cell_type": "code",
   "execution_count": 4,
   "metadata": {
    "collapsed": false
   },
   "outputs": [],
   "source": [
    "# Create a mesh object.\n",
    "mesh = oc.Mesh(p1, p2, cell)\n",
    "\n",
    "# Create a system object.\n",
    "system = oc.System(name='standard_problem1')"
   ]
  },
  {
   "cell_type": "markdown",
   "metadata": {},
   "source": [
    "In the next step, energy terms are added. We add symmetric exchange, demagnetisation, and Zeeman energies to the system's Hamiltonian. At this point, we add a Zeeman energy contribution with zero external magnetic field, but this value will be successivelly changed in the hysteresis loop simulation."
   ]
  },
  {
   "cell_type": "code",
   "execution_count": 5,
   "metadata": {
    "collapsed": false
   },
   "outputs": [],
   "source": [
    "system.mesh = mesh\n",
    "\n",
    "system.hamiltonian = oc.Exchange(A) + oc.UniaxialAnisotropy(K, u) + oc.Demag()"
   ]
  },
  {
   "cell_type": "markdown",
   "metadata": {},
   "source": [
    "The system is initialised in the $(10, 1, 0)$ direction [1]."
   ]
  },
  {
   "cell_type": "code",
   "execution_count": 6,
   "metadata": {
    "collapsed": false
   },
   "outputs": [],
   "source": [
    "system.m = df.Field(mesh, value=(10, 1, 0), normalisedto=Ms)"
   ]
  },
  {
   "cell_type": "markdown",
   "metadata": {},
   "source": [
    "Before the hysteresis simulations are carried out, external magnetic field values at which the system should be relaxed must be created."
   ]
  },
  {
   "cell_type": "code",
   "execution_count": 7,
   "metadata": {
    "collapsed": false
   },
   "outputs": [],
   "source": [
    "Hmax = (50e-3/oc.mu0, 0.87275325e-3/oc.mu0, 0)\n",
    "Hmin = (-50e-3/oc.mu0, -0.87275325e-3/oc.mu0, 0)\n",
    "n = 2"
   ]
  },
  {
   "cell_type": "markdown",
   "metadata": {},
   "source": [
    "Finally, the system is relaxed at every external magnetic field value and average magnetisation is computed."
   ]
  },
  {
   "cell_type": "code",
   "execution_count": 8,
   "metadata": {
    "collapsed": false
   },
   "outputs": [
    {
     "ename": "TypeError",
     "evalue": "script() got an unexpected keyword argument 'Hmin'",
     "output_type": "error",
     "traceback": [
      "\u001b[0;31m---------------------------------------------------------------------------\u001b[0m",
      "\u001b[0;31mTypeError\u001b[0m                                 Traceback (most recent call last)",
      "\u001b[0;32m<ipython-input-8-4f0e27abc24a>\u001b[0m in \u001b[0;36m<module>\u001b[0;34m()\u001b[0m\n\u001b[1;32m      1\u001b[0m \u001b[0mhd\u001b[0m \u001b[0;34m=\u001b[0m \u001b[0moc\u001b[0m\u001b[0;34m.\u001b[0m\u001b[0mHysteresisDriver\u001b[0m\u001b[0;34m(\u001b[0m\u001b[0;34m)\u001b[0m\u001b[0;34m\u001b[0m\u001b[0m\n\u001b[0;32m----> 2\u001b[0;31m \u001b[0mhd\u001b[0m\u001b[0;34m.\u001b[0m\u001b[0mdrive\u001b[0m\u001b[0;34m(\u001b[0m\u001b[0msystem\u001b[0m\u001b[0;34m,\u001b[0m \u001b[0mHmax\u001b[0m\u001b[0;34m=\u001b[0m\u001b[0mHmax\u001b[0m\u001b[0;34m,\u001b[0m \u001b[0mHmin\u001b[0m\u001b[0;34m=\u001b[0m\u001b[0mHmin\u001b[0m\u001b[0;34m,\u001b[0m \u001b[0mn\u001b[0m\u001b[0;34m=\u001b[0m\u001b[0mn\u001b[0m\u001b[0;34m)\u001b[0m\u001b[0;34m\u001b[0m\u001b[0m\n\u001b[0m",
      "\u001b[0;32m/usr/local/lib/python3.4/dist-packages/oommfc/drivers/driver.py\u001b[0m in \u001b[0;36mdrive\u001b[0;34m(self, system, **kwargs)\u001b[0m\n\u001b[1;32m     23\u001b[0m \u001b[0;34m\u001b[0m\u001b[0m\n\u001b[1;32m     24\u001b[0m         \u001b[0mmiffilename\u001b[0m \u001b[0;34m=\u001b[0m \u001b[0mfilenames\u001b[0m\u001b[0;34m[\u001b[0m\u001b[0;34m\"miffilename\"\u001b[0m\u001b[0;34m]\u001b[0m\u001b[0;34m\u001b[0m\u001b[0m\n\u001b[0;32m---> 25\u001b[0;31m         \u001b[0mself\u001b[0m\u001b[0;34m.\u001b[0m\u001b[0m_save_mif\u001b[0m\u001b[0;34m(\u001b[0m\u001b[0msystem\u001b[0m\u001b[0;34m,\u001b[0m \u001b[0;34m**\u001b[0m\u001b[0mkwargs\u001b[0m\u001b[0;34m)\u001b[0m\u001b[0;34m\u001b[0m\u001b[0m\n\u001b[0m\u001b[1;32m     26\u001b[0m \u001b[0;34m\u001b[0m\u001b[0m\n\u001b[1;32m     27\u001b[0m         \u001b[0mself\u001b[0m\u001b[0;34m.\u001b[0m\u001b[0m_run_simulator\u001b[0m\u001b[0;34m(\u001b[0m\u001b[0msystem\u001b[0m\u001b[0;34m)\u001b[0m\u001b[0;34m\u001b[0m\u001b[0m\n",
      "\u001b[0;32m/usr/local/lib/python3.4/dist-packages/oommfc/drivers/driver.py\u001b[0m in \u001b[0;36m_save_mif\u001b[0;34m(self, system, **kwargs)\u001b[0m\n\u001b[1;32m     42\u001b[0m         \u001b[0mmif\u001b[0m \u001b[0;34m=\u001b[0m \u001b[0;34m\"# MIF 2.1\\n\\n\"\u001b[0m\u001b[0;34m\u001b[0m\u001b[0m\n\u001b[1;32m     43\u001b[0m         \u001b[0mmif\u001b[0m \u001b[0;34m+=\u001b[0m \u001b[0msystem\u001b[0m\u001b[0;34m.\u001b[0m\u001b[0mscript\u001b[0m\u001b[0;34m(\u001b[0m\u001b[0;34m)\u001b[0m\u001b[0;34m\u001b[0m\u001b[0m\n\u001b[0;32m---> 44\u001b[0;31m         \u001b[0mmif\u001b[0m \u001b[0;34m+=\u001b[0m \u001b[0mself\u001b[0m\u001b[0;34m.\u001b[0m\u001b[0mscript\u001b[0m\u001b[0;34m(\u001b[0m\u001b[0msystem\u001b[0m\u001b[0;34m,\u001b[0m \u001b[0;34m**\u001b[0m\u001b[0mkwargs\u001b[0m\u001b[0;34m)\u001b[0m\u001b[0;34m\u001b[0m\u001b[0m\n\u001b[0m\u001b[1;32m     45\u001b[0m \u001b[0;34m\u001b[0m\u001b[0m\n\u001b[1;32m     46\u001b[0m         \u001b[0mmiffilename\u001b[0m \u001b[0;34m=\u001b[0m \u001b[0mself\u001b[0m\u001b[0;34m.\u001b[0m\u001b[0m_filenames\u001b[0m\u001b[0;34m(\u001b[0m\u001b[0msystem\u001b[0m\u001b[0;34m)\u001b[0m\u001b[0;34m[\u001b[0m\u001b[0;34m\"miffilename\"\u001b[0m\u001b[0;34m]\u001b[0m\u001b[0;34m\u001b[0m\u001b[0m\n",
      "\u001b[0;31mTypeError\u001b[0m: script() got an unexpected keyword argument 'Hmin'"
     ]
    }
   ],
   "source": [
    "hd = oc.HysteresisDriver()\n",
    "hd.drive(system, Hmax=Hmax, Hmin=Hmin, n=n)"
   ]
  },
  {
   "cell_type": "code",
   "execution_count": 25,
   "metadata": {
    "collapsed": false
   },
   "outputs": [],
   "source": [
    "# Empty lists for saving average magnetisation.\n",
    "mx_average = []\n",
    "my_average = []\n",
    "mz_average = []\n",
    "\n",
    "md = oc.MinDriver()\n",
    "\n",
    "for H in H_array:\n",
    "    # Set external magnetic field.\n",
    "    sim.hamiltonian.zeeman.H = H*Hdirection\n",
    "    \n",
    "    # Relax the system.\n",
    "    md.drive(system)\n",
    "    \n",
    "    # Compute the average magnetisation.\n",
    "    m_average = system.m.average()\n",
    "    \n",
    "    # Append average magnetisation components.\n",
    "    mx_average.append(m_average[0])\n",
    "    my_average.append(m_average[1])\n",
    "    mz_average.append(m_average[2])"
   ]
  },
  {
   "cell_type": "markdown",
   "metadata": {},
   "source": [
    "## Hysteresis loop plot"
   ]
  },
  {
   "cell_type": "markdown",
   "metadata": {},
   "source": [
    "After obtaining the average magnetisation at different external magnetic field values, hysteresis loop is plotted."
   ]
  },
  {
   "cell_type": "code",
   "execution_count": 26,
   "metadata": {
    "collapsed": false
   },
   "outputs": [
    {
     "data": {
      "image/png": "[encoded data removed]",
      "text/plain": [
       "<matplotlib.figure.Figure at 0x7f3056815fd0>"
      ]
     },
     "metadata": {},
     "output_type": "display_data"
    }
   ],
   "source": [
    "import matplotlib.pyplot as plt\n",
    "\n",
    "%matplotlib inline\n",
    "\n",
    "plt.figure(figsize=(10,8))\n",
    "plt.plot(H_array*oc.mu0, mx_average, label='<mx>')\n",
    "plt.plot(H_array*oc.mu0, my_average, label='<my>')\n",
    "plt.plot(H_array*oc.mu0, mz_average, label='<mz>')\n",
    "plt.xlim(-Hmax*oc.mu0, Hmax*oc.mu0)\n",
    "plt.xlabel(r'$\\mu_{0}$H (T)')\n",
    "plt.ylabel('<m>')\n",
    "plt.grid()"
   ]
  },
  {
   "cell_type": "markdown",
   "metadata": {},
   "source": [
    "## References\n",
    "\n",
    "[1] http://www.ctcms.nist.gov/~rdm/mumag.org.html"
   ]
  }
 ],
 "metadata": {
  "kernelspec": {
   "display_name": "Python 3",
   "language": "python",
   "name": "python3"
  },
  "language_info": {
   "codemirror_mode": {
    "name": "ipython",
    "version": 3
   },
   "file_extension": ".py",
   "mimetype": "text/x-python",
   "name": "python",
   "nbconvert_exporter": "python",
   "pygments_lexer": "ipython3",
   "version": "3.4.3"
  }
 },
 "nbformat": 4,
 "nbformat_minor": 0
}
