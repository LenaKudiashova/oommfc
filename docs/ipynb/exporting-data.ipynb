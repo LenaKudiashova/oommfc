{
 "cells": [
  {
   "cell_type": "markdown",
   "metadata": {},
   "source": [
    "# Exporting data\n",
    "There are fundamentally two different data types:\n",
    "- spatially averaged data (as in the `odt` [OOMMF Data Table] file)\n",
    "- spatially resolved data (as in the `omf`, `omv` files)"
   ]
  },
  {
   "cell_type": "markdown",
   "metadata": {},
   "source": [
    "## Access the raw OOMMF output files\n",
    "\n",
    "When Jupyter OOMMF needs a micromagnetic calculation to be carried out, it is writing a `mif` file, and then asks OOMMF to execute that miffile, and export data to the file system.\n",
    "\n",
    "It it thus possible to read the output files from the disk as one would normally with OOMMF. This allows re-use of all existing tools to analyse OOMMF data (including muview, ovf2vtk, ...)\n",
    "\n",
    "Example"
   ]
  },
  {
   "cell_type": "code",
   "execution_count": 1,
   "metadata": {
    "collapsed": false
   },
   "outputs": [
    {
     "name": "stdout",
     "output_type": "stream",
     "text": [
      "2017/4/4 23:18: Calling OOMMF (example-macrospin/example-macrospin.mif) ... [1.4s]\n"
     ]
    }
   ],
   "source": [
    "import oommfc as oc\n",
    "system = oc.examples.macrospin()\n",
    "td = oc.TimeDriver()\n",
    "td.drive(system, t=0.1e-9, n=5)"
   ]
  },
  {
   "cell_type": "markdown",
   "metadata": {},
   "source": [
    "From the last output line, we can see that the OOMMF data is stored in the directory `example-macrospin`. We can display the content:"
   ]
  },
  {
   "cell_type": "code",
   "execution_count": 2,
   "metadata": {
    "collapsed": false
   },
   "outputs": [
    {
     "name": "stdout",
     "output_type": "stream",
     "text": [
      "example-macrospin-Oxs_TimeDriver-Magnetization-00-0000036.omf\r\n",
      "example-macrospin-Oxs_TimeDriver-Magnetization-01-0000066.omf\r\n",
      "example-macrospin-Oxs_TimeDriver-Magnetization-02-0000092.omf\r\n",
      "example-macrospin-Oxs_TimeDriver-Magnetization-03-0000113.omf\r\n",
      "example-macrospin-Oxs_TimeDriver-Magnetization-04-0000130.omf\r\n",
      "example-macrospin.mif\r\n",
      "example-macrospin.odt\r\n",
      "m0.omf\r\n"
     ]
    }
   ],
   "source": [
    "!ls example-macrospin/"
   ]
  },
  {
   "cell_type": "markdown",
   "metadata": {},
   "source": [
    "## Exporting the OOMMF Data Table\n",
    "The file `example-macrospin.odt` is automatically read and available as a pandas data table in the `system.dt` object. We can thus use all the export functionality that pandas supports. For example"
   ]
  },
  {
   "cell_type": "code",
   "execution_count": 3,
   "metadata": {
    "collapsed": false
   },
   "outputs": [
    {
     "data": {
      "text/html": [
       "<div>\n",
       "<table border=\"1\" class=\"dataframe\">\n",
       "  <thead>\n",
       "    <tr style=\"text-align: right;\">\n",
       "      <th></th>\n",
       "      <th>E</th>\n",
       "      <th>Ecount</th>\n",
       "      <th>max_dm/dt</th>\n",
       "      <th>dE/dt</th>\n",
       "      <th>deltaE</th>\n",
       "      <th>FixedZeeman:zeeman:Energy</th>\n",
       "      <th>iteration</th>\n",
       "      <th>stage_iteration</th>\n",
       "      <th>stage</th>\n",
       "      <th>mx</th>\n",
       "      <th>my</th>\n",
       "      <th>mz</th>\n",
       "      <th>last_time_step</th>\n",
       "      <th>t</th>\n",
       "    </tr>\n",
       "  </thead>\n",
       "  <tbody>\n",
       "    <tr>\n",
       "      <th>0</th>\n",
       "      <td>-5.033171e-18</td>\n",
       "      <td>217.0</td>\n",
       "      <td>37867.797392</td>\n",
       "      <td>-1.241326e-07</td>\n",
       "      <td>-4.522273e-20</td>\n",
       "      <td>-5.033171e-18</td>\n",
       "      <td>36.0</td>\n",
       "      <td>36.0</td>\n",
       "      <td>0.0</td>\n",
       "      <td>-0.597360</td>\n",
       "      <td>-0.038383</td>\n",
       "      <td>0.801054</td>\n",
       "      <td>3.586075e-13</td>\n",
       "      <td>2.000000e-11</td>\n",
       "    </tr>\n",
       "    <tr>\n",
       "      <th>1</th>\n",
       "      <td>-6.131373e-18</td>\n",
       "      <td>392.0</td>\n",
       "      <td>13822.238704</td>\n",
       "      <td>-1.653875e-08</td>\n",
       "      <td>-6.256125e-21</td>\n",
       "      <td>-6.131373e-18</td>\n",
       "      <td>66.0</td>\n",
       "      <td>29.0</td>\n",
       "      <td>1.0</td>\n",
       "      <td>0.216713</td>\n",
       "      <td>0.027838</td>\n",
       "      <td>0.975838</td>\n",
       "      <td>3.708125e-13</td>\n",
       "      <td>4.000000e-11</td>\n",
       "    </tr>\n",
       "    <tr>\n",
       "      <th>2</th>\n",
       "      <td>-6.266081e-18</td>\n",
       "      <td>543.0</td>\n",
       "      <td>4664.609034</td>\n",
       "      <td>-1.883547e-09</td>\n",
       "      <td>-1.210170e-21</td>\n",
       "      <td>-6.266081e-18</td>\n",
       "      <td>92.0</td>\n",
       "      <td>25.0</td>\n",
       "      <td>2.0</td>\n",
       "      <td>-0.072403</td>\n",
       "      <td>-0.013953</td>\n",
       "      <td>0.997278</td>\n",
       "      <td>6.216520e-13</td>\n",
       "      <td>6.000000e-11</td>\n",
       "    </tr>\n",
       "    <tr>\n",
       "      <th>3</th>\n",
       "      <td>-6.281233e-18</td>\n",
       "      <td>664.0</td>\n",
       "      <td>1577.051840</td>\n",
       "      <td>-2.152969e-10</td>\n",
       "      <td>-2.059347e-22</td>\n",
       "      <td>-6.281233e-18</td>\n",
       "      <td>113.0</td>\n",
       "      <td>20.0</td>\n",
       "      <td>3.0</td>\n",
       "      <td>0.024163</td>\n",
       "      <td>0.006131</td>\n",
       "      <td>0.999689</td>\n",
       "      <td>9.181643e-13</td>\n",
       "      <td>8.000000e-11</td>\n",
       "    </tr>\n",
       "    <tr>\n",
       "      <th>4</th>\n",
       "      <td>-6.282947e-18</td>\n",
       "      <td>761.0</td>\n",
       "      <td>550.439309</td>\n",
       "      <td>-2.622797e-11</td>\n",
       "      <td>-3.440007e-23</td>\n",
       "      <td>-6.282947e-18</td>\n",
       "      <td>130.0</td>\n",
       "      <td>16.0</td>\n",
       "      <td>4.0</td>\n",
       "      <td>-0.008347</td>\n",
       "      <td>-0.002458</td>\n",
       "      <td>0.999962</td>\n",
       "      <td>1.290222e-12</td>\n",
       "      <td>1.000000e-10</td>\n",
       "    </tr>\n",
       "  </tbody>\n",
       "</table>\n",
       "</div>"
      ],
      "text/plain": [
       "              E  Ecount     max_dm/dt         dE/dt        deltaE  \\\n",
       "0 -5.033171e-18   217.0  37867.797392 -1.241326e-07 -4.522273e-20   \n",
       "1 -6.131373e-18   392.0  13822.238704 -1.653875e-08 -6.256125e-21   \n",
       "2 -6.266081e-18   543.0   4664.609034 -1.883547e-09 -1.210170e-21   \n",
       "3 -6.281233e-18   664.0   1577.051840 -2.152969e-10 -2.059347e-22   \n",
       "4 -6.282947e-18   761.0    550.439309 -2.622797e-11 -3.440007e-23   \n",
       "\n",
       "   FixedZeeman:zeeman:Energy  iteration  stage_iteration  stage        mx  \\\n",
       "0              -5.033171e-18       36.0             36.0    0.0 -0.597360   \n",
       "1              -6.131373e-18       66.0             29.0    1.0  0.216713   \n",
       "2              -6.266081e-18       92.0             25.0    2.0 -0.072403   \n",
       "3              -6.281233e-18      113.0             20.0    3.0  0.024163   \n",
       "4              -6.282947e-18      130.0             16.0    4.0 -0.008347   \n",
       "\n",
       "         my        mz  last_time_step             t  \n",
       "0 -0.038383  0.801054    3.586075e-13  2.000000e-11  \n",
       "1  0.027838  0.975838    3.708125e-13  4.000000e-11  \n",
       "2 -0.013953  0.997278    6.216520e-13  6.000000e-11  \n",
       "3  0.006131  0.999689    9.181643e-13  8.000000e-11  \n",
       "4 -0.002458  0.999962    1.290222e-12  1.000000e-10  "
      ]
     },
     "execution_count": 3,
     "metadata": {},
     "output_type": "execute_result"
    }
   ],
   "source": [
    "# display beginning of data table in notebook\n",
    "system.dt.head()"
   ]
  },
  {
   "cell_type": "markdown",
   "metadata": {},
   "source": [
    "### MS Excel, html, latex, json"
   ]
  },
  {
   "cell_type": "code",
   "execution_count": 4,
   "metadata": {
    "collapsed": true
   },
   "outputs": [],
   "source": [
    "system.dt.to_excel(\"data-odt.xlsx\")"
   ]
  },
  {
   "cell_type": "code",
   "execution_count": 5,
   "metadata": {
    "collapsed": true
   },
   "outputs": [],
   "source": [
    "system.dt.to_html(\"data-odt.html\")"
   ]
  },
  {
   "cell_type": "code",
   "execution_count": 6,
   "metadata": {
    "collapsed": true
   },
   "outputs": [],
   "source": [
    "system.dt.to_latex(\"data-odt.tex\")"
   ]
  },
  {
   "cell_type": "code",
   "execution_count": 7,
   "metadata": {
    "collapsed": true
   },
   "outputs": [],
   "source": [
    "system.dt.to_json(\"data-odt.json\")"
   ]
  },
  {
   "cell_type": "code",
   "execution_count": 8,
   "metadata": {
    "collapsed": false
   },
   "outputs": [
    {
     "name": "stdout",
     "output_type": "stream",
     "text": [
      "-rw-r--r--  1 fangohr  staff  2419  4 Apr 23:18 data-odt.html\r\n",
      "-rw-r--r--  1 fangohr  staff  1219  4 Apr 23:18 data-odt.json\r\n",
      "-rw-r--r--  1 fangohr  staff  1396  4 Apr 23:18 data-odt.tex\r\n",
      "-rw-r--r--  1 fangohr  staff  5819  4 Apr 23:18 data-odt.xlsx\r\n"
     ]
    }
   ],
   "source": [
    "!ls -l data-odt.*"
   ]
  },
  {
   "cell_type": "code",
   "execution_count": 9,
   "metadata": {
    "collapsed": false
   },
   "outputs": [
    {
     "name": "stdout",
     "output_type": "stream",
     "text": [
      "PK\u0003\u0004\u0014\u0000\u0000\u0000\b\u0000S��J<᥅�\u0000\u0000\u0000\u0016\u0002\u0000\u0000\u000b",
      "\u0000\u0000\u0000_rels/.rels��O��@\f",
      "ſJ��\u001aW��b=y�mY�\u0002q&�C;�!\u0013�~{��l�TP�\u0018^�ޏG�?4�v\u001c",
      "R��T�~\b�4�j�\u0002H�%�iőBVj\u0016��Gi ���!ج�;���9짞E�J#��4�\t�!-�8���?3��l��[�gB��;KG�\u0017OA\u0017�g\u001b��e��\u001f�c�-�O-\u000b",
      "���\u0003��P���#�\u0000\u0012�(=$�.\u0010a���F���͑��\u001b\u001c",
      "�PK\u0003\u0004\u0014\u0000\u0000\u0000\b\u0000S��Jf�\u000b",
      "`�\u0000\u0000\u0000�\u0000\u0000\u0000\u0010\u0000\u0000\u0000docProps/app.xmlM�M\u000b",
      "�0\u0010D�J��n)�Ab@�G����nl Ɇ�\r\n",
      "����\u001f�y�a\u0018uc���t5�TN�*��\u0000Ů\u0018M\u0019�N�8�h�!?���\u0016/d�\u0011��4�\u0007�*�\u0016\\v�;�ku�9xk�S�Wo�\r\n",
      "9��j1(��[�\\�<\r",
      "������I�\u0002PK\u0003\u0004\u0014\u0000\u0000\u0000\b\u0000S��Jlc�|�\u0000\u0000\u0000�\u0001\u0000\u0000\u0011\u0000\u0000\u0000docProps/core.xml��MK\u00031\u0010��J�}w�C��m.�'\u0005���-$�6�� \u0019���7��[EoB.���g&�S�+\u001f�)���\f",
      "��h{��\r\n",
      "\u001bv \r\n",
      "\u001c",
      " �\u0003Z��L�\u001c",
      "�|���5�!H�.�\bMU]�E�Z��IX���NJ�\u0016e���,�\r\n",
      "�G��\u0012�e\r",
      "\u0017�0��gÜ,��B\r",
      "�P\u000e���jx}|x��/�K$�B&:���(�G1�(\u001c",
      "Ǿ�o��4���z�'p:\u0006ܰs����m�h�������6-�׼]�M�\u001f�\u0017�����?�g���׿�OPK\u0003\u0004\u0014\u0000\u0000\u0000\b\u0000S��J�\\�#\u0010\u0006\u0000\u0000�'\u0000\u0000\u0013\u0000\u0000\u0000xl/theme/theme1.xml�Z[s�8\u0014~��xg�m\u000b",
      "�6���\u0013siv۴���N\u001f�\u0011X�lyd���G6\u0010˖\r",
      "�M��<\u0004,���EG��8y��.b膈��x`�/�ֻ�/��W2$\u0011A0\u0019����\r\n",
      "�L^�Zi\u0000�8}�\u0013\u0012�܂�\bKx\u0014��\\�[\u001a/#����V�il�\u0018Gd`}^,h@�TQZo_ ��\u001f3�\u0015�T�e�\u0001\u0013WA&�����l����>e��:\u001d",
      "2�n0\u001bX �o��NZ��T���jg?Vk���H���}�\u0005�I���\u0015\b2\r",
      ";:�X�v|��ퟌ��t4m\u001a���x8��ҋp\u001c",
      "\u0004�Q���l��A\t��i�d��ڮ����SO��}��h�\r\n",
      "�[O�kw�ӎ�ƭ�x\r",
      "��O�î�ƫ�t�i&'��k��\u0016hBF��z\u0012\u0015��@� \u0000Xpv���\u0003�^)�u�\u001a�\u001d",
      "��A\\�X�9�\u0011���\u0004�i�\u0019�4Fr��\u0005\u000e\u00007��LP|�A����\\���)�P\u001a\b�ȁ�G�!�ܯ����ɤ3z�}:�k�i�\u0001����ϓ�s�䟧��MB�p�,\t��#[a�'n;\u0013r:\u001c",
      "gB|�����%2���\r\n",
      "�N<g\u001fV��]��䞌r#���X}�OGn#ש��\"הF$E��-��\u00118�I\r",
      "2\u0013?\b���jP\u001c",
      "\u0002�\t1�����Ƭ\u0011�\u0013}��\b�ߍ���o�=W�XIڄ�\u0010F\u001a�s�s�l�\u0007�F��U�ܣ�X\u0015\u0001�\u0018�4�5,��x���<\u001d",
      "\u0013\u0012͔\u000b",
      "\u0006A��$&\u0012�9~MH\u0013�+�����@�/$�J��i�#�t&��3\u001a�F�\u001bu�h�<z�\u0005��5\r\n",
      "\u001c",
      "�\u001b\u001d",
      "\u0002g\u001b�F!�i��\u001e",
      "�$����\u0011+B>b\u00196\u001ar�\u0016��q��`Z\u0012��xNҴ\u0011�Y�5�>`��͑u�֑\u000e\u0011�^7B>b΋�\u0011�\u001e",
      "�8J���qX\u0004��^�I���f��~��3l,��G�\u0017J�\u000f&�?�24\u0007��Y\t��Vj���4>�\u001e",
      "2\r\n"
     ]
    }
   ],
   "source": [
    "!head data-odt.xlsx"
   ]
  },
  {
   "cell_type": "code",
   "execution_count": 10,
   "metadata": {
    "collapsed": false
   },
   "outputs": [
    {
     "name": "stdout",
     "output_type": "stream",
     "text": [
      "<table border=\"1\" class=\"dataframe\">\r\n",
      "  <thead>\r\n",
      "    <tr style=\"text-align: right;\">\r\n",
      "      <th></th>\r\n",
      "      <th>E</th>\r\n",
      "      <th>Ecount</th>\r\n",
      "      <th>max_dm/dt</th>\r\n",
      "      <th>dE/dt</th>\r\n",
      "      <th>deltaE</th>\r\n",
      "      <th>FixedZeeman:zeeman:Energy</th>\r\n"
     ]
    }
   ],
   "source": [
    "!head data-odt.html"
   ]
  },
  {
   "cell_type": "code",
   "execution_count": 11,
   "metadata": {
    "collapsed": false
   },
   "outputs": [
    {
     "name": "stdout",
     "output_type": "stream",
     "text": [
      "{\"E\":{\"0\":-5.033171479e-18,\"1\":-6.131373041e-18,\"2\":-6.266081472e-18,\"3\":-6.281232628e-18,\"4\":-6.28294746e-18},\"Ecount\":{\"0\":217.0,\"1\":392.0,\"2\":543.0,\"3\":664.0,\"4\":761.0},\"max_dm\\/dt\":{\"0\":37867.7973924227,\"1\":13822.2387039211,\"2\":4664.6090341554,\"3\":1577.0518398457,\"4\":550.4393093324},\"dE\\/dt\":{\"0\":-0.0000001241,\"1\":-0.0000000165,\"2\":-0.0000000019,\"3\":-0.0000000002,\"4\":-0.0},\"deltaE\":{\"0\":-4.522272608e-20,\"1\":-6.25612476e-21,\"2\":-1.210169685e-21,\"3\":-2.059346614e-22,\"4\":-3.440006546e-23},\"FixedZeeman:zeeman:Energy\":{\"0\":-5.033171479e-18,\"1\":-6.131373041e-18,\"2\":-6.266081472e-18,\"3\":-6.281232628e-18,\"4\":-6.28294746e-18},\"iteration\":{\"0\":36.0,\"1\":66.0,\"2\":92.0,\"3\":113.0,\"4\":130.0},\"stage_iteration\":{\"0\":36.0,\"1\":29.0,\"2\":25.0,\"3\":20.0,\"4\":16.0},\"stage\":{\"0\":0.0,\"1\":1.0,\"2\":2.0,\"3\":3.0,\"4\":4.0},\"mx\":{\"0\":-0.5973600676,\"1\":0.2167132278,\"2\":-0.0724031353,\"3\":0.0241634253,\"4\":-0.0083465781},\"my\":{\"0\":-0.0383828866,\"1\":0.0278376651,\"2\":-0.0139533404,\"3\":0.0061310212,\"4\":-0.0024581319},\"mz\":{\"0\":0.8010541203,\"1\":0.9758383274,\"2\":0.9972778401,\"3\":0.9996892214,\"4\":0.9999621454},\"last_time_step\":{\"0\":0.0,\"1\":0.0,\"2\":0.0,\"3\":0.0,\"4\":0.0},\"t\":{\"0\":0.0,\"1\":0.0,\"2\":0.0000000001,\"3\":0.0000000001,\"4\":0.0000000001}}"
     ]
    }
   ],
   "source": [
    "!head data-odt.json"
   ]
  },
  {
   "cell_type": "code",
   "execution_count": 12,
   "metadata": {
    "collapsed": false
   },
   "outputs": [
    {
     "name": "stdout",
     "output_type": "stream",
     "text": [
      "\\begin{tabular}{lrrrrrrrrrrrrrr}\r\n",
      "\\toprule\r\n",
      "{} &             E &  Ecount &     max\\_dm/dt &         dE/dt &        deltaE &  FixedZeeman:zeeman:Energy &  iteration &  stage\\_iteration &  stage &        mx &        my &        mz &  last\\_time\\_step &             t \\\\\r\n",
      "\\midrule\r\n",
      "0 & -5.033171e-18 &   217.0 &  37867.797392 & -1.241326e-07 & -4.522273e-20 &              -5.033171e-18 &       36.0 &             36.0 &    0.0 & -0.597360 & -0.038383 &  0.801054 &    3.586075e-13 &  2.000000e-11 \\\\\r\n",
      "1 & -6.131373e-18 &   392.0 &  13822.238704 & -1.653875e-08 & -6.256125e-21 &              -6.131373e-18 &       66.0 &             29.0 &    1.0 &  0.216713 &  0.027838 &  0.975838 &    3.708125e-13 &  4.000000e-11 \\\\\r\n",
      "2 & -6.266081e-18 &   543.0 &   4664.609034 & -1.883547e-09 & -1.210170e-21 &              -6.266081e-18 &       92.0 &             25.0 &    2.0 & -0.072403 & -0.013953 &  0.997278 &    6.216520e-13 &  6.000000e-11 \\\\\r\n",
      "3 & -6.281233e-18 &   664.0 &   1577.051840 & -2.152969e-10 & -2.059347e-22 &              -6.281233e-18 &      113.0 &             20.0 &    3.0 &  0.024163 &  0.006131 &  0.999689 &    9.181643e-13 &  8.000000e-11 \\\\\r\n",
      "4 & -6.282947e-18 &   761.0 &    550.439309 & -2.622797e-11 & -3.440007e-23 &              -6.282947e-18 &      130.0 &             16.0 &    4.0 & -0.008347 & -0.002458 &  0.999962 &    1.290222e-12 &  1.000000e-10 \\\\\r\n",
      "\\bottomrule\r\n"
     ]
    }
   ],
   "source": [
    "!head data-odt.tex"
   ]
  },
  {
   "cell_type": "markdown",
   "metadata": {},
   "source": [
    "### Numpy arrays"
   ]
  },
  {
   "cell_type": "markdown",
   "metadata": {},
   "source": [
    "Given a pandas table, we can extract each column as a (Pandas) Series:"
   ]
  },
  {
   "cell_type": "code",
   "execution_count": 13,
   "metadata": {
    "collapsed": false
   },
   "outputs": [
    {
     "data": {
      "text/plain": [
       "0    2.000000e-11\n",
       "1    4.000000e-11\n",
       "2    6.000000e-11\n",
       "3    8.000000e-11\n",
       "4    1.000000e-10\n",
       "Name: t, dtype: float64"
      ]
     },
     "execution_count": 13,
     "metadata": {},
     "output_type": "execute_result"
    }
   ],
   "source": [
    "t_series = system.dt['t']\n",
    "t_series"
   ]
  },
  {
   "cell_type": "markdown",
   "metadata": {},
   "source": [
    "Or convert this into a numpy array:"
   ]
  },
  {
   "cell_type": "code",
   "execution_count": 14,
   "metadata": {
    "collapsed": false
   },
   "outputs": [],
   "source": [
    "import numpy as np\n",
    "t_array = np.array(system.dt['t'])\n",
    "mx_array = np.array(system.dt['mx'])"
   ]
  },
  {
   "cell_type": "markdown",
   "metadata": {},
   "source": [
    "for example to plot the data in some custom way:"
   ]
  },
  {
   "cell_type": "code",
   "execution_count": 15,
   "metadata": {
    "collapsed": false
   },
   "outputs": [
    {
     "data": {
      "text/plain": [
       "[<matplotlib.lines.Line2D at 0x1006a1470>]"
      ]
     },
     "execution_count": 15,
     "metadata": {},
     "output_type": "execute_result"
    },
    {
     "data": {
      "image/png": "[encoded data removed]",
      "text/plain": [
       "<matplotlib.figure.Figure at 0x10360cbe0>"
      ]
     },
     "metadata": {},
     "output_type": "display_data"
    }
   ],
   "source": [
    "%matplotlib inline\n",
    "import matplotlib.pyplot as plt\n",
    "fig, axes = plt.subplots()\n",
    "axes.plot(t_array, mx_array)"
   ]
  },
  {
   "cell_type": "markdown",
   "metadata": {},
   "source": [
    "## TODO: Add section on OMF files"
   ]
  },
  {
   "cell_type": "code",
   "execution_count": null,
   "metadata": {
    "collapsed": true
   },
   "outputs": [],
   "source": []
  }
 ],
 "metadata": {
  "kernelspec": {
   "display_name": "Python 3",
   "language": "python",
   "name": "python3"
  },
  "language_info": {
   "codemirror_mode": {
    "name": "ipython",
    "version": 3
   },
   "file_extension": ".py",
   "mimetype": "text/x-python",
   "name": "python",
   "nbconvert_exporter": "python",
   "pygments_lexer": "ipython3",
   "version": "3.6.0"
  }
 },
 "nbformat": 4,
 "nbformat_minor": 2
}
