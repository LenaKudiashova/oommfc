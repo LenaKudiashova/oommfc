{
 "cells": [
  {
   "cell_type": "markdown",
   "metadata": {},
   "source": [
    "# Micromagnetic standard problem 4\n",
    "\n",
    "**Authors**: Marijan Beg, Ryan A. Pepper, and Hans Fangohr\n",
    "\n",
    "**Date**: 12 December 2016\n",
    "\n",
    "## Problem specification\n",
    "\n",
    "The sample is a thin film cuboid with dimensions:\n",
    "\n",
    "- length $l_{x} = 500 \\,\\text{nm}$,\n",
    "- width $l_{y} = 125 \\,\\text{nm}$, and\n",
    "- thickness $l_{z} = 3 \\,\\text{nm}$.\n",
    "\n",
    "The material parameters (similar to permalloy) are:\n",
    "\n",
    "- exchange energy constant $A = 1.3 \\times 10^{-11} \\,\\text{J/m}$,\n",
    "- magnetisation saturation $M_\\text{s} = 8 \\times 10^{5} \\,\\text{A/m}$.\n",
    "\n",
    "Magnetisation dynamics are governed by the Landau-Lifshitz-Gilbert equation\n",
    "\n",
    "$$\\frac{d\\mathbf{m}}{dt} = \\underbrace{-\\gamma_{0}(\\mathbf{m} \\times \\mathbf{H}_\\text{eff})}_\\text{precession} + \\underbrace{\\alpha\\left(\\mathbf{m} \\times \\frac{d\\mathbf{m}}{dt}\\right)}_\\text{damping}$$\n",
    "\n",
    "where $\\gamma_{0} = 2.211 \\times 10^{5} \\,\\text{m}\\,\\text{A}^{-1}\\,\\text{s}^{-1}$ and Gilbert damping $\\alpha=0.02$.\n",
    "\n",
    "In the standard problem 4, the system is first relaxed at zero external magnetic field and then, starting from the obtained equlibrium configuration, the magnetisation dynamics are simulated for two external magnetic fields $\\mathbf{B}_{1} = (-24.6, 4.3, 0.0) \\,\\text{mT}$ and $\\mathbf{B}_{2} = (-35.5, -6.3, 0.0) \\,\\text{mT}$.\n",
    "\n",
    "More detailed specification of Standard problem 4 can be found in Ref. 1.\n",
    "\n",
    "## Simulation\n",
    "\n",
    "In the first step, we import the required `discretisedfield` and `oommfc` modules."
   ]
  },
  {
   "cell_type": "code",
   "execution_count": 17,
   "metadata": {
    "collapsed": true
   },
   "outputs": [],
   "source": [
    "import discretisedfield as df\n",
    "import oommfc as oc"
   ]
  },
  {
   "cell_type": "markdown",
   "metadata": {},
   "source": [
    "Now, we can set all required geometry and material parameters."
   ]
  },
  {
   "cell_type": "code",
   "execution_count": 18,
   "metadata": {
    "collapsed": false
   },
   "outputs": [],
   "source": [
    "# Geometry\n",
    "lx = 500e-9  # x dimension of the sample(m)\n",
    "ly = 125e-9  # y dimension of the sample (m)\n",
    "lz = 3e-9  # sample thickness (m)\n",
    "\n",
    "# Material (permalloy) parameters\n",
    "Ms = 8e5  # saturation magnetisation (A/m)\n",
    "A = 1.3e-11  # exchange energy constant (J/m)\n",
    "\n",
    "# Dynamics (LLG equation) parameters\n",
    "gamma = 2.211e5  # gyromagnetic ratio (m/As)\n",
    "alpha = 0.02  # Gilbert damping"
   ]
  },
  {
   "cell_type": "markdown",
   "metadata": {},
   "source": [
    "## First stage\n",
    "\n",
    "In the first stage, we need to relax the system at zero external magnetic field.\n",
    "\n",
    "We choose `stdprob4` to be the name of the system. This name will be used to name all output files created by OOMMF."
   ]
  },
  {
   "cell_type": "code",
   "execution_count": 19,
   "metadata": {
    "collapsed": true
   },
   "outputs": [],
   "source": [
    "system = oc.System(name='stdprob4')"
   ]
  },
  {
   "cell_type": "markdown",
   "metadata": {},
   "source": [
    "In order to completely define the micromagnetic system, we need to provide:\n",
    "\n",
    "1. hamiltonian $\\mathcal{H}$\n",
    "2. dynamics $\\text{d}\\mathbf{m}/\\text{d}t$\n",
    "3. magnetisation $\\mathbf{m}$\n",
    "\n",
    "The mesh is created by providing two points `p1` and `p2` between which the mesh domain spans and the size of a discretisation cell. We choose the discretisation to be $(5, 5, 3) \\,\\text{nm}$."
   ]
  },
  {
   "cell_type": "code",
   "execution_count": 20,
   "metadata": {
    "collapsed": false
   },
   "outputs": [],
   "source": [
    "cell = (5e-9, 5e-9, 3e-9)  # mesh discretisation (m)\n",
    "\n",
    "mesh = oc.Mesh(p1=(0, 0, 0), p2=(lx, ly, lz), cell=cell)  # Create a mesh object."
   ]
  },
  {
   "cell_type": "markdown",
   "metadata": {},
   "source": [
    "We can visualise the mesh domain and a discretisation cell:"
   ]
  },
  {
   "cell_type": "code",
   "execution_count": 21,
   "metadata": {
    "collapsed": false
   },
   "outputs": [
    {
     "data": {
      "image/png": "[encoded data removed]",
      "text/plain": [
       "<matplotlib.figure.Figure at 0x7f6da597a2e8>"
      ]
     },
     "metadata": {},
     "output_type": "display_data"
    }
   ],
   "source": [
    "%matplotlib inline\n",
    "mesh"
   ]
  },
  {
   "cell_type": "markdown",
   "metadata": {},
   "source": [
    "**Hamiltonian:** In the second step, we define the system's Hamiltonian. In this standard problem, the Hamiltonian contains only exchange and demagnetisation energy terms. Please note that in the first simulation stage, there is no applied external magnetic field. Therefore, we do not add Zeeman energy term to the Hamiltonian."
   ]
  },
  {
   "cell_type": "code",
   "execution_count": 22,
   "metadata": {
    "collapsed": true
   },
   "outputs": [],
   "source": [
    "system.hamiltonian = oc.Exchange(A) + oc.Demag()"
   ]
  },
  {
   "cell_type": "markdown",
   "metadata": {},
   "source": [
    "We can check what is the continuous model of system's Hamiltonian."
   ]
  },
  {
   "cell_type": "code",
   "execution_count": 23,
   "metadata": {
    "collapsed": false
   },
   "outputs": [
    {
     "data": {
      "text/latex": [
       "$\\mathcal{H}=A [(\\nabla m_{x})^{2} + (\\nabla m_{y})^{2} + (\\nabla m_{z})^{2}]-\\frac{1}{2}\\mu_{0}M_\\text{s}\\mathbf{m} \\cdot \\mathbf{H}_\\text{d}$"
      ],
      "text/plain": [
       "Exchange(A=1.3e-11) + Demag()"
      ]
     },
     "execution_count": 23,
     "metadata": {},
     "output_type": "execute_result"
    }
   ],
   "source": [
    "system.hamiltonian"
   ]
  },
  {
   "cell_type": "markdown",
   "metadata": {},
   "source": [
    "**Dynamics:** Similarly, the system's dynamics is defined by providing precession and damping terms (LLG equation)."
   ]
  },
  {
   "cell_type": "code",
   "execution_count": 24,
   "metadata": {
    "collapsed": false
   },
   "outputs": [
    {
     "data": {
      "text/latex": [
       "$\\frac{\\partial \\mathbf{m}}{\\partial t}=-\\gamma \\mathbf{m} \\times \\mathbf{H}_\\text{eff}+\\alpha \\mathbf{m} \\times\\frac{\\partial \\mathbf{m}}{\\partial t}$"
      ],
      "text/plain": [
       "Precession(gamma=221100.0) + Damping(alpha=0.02)"
      ]
     },
     "execution_count": 24,
     "metadata": {},
     "output_type": "execute_result"
    }
   ],
   "source": [
    "system.dynamics = oc.Precession(gamma) + oc.Damping(alpha)\n",
    "\n",
    "system.dynamics  # check the dynamics equation"
   ]
  },
  {
   "cell_type": "markdown",
   "metadata": {},
   "source": [
    "**Magnetisation:** Finally, we have to provide the magnetisation configuration that is going to be relaxed subsequently. We choose the uniform configuration in $(1, 0.25, 0.1)$ direction, and as norm (magnitude) we set the magnetisation saturation $M_\\text{s}$. In order to create the magnetisation configuration, we create a `Field` object from the `discretisedfield` module."
   ]
  },
  {
   "cell_type": "code",
   "execution_count": 25,
   "metadata": {
    "collapsed": false
   },
   "outputs": [],
   "source": [
    "system.m = df.Field(mesh, value=(1, 0.25, 0.1), norm=Ms)"
   ]
  },
  {
   "cell_type": "markdown",
   "metadata": {},
   "source": [
    "Now, the system is fully defined.\n",
    "\n",
    "**Energy minimisation:** The system (its magnetisation) is evolved using a particular driver. In the first stage, we need to relax the system - minimise its energy. Therefore, we create `MinDriver` object and drive the system using its `drive` method."
   ]
  },
  {
   "cell_type": "code",
   "execution_count": 26,
   "metadata": {
    "collapsed": false
   },
   "outputs": [
    {
     "name": "stdout",
     "output_type": "stream",
     "text": [
      "2017/2/14 13:32: Calling OOMMF (stdprob4/stdprob4.mif) ... [0.8s]\n"
     ]
    }
   ],
   "source": [
    "md = oc.MinDriver()  # create energy minimisation driver\n",
    "md.drive(system)  # minimise the system's energy"
   ]
  },
  {
   "cell_type": "markdown",
   "metadata": {},
   "source": [
    "The system is now relaxed. We can now obtain some data characteristic to the magnetisation field."
   ]
  },
  {
   "cell_type": "code",
   "execution_count": 27,
   "metadata": {
    "collapsed": false
   },
   "outputs": [
    {
     "name": "stdout",
     "output_type": "stream",
     "text": [
      "The average magnetisation is (773766.18071866781, 99856.830057593252, -0.00013837315960229485).\n",
      "The magnetisation at the mesh centre (2.5e-07, 6.25e-08, 1.5e-09) is [  7.99979274e+05  -5.75858665e+03   8.34998171e-04].\n"
     ]
    }
   ],
   "source": [
    "print('The average magnetisation is {}.'.format(system.m.average))\n",
    "\n",
    "print('The magnetisation at the mesh centre {} is {}.'.format(system.m.mesh.centre, system.m(system.m.mesh.centre)))"
   ]
  },
  {
   "cell_type": "markdown",
   "metadata": {},
   "source": [
    "We can also plot the magnetisation along the diagonal:\n",
    "\n",
    "$$\\mathbf{r} = \\mathbf{l}_{0} + d\\mathbf{l},$$\n",
    "\n",
    "with $\\mathbf{l} = (500, 125, 3)$ and $\\mathbf{l}_{0} = (0, 0, 0)$."
   ]
  },
  {
   "cell_type": "code",
   "execution_count": 33,
   "metadata": {
    "collapsed": false
   },
   "outputs": [
    {
     "data": {
      "image/png": "[encoded data removed]",
      "text/plain": [
       "<matplotlib.figure.Figure at 0x7f6da4792550>"
      ]
     },
     "metadata": {},
     "output_type": "display_data"
    }
   ],
   "source": [
    "fig = system.m.plot_line_intersection(l=(500, 125, 3), l0=(0, 0, 0))"
   ]
  },
  {
   "cell_type": "markdown",
   "metadata": {},
   "source": [
    "## Second stage: field $\\mathbf{B}_{1}$"
   ]
  },
  {
   "cell_type": "markdown",
   "metadata": {},
   "source": [
    "In the second stage, we need to apply an external magnetic field $\\mathbf{B}_{1} = (-24.6, 4.3, 0.0) \\,\\text{mT}$ to the system. In other words, we have to add Zeeman energy term to the Hamiltonian."
   ]
  },
  {
   "cell_type": "code",
   "execution_count": 34,
   "metadata": {
    "collapsed": false
   },
   "outputs": [],
   "source": [
    "# Add Zeeman energy term to the Hamiltonian\n",
    "H1 = (-24.6e-3/oc.mu0, 4.3e-3/oc.mu0, 0.0)\n",
    "system.hamiltonian += oc.Zeeman(H1)"
   ]
  },
  {
   "cell_type": "markdown",
   "metadata": {},
   "source": [
    "If we now inspect the Hamiltonian, we see that an additional Zeeman term is added."
   ]
  },
  {
   "cell_type": "code",
   "execution_count": 35,
   "metadata": {
    "collapsed": false
   },
   "outputs": [
    {
     "data": {
      "text/latex": [
       "$\\mathcal{H}=A [(\\nabla m_{x})^{2} + (\\nabla m_{y})^{2} + (\\nabla m_{z})^{2}]-\\frac{1}{2}\\mu_{0}M_\\text{s}\\mathbf{m} \\cdot \\mathbf{H}_\\text{d}-\\mu_{0}M_\\text{s} \\mathbf{m} \\cdot \\mathbf{H}$"
      ],
      "text/plain": [
       "Exchange(A=1.3e-11) + Demag() + Zeeman(H=(-19576.05800030313, 3421.8312764757497, 0.0))"
      ]
     },
     "execution_count": 35,
     "metadata": {},
     "output_type": "execute_result"
    }
   ],
   "source": [
    "system.hamiltonian"
   ]
  },
  {
   "cell_type": "markdown",
   "metadata": {},
   "source": [
    "Finally, we can run the simulation using `TimeDriver` this time. We run the magnetisation evolution for $t=1 \\,\\text{ns}$, during which we save the system's state $n=200$ times."
   ]
  },
  {
   "cell_type": "code",
   "execution_count": 36,
   "metadata": {
    "collapsed": false
   },
   "outputs": [
    {
     "name": "stdout",
     "output_type": "stream",
     "text": [
      "2017/2/14 13:42: Calling OOMMF (stdprob4/stdprob4.mif) ... [4.4s]\n"
     ]
    }
   ],
   "source": [
    "t = 1e-9  # simulation time (s)\n",
    "n = 200  # number of data saving steps\n",
    "\n",
    "td = oc.TimeDriver()  # create time driver\n",
    "td.drive(system, t=t, n=n)  # drive the system"
   ]
  },
  {
   "cell_type": "markdown",
   "metadata": {},
   "source": [
    "### Postprocessing"
   ]
  },
  {
   "cell_type": "markdown",
   "metadata": {},
   "source": [
    "When we drove the system using the `TimeDriver`, we specified that we want to save the magnetisation configuration $n=200$ times. A detailed table of all computed parameters from the last simulation can be shown from the datatable (`system.dt`), which is a `pandas` dataframe [2].\n",
    "\n",
    "For instance, if we want to show the last 10 rows in the table, we run:"
   ]
  },
  {
   "cell_type": "code",
   "execution_count": 38,
   "metadata": {
    "collapsed": false
   },
   "outputs": [
    {
     "data": {
      "text/html": [
       "<div>\n",
       "<table border=\"1\" class=\"dataframe\">\n",
       "  <thead>\n",
       "    <tr style=\"text-align: right;\">\n",
       "      <th></th>\n",
       "      <th>E</th>\n",
       "      <th>Ecount</th>\n",
       "      <th>max_dm/dt</th>\n",
       "      <th>dE/dt</th>\n",
       "      <th>deltaE</th>\n",
       "      <th>Eex</th>\n",
       "      <th>max_spin_angle</th>\n",
       "      <th>stage_max_spin_angle</th>\n",
       "      <th>run_max_spin_angle</th>\n",
       "      <th>Ed</th>\n",
       "      <th>FixedZeeman:zeeman:Energy</th>\n",
       "      <th>iteration</th>\n",
       "      <th>stage_iteration</th>\n",
       "      <th>stage</th>\n",
       "      <th>mx</th>\n",
       "      <th>my</th>\n",
       "      <th>mz</th>\n",
       "      <th>last_time_step</th>\n",
       "      <th>t</th>\n",
       "    </tr>\n",
       "  </thead>\n",
       "  <tbody>\n",
       "    <tr>\n",
       "      <th>190</th>\n",
       "      <td>-2.648879e-18</td>\n",
       "      <td>3641.0</td>\n",
       "      <td>1182.455618</td>\n",
       "      <td>-9.357813e-10</td>\n",
       "      <td>-1.324446e-21</td>\n",
       "      <td>1.315005e-19</td>\n",
       "      <td>5.442422</td>\n",
       "      <td>5.476780</td>\n",
       "      <td>29.615844</td>\n",
       "      <td>7.467975e-19</td>\n",
       "      <td>-3.527177e-18</td>\n",
       "      <td>764.0</td>\n",
       "      <td>3.0</td>\n",
       "      <td>190.0</td>\n",
       "      <td>-0.968535</td>\n",
       "      <td>-0.072429</td>\n",
       "      <td>-0.011204</td>\n",
       "      <td>1.379000e-12</td>\n",
       "      <td>9.550000e-10</td>\n",
       "    </tr>\n",
       "    <tr>\n",
       "      <th>191</th>\n",
       "      <td>-2.653237e-18</td>\n",
       "      <td>3660.0</td>\n",
       "      <td>1080.457914</td>\n",
       "      <td>-8.311923e-10</td>\n",
       "      <td>-1.154533e-21</td>\n",
       "      <td>1.323831e-19</td>\n",
       "      <td>4.914421</td>\n",
       "      <td>5.442422</td>\n",
       "      <td>29.615844</td>\n",
       "      <td>7.430863e-19</td>\n",
       "      <td>-3.528706e-18</td>\n",
       "      <td>768.0</td>\n",
       "      <td>3.0</td>\n",
       "      <td>191.0</td>\n",
       "      <td>-0.969659</td>\n",
       "      <td>-0.076489</td>\n",
       "      <td>-0.000958</td>\n",
       "      <td>1.379175e-12</td>\n",
       "      <td>9.600000e-10</td>\n",
       "    </tr>\n",
       "    <tr>\n",
       "      <th>192</th>\n",
       "      <td>-2.657465e-18</td>\n",
       "      <td>3679.0</td>\n",
       "      <td>908.385576</td>\n",
       "      <td>-8.889951e-10</td>\n",
       "      <td>-1.202408e-21</td>\n",
       "      <td>1.287530e-19</td>\n",
       "      <td>4.783065</td>\n",
       "      <td>4.914421</td>\n",
       "      <td>29.615844</td>\n",
       "      <td>7.549366e-19</td>\n",
       "      <td>-3.541154e-18</td>\n",
       "      <td>772.0</td>\n",
       "      <td>3.0</td>\n",
       "      <td>192.0</td>\n",
       "      <td>-0.972218</td>\n",
       "      <td>-0.071831</td>\n",
       "      <td>0.009096</td>\n",
       "      <td>1.379987e-12</td>\n",
       "      <td>9.650000e-10</td>\n",
       "    </tr>\n",
       "    <tr>\n",
       "      <th>193</th>\n",
       "      <td>-2.662383e-18</td>\n",
       "      <td>3698.0</td>\n",
       "      <td>1014.279343</td>\n",
       "      <td>-1.099466e-09</td>\n",
       "      <td>-1.468491e-21</td>\n",
       "      <td>1.194202e-19</td>\n",
       "      <td>4.761722</td>\n",
       "      <td>4.842241</td>\n",
       "      <td>29.615844</td>\n",
       "      <td>7.815671e-19</td>\n",
       "      <td>-3.563371e-18</td>\n",
       "      <td>776.0</td>\n",
       "      <td>3.0</td>\n",
       "      <td>193.0</td>\n",
       "      <td>-0.975969</td>\n",
       "      <td>-0.058847</td>\n",
       "      <td>0.018538</td>\n",
       "      <td>1.380471e-12</td>\n",
       "      <td>9.700000e-10</td>\n",
       "    </tr>\n",
       "    <tr>\n",
       "      <th>194</th>\n",
       "      <td>-2.668599e-18</td>\n",
       "      <td>3717.0</td>\n",
       "      <td>1133.391283</td>\n",
       "      <td>-1.394726e-09</td>\n",
       "      <td>-1.865992e-21</td>\n",
       "      <td>1.072621e-19</td>\n",
       "      <td>4.282755</td>\n",
       "      <td>4.761722</td>\n",
       "      <td>29.615844</td>\n",
       "      <td>8.166762e-19</td>\n",
       "      <td>-3.592538e-18</td>\n",
       "      <td>780.0</td>\n",
       "      <td>3.0</td>\n",
       "      <td>194.0</td>\n",
       "      <td>-0.980269</td>\n",
       "      <td>-0.038227</td>\n",
       "      <td>0.026962</td>\n",
       "      <td>1.380376e-12</td>\n",
       "      <td>9.750000e-10</td>\n",
       "    </tr>\n",
       "    <tr>\n",
       "      <th>195</th>\n",
       "      <td>-2.676341e-18</td>\n",
       "      <td>3736.0</td>\n",
       "      <td>1161.974957</td>\n",
       "      <td>-1.697394e-09</td>\n",
       "      <td>-2.287855e-21</td>\n",
       "      <td>9.548590e-20</td>\n",
       "      <td>3.912316</td>\n",
       "      <td>4.282755</td>\n",
       "      <td>29.615844</td>\n",
       "      <td>8.530166e-19</td>\n",
       "      <td>-3.624844e-18</td>\n",
       "      <td>784.0</td>\n",
       "      <td>3.0</td>\n",
       "      <td>195.0</td>\n",
       "      <td>-0.984260</td>\n",
       "      <td>-0.010971</td>\n",
       "      <td>0.033987</td>\n",
       "      <td>1.380183e-12</td>\n",
       "      <td>9.800000e-10</td>\n",
       "    </tr>\n",
       "    <tr>\n",
       "      <th>196</th>\n",
       "      <td>-2.685463e-18</td>\n",
       "      <td>3755.0</td>\n",
       "      <td>1258.375452</td>\n",
       "      <td>-1.935260e-09</td>\n",
       "      <td>-2.633248e-21</td>\n",
       "      <td>8.637491e-20</td>\n",
       "      <td>4.154910</td>\n",
       "      <td>4.154910</td>\n",
       "      <td>29.615844</td>\n",
       "      <td>8.844370e-19</td>\n",
       "      <td>-3.656275e-18</td>\n",
       "      <td>788.0</td>\n",
       "      <td>3.0</td>\n",
       "      <td>196.0</td>\n",
       "      <td>-0.987086</td>\n",
       "      <td>0.021592</td>\n",
       "      <td>0.039286</td>\n",
       "      <td>1.380029e-12</td>\n",
       "      <td>9.850000e-10</td>\n",
       "    </tr>\n",
       "    <tr>\n",
       "      <th>197</th>\n",
       "      <td>-2.695498e-18</td>\n",
       "      <td>3774.0</td>\n",
       "      <td>1383.451516</td>\n",
       "      <td>-2.057823e-09</td>\n",
       "      <td>-2.825505e-21</td>\n",
       "      <td>8.039797e-20</td>\n",
       "      <td>4.725975</td>\n",
       "      <td>4.725975</td>\n",
       "      <td>29.615844</td>\n",
       "      <td>9.074607e-19</td>\n",
       "      <td>-3.683357e-18</td>\n",
       "      <td>792.0</td>\n",
       "      <td>3.0</td>\n",
       "      <td>197.0</td>\n",
       "      <td>-0.988092</td>\n",
       "      <td>0.057824</td>\n",
       "      <td>0.042604</td>\n",
       "      <td>1.379623e-12</td>\n",
       "      <td>9.900000e-10</td>\n",
       "    </tr>\n",
       "    <tr>\n",
       "      <th>198</th>\n",
       "      <td>-2.705827e-18</td>\n",
       "      <td>3793.0</td>\n",
       "      <td>1352.413476</td>\n",
       "      <td>-2.053205e-09</td>\n",
       "      <td>-2.841699e-21</td>\n",
       "      <td>7.586054e-20</td>\n",
       "      <td>4.668611</td>\n",
       "      <td>4.775070</td>\n",
       "      <td>29.615844</td>\n",
       "      <td>9.220444e-19</td>\n",
       "      <td>-3.703732e-18</td>\n",
       "      <td>796.0</td>\n",
       "      <td>3.0</td>\n",
       "      <td>198.0</td>\n",
       "      <td>-0.986964</td>\n",
       "      <td>0.095870</td>\n",
       "      <td>0.043794</td>\n",
       "      <td>1.379006e-12</td>\n",
       "      <td>9.950000e-10</td>\n",
       "    </tr>\n",
       "    <tr>\n",
       "      <th>199</th>\n",
       "      <td>-2.715833e-18</td>\n",
       "      <td>3812.0</td>\n",
       "      <td>1192.854484</td>\n",
       "      <td>-1.931678e-09</td>\n",
       "      <td>-2.693207e-21</td>\n",
       "      <td>7.141344e-20</td>\n",
       "      <td>4.352024</td>\n",
       "      <td>4.668611</td>\n",
       "      <td>29.615844</td>\n",
       "      <td>9.291427e-19</td>\n",
       "      <td>-3.716389e-18</td>\n",
       "      <td>800.0</td>\n",
       "      <td>3.0</td>\n",
       "      <td>199.0</td>\n",
       "      <td>-0.983765</td>\n",
       "      <td>0.133793</td>\n",
       "      <td>0.042832</td>\n",
       "      <td>1.378176e-12</td>\n",
       "      <td>1.000000e-09</td>\n",
       "    </tr>\n",
       "  </tbody>\n",
       "</table>\n",
       "</div>"
      ],
      "text/plain": [
       "                E  Ecount    max_dm/dt         dE/dt        deltaE  \\\n",
       "190 -2.648879e-18  3641.0  1182.455618 -9.357813e-10 -1.324446e-21   \n",
       "191 -2.653237e-18  3660.0  1080.457914 -8.311923e-10 -1.154533e-21   \n",
       "192 -2.657465e-18  3679.0   908.385576 -8.889951e-10 -1.202408e-21   \n",
       "193 -2.662383e-18  3698.0  1014.279343 -1.099466e-09 -1.468491e-21   \n",
       "194 -2.668599e-18  3717.0  1133.391283 -1.394726e-09 -1.865992e-21   \n",
       "195 -2.676341e-18  3736.0  1161.974957 -1.697394e-09 -2.287855e-21   \n",
       "196 -2.685463e-18  3755.0  1258.375452 -1.935260e-09 -2.633248e-21   \n",
       "197 -2.695498e-18  3774.0  1383.451516 -2.057823e-09 -2.825505e-21   \n",
       "198 -2.705827e-18  3793.0  1352.413476 -2.053205e-09 -2.841699e-21   \n",
       "199 -2.715833e-18  3812.0  1192.854484 -1.931678e-09 -2.693207e-21   \n",
       "\n",
       "              Eex  max_spin_angle  stage_max_spin_angle  run_max_spin_angle  \\\n",
       "190  1.315005e-19        5.442422              5.476780           29.615844   \n",
       "191  1.323831e-19        4.914421              5.442422           29.615844   \n",
       "192  1.287530e-19        4.783065              4.914421           29.615844   \n",
       "193  1.194202e-19        4.761722              4.842241           29.615844   \n",
       "194  1.072621e-19        4.282755              4.761722           29.615844   \n",
       "195  9.548590e-20        3.912316              4.282755           29.615844   \n",
       "196  8.637491e-20        4.154910              4.154910           29.615844   \n",
       "197  8.039797e-20        4.725975              4.725975           29.615844   \n",
       "198  7.586054e-20        4.668611              4.775070           29.615844   \n",
       "199  7.141344e-20        4.352024              4.668611           29.615844   \n",
       "\n",
       "               Ed  FixedZeeman:zeeman:Energy  iteration  stage_iteration  \\\n",
       "190  7.467975e-19              -3.527177e-18      764.0              3.0   \n",
       "191  7.430863e-19              -3.528706e-18      768.0              3.0   \n",
       "192  7.549366e-19              -3.541154e-18      772.0              3.0   \n",
       "193  7.815671e-19              -3.563371e-18      776.0              3.0   \n",
       "194  8.166762e-19              -3.592538e-18      780.0              3.0   \n",
       "195  8.530166e-19              -3.624844e-18      784.0              3.0   \n",
       "196  8.844370e-19              -3.656275e-18      788.0              3.0   \n",
       "197  9.074607e-19              -3.683357e-18      792.0              3.0   \n",
       "198  9.220444e-19              -3.703732e-18      796.0              3.0   \n",
       "199  9.291427e-19              -3.716389e-18      800.0              3.0   \n",
       "\n",
       "     stage        mx        my        mz  last_time_step             t  \n",
       "190  190.0 -0.968535 -0.072429 -0.011204    1.379000e-12  9.550000e-10  \n",
       "191  191.0 -0.969659 -0.076489 -0.000958    1.379175e-12  9.600000e-10  \n",
       "192  192.0 -0.972218 -0.071831  0.009096    1.379987e-12  9.650000e-10  \n",
       "193  193.0 -0.975969 -0.058847  0.018538    1.380471e-12  9.700000e-10  \n",
       "194  194.0 -0.980269 -0.038227  0.026962    1.380376e-12  9.750000e-10  \n",
       "195  195.0 -0.984260 -0.010971  0.033987    1.380183e-12  9.800000e-10  \n",
       "196  196.0 -0.987086  0.021592  0.039286    1.380029e-12  9.850000e-10  \n",
       "197  197.0 -0.988092  0.057824  0.042604    1.379623e-12  9.900000e-10  \n",
       "198  198.0 -0.986964  0.095870  0.043794    1.379006e-12  9.950000e-10  \n",
       "199  199.0 -0.983765  0.133793  0.042832    1.378176e-12  1.000000e-09  "
      ]
     },
     "execution_count": 38,
     "metadata": {},
     "output_type": "execute_result"
    }
   ],
   "source": [
    "system.dt.tail(10)"
   ]
  },
  {
   "cell_type": "markdown",
   "metadata": {},
   "source": [
    "Finally, we want to plot the average magnetisation configuration `my` as a function of time `t`:"
   ]
  },
  {
   "cell_type": "code",
   "execution_count": 42,
   "metadata": {
    "collapsed": false
   },
   "outputs": [
    {
     "data": {
      "image/png": "[encoded data removed]",
      "text/plain": [
       "<matplotlib.figure.Figure at 0x7f6da5062080>"
      ]
     },
     "metadata": {},
     "output_type": "display_data"
    }
   ],
   "source": [
    "% matplotlib inline\n",
    "myplot = system.dt.plot(\"t\", \"my\")"
   ]
  },
  {
   "cell_type": "markdown",
   "metadata": {},
   "source": [
    "## References\n",
    "\n",
    "[1] µMAG Site Directory: http://www.ctcms.nist.gov/~rdm/mumag.org.html\n",
    "    \n",
    "[2] Pandas: http://pandas.pydata.org/"
   ]
  }
 ],
 "metadata": {
  "kernelspec": {
   "display_name": "Python 3",
   "language": "python",
   "name": "python3"
  },
  "language_info": {
   "codemirror_mode": {
    "name": "ipython",
    "version": 3
   },
   "file_extension": ".py",
   "mimetype": "text/x-python",
   "name": "python",
   "nbconvert_exporter": "python",
   "pygments_lexer": "ipython3",
   "version": "3.5.2"
  }
 },
 "nbformat": 4,
 "nbformat_minor": 0
}
