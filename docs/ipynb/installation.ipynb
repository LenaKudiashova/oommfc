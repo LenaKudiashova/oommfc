{
 "cells": [
  {
   "cell_type": "markdown",
   "metadata": {},
   "source": [
    "# Installation"
   ]
  },
  {
   "cell_type": "markdown",
   "metadata": {},
   "source": [
    "## OOMMFC\n",
    "\n",
    "To install OOMMF Calculator (OOMMFC) Python 3 package, type\n",
    "\n",
    "`python3 -m pip install oommfc`\n",
    "\n",
    "Please note that `python3` is used because oommfc does not support Python 2. If `python3-pip` package is not installed, run in your terminal with permissions:\n",
    "\n",
    "`apt-get install python3-pip`\n",
    "\n",
    "## OOMMF\n",
    "\n",
    "OOMMFC assumes that the OOMMF simulation package is already installed on the system. If you do not have running OOMMF installation:\n",
    "\n",
    "1. Clone the repository\n",
    "\n",
    "`git clone https://github.com/fangohr/oommf.git`\n",
    "\n",
    "2. Make\n",
    "\n",
    "`cd path/to/oommf/repository; make`\n",
    "\n",
    "3. Finally we need to set the environment variable to `oommf.tcl`. In your `.bashrc`, at the end of the file, add\n",
    "\n",
    "`export OOMMFTCL=/path/to/oommf/oommf.tcl`\n",
    "\n",
    "## Docker\n",
    "\n",
    "If OOMMF is not installed on the system, `oommfc` can create Docker containers containing OOMMF and running simulations inside them. To install Docker, please follow instructions on http://www.docker.com.\n",
    "\n",
    "### OOMMFC docker image\n",
    "\n",
    "OOMMFC Docker image is created and simulations can be run inside it:\n",
    "\n",
    "1. `docker pull joommf/oommfc`\n",
    "\n",
    "2. `docker run -ti joommf/oommfc bash`"
   ]
  }
 ],
 "metadata": {
  "kernelspec": {
   "display_name": "Python 3",
   "language": "python",
   "name": "python3"
  },
  "language_info": {
   "codemirror_mode": {
    "name": "ipython",
    "version": 3
   },
   "file_extension": ".py",
   "mimetype": "text/x-python",
   "name": "python",
   "nbconvert_exporter": "python",
   "pygments_lexer": "ipython3",
   "version": "3.4.3"
  }
 },
 "nbformat": 4,
 "nbformat_minor": 0
}
