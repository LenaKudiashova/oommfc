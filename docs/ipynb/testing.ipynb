{
 "cells": [
  {
   "cell_type": "markdown",
   "metadata": {},
   "source": [
    "# Testing\n",
    "\n",
    "To check whether your OOMMFC simulation is complete, you can test it by running:\n",
    "\n",
    "`python3 -c \"import oommfc; oommfc.test()\"`\n",
    "\n",
    "If all tests pass, your OOMMFC is running.\n",
    "\n",
    "**NOTE:** To run the tests, `pytest` should be installed. To install it, run:\n",
    "\n",
    "`python3 -m pip install pytest`"
   ]
  }
 ],
 "metadata": {
  "kernelspec": {
   "display_name": "Python 3",
   "language": "python",
   "name": "python3"
  },
  "language_info": {
   "codemirror_mode": {
    "name": "ipython",
    "version": 3
   },
   "file_extension": ".py",
   "mimetype": "text/x-python",
   "name": "python",
   "nbconvert_exporter": "python",
   "pygments_lexer": "ipython3",
   "version": "3.4.3"
  }
 },
 "nbformat": 4,
 "nbformat_minor": 0
}
