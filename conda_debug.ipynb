{
 "cells": [
  {
   "cell_type": "code",
   "execution_count": 1,
   "metadata": {},
   "outputs": [
    {
     "data": {
      "text/plain": [
       "'win32'"
      ]
     },
     "execution_count": 1,
     "metadata": {},
     "output_type": "execute_result"
    }
   ],
   "source": [
    "import sys\n",
    "import os\n",
    "\n",
    "sys.platform"
   ]
  },
  {
   "cell_type": "code",
   "execution_count": 2,
   "metadata": {},
   "outputs": [
    {
     "data": {
      "text/plain": [
       "'C:\\\\Users\\\\marijanbeg\\\\Miniconda3\\\\envs\\\\joommf'"
      ]
     },
     "execution_count": 2,
     "metadata": {},
     "output_type": "execute_result"
    }
   ],
   "source": [
    "sys.prefix"
   ]
  },
  {
   "cell_type": "code",
   "execution_count": 3,
   "metadata": {},
   "outputs": [
    {
     "data": {
      "text/plain": [
       "'C:\\\\Users\\\\marijanbeg\\\\Miniconda3\\\\envs\\\\joommf\\\\conda-meta'"
      ]
     },
     "execution_count": 3,
     "metadata": {},
     "output_type": "execute_result"
    }
   ],
   "source": [
    "os.path.join(sys.prefix, 'conda-meta')"
   ]
  },
  {
   "cell_type": "code",
   "execution_count": 4,
   "metadata": {},
   "outputs": [
    {
     "data": {
      "text/plain": [
       "True"
      ]
     },
     "execution_count": 4,
     "metadata": {},
     "output_type": "execute_result"
    }
   ],
   "source": [
    "os.path.isdir(os.path.join(sys.prefix, 'conda-meta'))"
   ]
  },
  {
   "cell_type": "code",
   "execution_count": 5,
   "metadata": {},
   "outputs": [],
   "source": [
    "oommf_root = os.path.join(sys.prefix, 'opt', 'oommf')"
   ]
  },
  {
   "cell_type": "code",
   "execution_count": 6,
   "metadata": {},
   "outputs": [
    {
     "data": {
      "text/plain": [
       "True"
      ]
     },
     "execution_count": 6,
     "metadata": {},
     "output_type": "execute_result"
    }
   ],
   "source": [
    "os.path.isdir(oommf_root)"
   ]
  },
  {
   "cell_type": "code",
   "execution_count": 7,
   "metadata": {},
   "outputs": [],
   "source": [
    "from subprocess import run, PIPE"
   ]
  },
  {
   "cell_type": "code",
   "execution_count": 8,
   "metadata": {},
   "outputs": [],
   "source": [
    "oxs_exe = os.path.join(oommf_root, 'app', 'oxs', 'windows-x86_64', 'oxs.exe')"
   ]
  },
  {
   "cell_type": "code",
   "execution_count": 9,
   "metadata": {},
   "outputs": [
    {
     "data": {
      "text/plain": [
       "True"
      ]
     },
     "execution_count": 9,
     "metadata": {},
     "output_type": "execute_result"
    }
   ],
   "source": [
    "os.path.isfile(oxs_exe)"
   ]
  },
  {
   "cell_type": "code",
   "execution_count": 17,
   "metadata": {},
   "outputs": [
    {
     "name": "stdout",
     "output_type": "stream",
     "text": [
      "C:\\Users\\marijanbeg\\Miniconda3\\envs\\joommf\\opt\\oommf\\app\\oxs\\windows-x86_64\\oxs.exe\n",
      "C:\\Users\\marijanbeg\\Miniconda3\\envs\\joommf\\opt\\oommf\\app\\oxs\\boxsi.tcl\n"
     ]
    }
   ],
   "source": [
    "boxsi = os.path.join(oommf_root, 'app', 'oxs', 'boxsi.tcl')\n",
    "print(oxs_exe)\n",
    "print(boxsi)"
   ]
  },
  {
   "cell_type": "code",
   "execution_count": 25,
   "metadata": {},
   "outputs": [],
   "source": [
    "argstr = 'stdprob5\\stdprob5.mif'"
   ]
  },
  {
   "cell_type": "code",
   "execution_count": 26,
   "metadata": {},
   "outputs": [
    {
     "data": {
      "text/plain": [
       "CompletedProcess(args=['C:\\\\Users\\\\marijanbeg\\\\Miniconda3\\\\envs\\\\joommf\\\\opt\\\\oommf\\\\app\\\\oxs\\\\windows-x86_64\\\\oxs.exe', 'C:\\\\Users\\\\marijanbeg\\\\Miniconda3\\\\envs\\\\joommf\\\\opt\\\\oommf\\\\app\\\\oxs\\\\boxsi.tcl', 'stdprob5\\\\stdprob5.mif'], returncode=0, stdout=b'Start: \"C:/Users/marijanbeg/joommf/oommfc/stdprob5/stdprob5.mif\"\\r\\nOptions: -threads 1\\r\\nBoxsi version 2.0a0\\r\\nRunning on: desktop-rolee1d\\r\\nOS/machine: Windows NT/amd64\\r\\nUser: marijanbeg\\tPID: 4300\\r\\nNumber of threads: 1\\r\\nMesh geometry: 20 x 20 x 2 = 800 cells\\r\\nCheckpoint file: C:/Users/marijanbeg/joommf/oommfc/stdprob5/stdprob5.restart\\r\\nBoxsi run end.\\r\\n', stderr=b'')"
      ]
     },
     "execution_count": 26,
     "metadata": {},
     "output_type": "execute_result"
    }
   ],
   "source": [
    "run([oxs_exe, boxsi, argstr], stdout=PIPE, stderr=PIPE)"
   ]
  },
  {
   "cell_type": "code",
   "execution_count": 27,
   "metadata": {},
   "outputs": [
    {
     "name": "stdout",
     "output_type": "stream",
     "text": [
      " Volume in drive C has no label.\n",
      " Volume Serial Number is F4DE-00B6\n",
      "\n",
      " Directory of C:\\Users\\marijanbeg\\joommf\\oommfc\\stdprob5\n",
      "\n",
      "09.04.2018  12:41    <DIR>          .\n",
      "09.04.2018  12:41    <DIR>          ..\n",
      "04.04.2018  16:21            46.825 m0.omf\n",
      "09.04.2018  12:41            44.711 stdprob5-Oxs_MinDriver-Magnetization-00-0000080.omf\n",
      "04.04.2018  16:21               924 stdprob5.mif\n",
      "09.04.2018  12:41            18.878 stdprob5.odt\n",
      "               4 File(s)        111.338 bytes\n",
      "               2 Dir(s)  80.025.473.024 bytes free\n"
     ]
    }
   ],
   "source": [
    "!dir stdprob5"
   ]
  },
  {
   "cell_type": "code",
   "execution_count": 24,
   "metadata": {},
   "outputs": [
    {
     "name": "stdout",
     "output_type": "stream",
     "text": [
      "Start: \"C:/Users/marijanbeg/joommf/oommfc/stdprob3/stdprob3.mif\"\n",
      "Options: -threads 1\n",
      "Boxsi version 2.0a0\n",
      "Running on: desktop-rolee1d\n",
      "OS/machine: Windows NT/amd64\n",
      "User: marijanbeg\tPID: 4216\n",
      "Number of threads: 1\n",
      "Mesh geometry: 16 x 16 x 16 = 4 096 cells\n",
      "Checkpoint file: C:/Users/marijanbeg/joommf/oommfc/stdprob3/stdprob3.restart\n",
      "Boxsi run end.\n"
     ]
    }
   ],
   "source": [
    "!C:\\Users\\marijanbeg\\Miniconda3\\envs\\joommf\\opt\\oommf\\app\\oxs\\windows-x86_64\\oxs.exe C:\\Users\\marijanbeg\\Miniconda3\\envs\\joommf\\opt\\oommf\\app\\oxs\\boxsi.tcl stdprob3\\stdprob3.mif\n"
   ]
  },
  {
   "cell_type": "code",
   "execution_count": null,
   "metadata": {},
   "outputs": [],
   "source": []
  }
 ],
 "metadata": {
  "kernelspec": {
   "display_name": "Python 3",
   "language": "python",
   "name": "python3"
  },
  "language_info": {
   "codemirror_mode": {
    "name": "ipython",
    "version": 3
   },
   "file_extension": ".py",
   "mimetype": "text/x-python",
   "name": "python",
   "nbconvert_exporter": "python",
   "pygments_lexer": "ipython3",
   "version": "3.6.5"
  }
 },
 "nbformat": 4,
 "nbformat_minor": 2
}
